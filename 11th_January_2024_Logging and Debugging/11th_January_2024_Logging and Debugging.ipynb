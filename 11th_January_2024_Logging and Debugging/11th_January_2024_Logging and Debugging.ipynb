{
 "cells": [
  {
   "cell_type": "markdown",
   "id": "a6373a1b",
   "metadata": {},
   "source": [
    "# 11th January 2024 - Logging and Debugging"
   ]
  },
  {
   "cell_type": "markdown",
   "id": "0559f971",
   "metadata": {},
   "source": [
    "## Logging"
   ]
  },
  {
   "cell_type": "code",
   "execution_count": 1,
   "id": "7482d9b7",
   "metadata": {},
   "outputs": [],
   "source": [
    "# importing the logging package\n",
    "import logging as lg # We can call logging package with the name lg (lg is acting as alias for logging)"
   ]
  },
  {
   "cell_type": "code",
   "execution_count": 2,
   "id": "41907768",
   "metadata": {},
   "outputs": [],
   "source": [
    "lg.basicConfig(filename = \"test.log\",level = lg.INFO,format  = '%(asctime)s %(message)s')"
   ]
  },
  {
   "cell_type": "code",
   "execution_count": 3,
   "id": "168e8978",
   "metadata": {},
   "outputs": [],
   "source": [
    "lg.info(\"I am going to start my program.\")"
   ]
  },
  {
   "cell_type": "code",
   "execution_count": 4,
   "id": "41c4577d",
   "metadata": {},
   "outputs": [],
   "source": [
    "lg.warning(\"Here is the first warning.\")"
   ]
  },
  {
   "cell_type": "code",
   "execution_count": 5,
   "id": "dcf0570d",
   "metadata": {},
   "outputs": [],
   "source": [
    "lg.error(\"Error occurred.\")"
   ]
  },
  {
   "cell_type": "code",
   "execution_count": 6,
   "id": "84334054",
   "metadata": {},
   "outputs": [],
   "source": [
    "def test(a,b):\n",
    "    try:\n",
    "        div = a/b\n",
    "        return div\n",
    "    except Exception as e:\n",
    "        print(\"You can check log for more information.\")\n",
    "        lg.error(\"Division by zero\")\n",
    "        lg.exception(str(e))"
   ]
  },
  {
   "cell_type": "code",
   "execution_count": 7,
   "id": "c4721793",
   "metadata": {},
   "outputs": [
    {
     "name": "stdout",
     "output_type": "stream",
     "text": [
      "You can check log for more information.\n"
     ]
    }
   ],
   "source": [
    "test(4,0) # Denominator is 0"
   ]
  },
  {
   "cell_type": "code",
   "execution_count": 8,
   "id": "442f5f9e",
   "metadata": {},
   "outputs": [],
   "source": [
    "lg.shutdown()"
   ]
  },
  {
   "cell_type": "code",
   "execution_count": 9,
   "id": "9019edc6",
   "metadata": {},
   "outputs": [],
   "source": [
    "lg.debug(\"This is for debugging.\") # This now won't log anything in test.log file"
   ]
  },
  {
   "cell_type": "code",
   "execution_count": 10,
   "id": "1866209e",
   "metadata": {},
   "outputs": [],
   "source": [
    "lg.critical(\"This is critical log.\")"
   ]
  },
  {
   "cell_type": "markdown",
   "id": "2e1aa365",
   "metadata": {},
   "source": [
    "## Task\n",
    "### Q1. Create a logger in your code.\n",
    "### Q2. Create a function which can take any number of input as an arguement and it will be able to return sum of it.\n",
    "### Q3. Capture user input in log.\n",
    "### Q4. Give user instruction in log file.\n",
    "### Q5. Read a log file from python code and show all the logging in console."
   ]
  },
  {
   "cell_type": "markdown",
   "id": "e6e10fb9",
   "metadata": {},
   "source": [
    "### Solution of Q1"
   ]
  },
  {
   "cell_type": "code",
   "execution_count": 11,
   "id": "7fc5f9d3",
   "metadata": {},
   "outputs": [],
   "source": [
    "import logging as lg"
   ]
  },
  {
   "cell_type": "code",
   "execution_count": 12,
   "id": "bb483248",
   "metadata": {},
   "outputs": [],
   "source": [
    "lg.basicConfig(filename = \"test2.log\",level = lg.INFO, format = '%(asctime)s %(message)s')"
   ]
  },
  {
   "cell_type": "markdown",
   "id": "804178a5",
   "metadata": {},
   "source": [
    "### Solution of Q2, Q3 and Q4"
   ]
  },
  {
   "cell_type": "code",
   "execution_count": 13,
   "id": "b4173f01",
   "metadata": {},
   "outputs": [],
   "source": [
    "def sumnum(*args):\n",
    "    lg.info(\"User executed the program\")\n",
    "    lg.info(\"User sent number of arguements = \" + str(len(args)))\n",
    "    sumation = 0\n",
    "    for i in args:\n",
    "        sumation = sumation + i\n",
    "    return sumation"
   ]
  },
  {
   "cell_type": "code",
   "execution_count": 14,
   "id": "27b2c4db",
   "metadata": {},
   "outputs": [
    {
     "data": {
      "text/plain": [
       "6"
      ]
     },
     "execution_count": 14,
     "metadata": {},
     "output_type": "execute_result"
    }
   ],
   "source": [
    "sumnum(1,2,3)"
   ]
  },
  {
   "cell_type": "code",
   "execution_count": 15,
   "id": "666b89bc",
   "metadata": {},
   "outputs": [
    {
     "data": {
      "text/plain": [
       "10"
      ]
     },
     "execution_count": 15,
     "metadata": {},
     "output_type": "execute_result"
    }
   ],
   "source": [
    "sumnum(1,2,3,4)"
   ]
  },
  {
   "cell_type": "markdown",
   "id": "df8f42a9",
   "metadata": {},
   "source": [
    "### Solution of Q5"
   ]
  },
  {
   "cell_type": "code",
   "execution_count": 16,
   "id": "70bcca46",
   "metadata": {},
   "outputs": [],
   "source": [
    "f = open(\"test2.log\",\"r\")"
   ]
  },
  {
   "cell_type": "code",
   "execution_count": 17,
   "id": "2b4d035d",
   "metadata": {},
   "outputs": [
    {
     "name": "stdout",
     "output_type": "stream",
     "text": [
      "2024-01-11 16:16:37,329 User executed the program\n",
      "2024-01-11 16:16:37,474 User executed the program\n",
      "2024-01-11 16:16:37,599 User executed the program\n",
      "2024-01-11 16:16:37,720 User executed the program\n",
      "2024-01-11 16:16:37,846 User executed the program\n",
      "2024-01-11 16:16:37,970 User executed the program\n",
      "2024-01-11 16:17:22,207 User executed the program\n",
      "2024-01-11 16:17:32,932 User executed the program\n",
      "2024-01-11 16:17:32,932 User sent number of arguements = 3\n",
      "2024-01-11 16:17:45,857 User executed the program\n",
      "2024-01-11 16:17:45,857 User sent number of arguements = 4\n",
      "2024-01-11 16:33:47,707 This is my first test code for log\n",
      "2024-01-11 16:35:24,618 This is info for logger1\n",
      "2024-01-11 16:35:52,485 This is info for logger1\n",
      "2024-01-11 16:36:38,476 This is info for logger1\n",
      "2024-01-11 16:36:38,479 This is info for logger2\n",
      "2024-01-11 16:36:58,383 This is my first test code for log\n",
      "2024-01-11 16:37:00,588 This is info for logger1\n",
      "2024-01-11 16:37:00,592 This is info for logger2\n",
      "2024-01-11 16:37:47,396 This is my first test code for log\n",
      "2024-01-11 16:37:49,995 This is info for logger1\n",
      "2024-01-11 16:37:49,998 This is info for logger2\n",
      "2024-01-11 16:40:51,502 This is my first test code for log\n",
      "2024-01-11 16:40:54,197 This is info for logger1\n",
      "2024-01-11 16:40:54,202 This is info for logger2\n",
      "root - 2024-01-16 07:18:18,935 - INFO - main log\n",
      "user1 - 2024-01-16 07:18:18,938 - INFO - this is from user1 info\n",
      "user2 - 2024-01-16 07:18:18,939 - DEBUG - This is from user2 debug\n",
      "root - 2024-01-16 07:21:07,523 - INFO - I am going to start my program.\n",
      "root - 2024-01-16 07:21:07,771 - WARNING - Here is the first warning.\n",
      "root - 2024-01-16 07:21:08,840 - ERROR - Error occurred.\n",
      "root - 2024-01-16 07:21:25,324 - ERROR - Division by zero\n",
      "root - 2024-01-16 07:21:25,325 - ERROR - division by zero\n",
      "Traceback (most recent call last):\n",
      "  File \"C:\\Users\\Asus\\AppData\\Local\\Temp/ipykernel_17320/2307235748.py\", line 3, in test\n",
      "    div = a/b\n",
      "ZeroDivisionError: division by zero\n",
      "root - 2024-01-16 07:21:28,194 - DEBUG - This is for debugging.\n",
      "root - 2024-01-16 07:21:28,610 - CRITICAL - This is critical log.\n",
      "root - 2024-01-16 07:21:33,288 - INFO - User executed the program\n",
      "root - 2024-01-16 07:21:33,291 - INFO - User sent number of arguements = 3\n",
      "root - 2024-01-16 07:21:33,729 - INFO - User executed the program\n",
      "root - 2024-01-16 07:21:33,731 - INFO - User sent number of arguements = 4\n",
      "root - 2024-01-16 07:21:37,418 - INFO - This is my first test code for log\n",
      "logger1.area1 - 2024-01-16 07:21:38,109 - INFO - This is info for logger1\n",
      "logger2.area2 - 2024-01-16 07:21:38,111 - DEBUG - This is debug for logger2\n",
      "logger2.area2 - 2024-01-16 07:21:38,112 - INFO - This is info for logger2\n",
      "root - 2024-01-16 07:21:38,477 - INFO - main log\n",
      "user1 - 2024-01-16 07:21:38,481 - INFO - this is from user1 info\n",
      "user2 - 2024-01-16 07:21:38,485 - DEBUG - This is from user2 debug\n",
      "\n"
     ]
    }
   ],
   "source": [
    "print(f.read())"
   ]
  },
  {
   "cell_type": "code",
   "execution_count": 18,
   "id": "c6ed0fd6",
   "metadata": {},
   "outputs": [],
   "source": [
    "lg.shutdown()"
   ]
  },
  {
   "cell_type": "code",
   "execution_count": 19,
   "id": "0da8e7e0",
   "metadata": {},
   "outputs": [],
   "source": [
    "import logging as lg\n",
    "lg.basicConfig(filename = \"test2.log\",level = lg.INFO, format = '%(asctime)s %(name)s %(levelname)s %(message)s')"
   ]
  },
  {
   "cell_type": "code",
   "execution_count": 20,
   "id": "2d27fe70",
   "metadata": {},
   "outputs": [],
   "source": [
    "# Printing the logging from file test2.log\n",
    "console_log = lg.StreamHandler()\n",
    "console_log.setLevel(lg.INFO)"
   ]
  },
  {
   "cell_type": "code",
   "execution_count": 21,
   "id": "be09675d",
   "metadata": {},
   "outputs": [],
   "source": [
    "format = '%(asctime)s %(name)s %(levelname)s %(message)s'"
   ]
  },
  {
   "cell_type": "code",
   "execution_count": 22,
   "id": "ff1378c8",
   "metadata": {},
   "outputs": [],
   "source": [
    "console_log.setFormatter(format)"
   ]
  },
  {
   "cell_type": "code",
   "execution_count": 23,
   "id": "634c41e6",
   "metadata": {},
   "outputs": [],
   "source": [
    "lg.getLogger().addHandler(console_log)"
   ]
  },
  {
   "cell_type": "code",
   "execution_count": 24,
   "id": "bafdcb33",
   "metadata": {},
   "outputs": [
    {
     "name": "stderr",
     "output_type": "stream",
     "text": [
      "%(asctime)s %(name)s %(levelname)s %(message)s\n"
     ]
    }
   ],
   "source": [
    "lg.info(\"This is my first test code for log\")"
   ]
  },
  {
   "cell_type": "code",
   "execution_count": 25,
   "id": "8ad7af6f",
   "metadata": {},
   "outputs": [],
   "source": [
    "logger1 = lg.getLogger('logger1.area1')\n",
    "logger2 = lg.getLogger('logger2.area2')"
   ]
  },
  {
   "cell_type": "code",
   "execution_count": 26,
   "id": "9f7a6903",
   "metadata": {},
   "outputs": [
    {
     "name": "stderr",
     "output_type": "stream",
     "text": [
      "%(asctime)s %(name)s %(levelname)s %(message)s\n",
      "%(asctime)s %(name)s %(levelname)s %(message)s\n"
     ]
    }
   ],
   "source": [
    "logger1.info('This is info for logger1')\n",
    "logger2.debug('This is debug for logger2')\n",
    "logger2.info('This is info for logger2')"
   ]
  },
  {
   "cell_type": "code",
   "execution_count": 27,
   "id": "5465ec2b",
   "metadata": {},
   "outputs": [
    {
     "name": "stderr",
     "output_type": "stream",
     "text": [
      "%(asctime)s %(name)s %(levelname)s %(message)s\n",
      "root - 2024-01-16 07:48:57,295 - INFO - main log\n",
      "%(asctime)s %(name)s %(levelname)s %(message)s\n",
      "user1 - 2024-01-16 07:48:57,297 - INFO - this is from user1 info\n"
     ]
    }
   ],
   "source": [
    "import logging\n",
    "logging.basicConfig(filename='test2.log',level=logging.DEBUG,format = '%(name)s - %(asctime)s - %(levelname)s - %(message)s')\n",
    "# Create handlers\n",
    "console_log = logging.StreamHandler()\n",
    "console_log.setLevel(logging.DEBUG)\n",
    "format = logging.Formatter('%(name)s - %(asctime)s - %(levelname)s - %(message)s')\n",
    "console_log.setFormatter(format)\n",
    "# Create a custom logger\n",
    "logging.getLogger('').addHandler(console_log)\n",
    "logging.info('main log')\n",
    "logger1 = logging.getLogger('user1')\n",
    "logger2 = logging.getLogger('user2')\n",
    "logger1.info('this is from user1 info')\n",
    "logger2.debug('This is from user2 debug')"
   ]
  },
  {
   "cell_type": "markdown",
   "id": "da97957c",
   "metadata": {},
   "source": [
    "## Debugging"
   ]
  },
  {
   "cell_type": "code",
   "execution_count": 28,
   "id": "cb780e45",
   "metadata": {},
   "outputs": [],
   "source": [
    "def test_debug():\n",
    "    l = []\n",
    "    for i in range(10):\n",
    "        l.append(i)\n",
    "        print(\"Appended Data\")\n",
    "    return l"
   ]
  },
  {
   "cell_type": "code",
   "execution_count": 29,
   "id": "9c975f6e",
   "metadata": {},
   "outputs": [
    {
     "name": "stdout",
     "output_type": "stream",
     "text": [
      "Appended Data\n",
      "Appended Data\n",
      "Appended Data\n",
      "Appended Data\n",
      "Appended Data\n",
      "Appended Data\n",
      "Appended Data\n",
      "Appended Data\n",
      "Appended Data\n",
      "Appended Data\n"
     ]
    },
    {
     "data": {
      "text/plain": [
       "[0, 1, 2, 3, 4, 5, 6, 7, 8, 9]"
      ]
     },
     "execution_count": 29,
     "metadata": {},
     "output_type": "execute_result"
    }
   ],
   "source": [
    "test_debug()"
   ]
  },
  {
   "cell_type": "code",
   "execution_count": 30,
   "id": "83b158c3",
   "metadata": {},
   "outputs": [
    {
     "name": "stdout",
     "output_type": "stream",
     "text": [
      "Requirement already satisfied: ipdb in c:\\users\\asus\\anaconda3\\lib\\site-packages (0.13.13)\n",
      "Requirement already satisfied: ipython>=7.31.1 in c:\\users\\asus\\anaconda3\\lib\\site-packages (from ipdb) (8.18.1)\n",
      "Requirement already satisfied: decorator in c:\\users\\asus\\anaconda3\\lib\\site-packages (from ipdb) (5.1.0)\n",
      "Requirement already satisfied: tomli in c:\\users\\asus\\anaconda3\\lib\\site-packages (from ipdb) (2.0.1)\n",
      "Requirement already satisfied: jedi>=0.16 in c:\\users\\asus\\anaconda3\\lib\\site-packages (from ipython>=7.31.1->ipdb) (0.18.0)\n",
      "Requirement already satisfied: matplotlib-inline in c:\\users\\asus\\anaconda3\\lib\\site-packages (from ipython>=7.31.1->ipdb) (0.1.2)\n",
      "Requirement already satisfied: exceptiongroup in c:\\users\\asus\\anaconda3\\lib\\site-packages (from ipython>=7.31.1->ipdb) (1.2.0)\n",
      "Requirement already satisfied: prompt-toolkit<3.1.0,>=3.0.41 in c:\\users\\asus\\anaconda3\\lib\\site-packages (from ipython>=7.31.1->ipdb) (3.0.43)\n",
      "Requirement already satisfied: colorama in c:\\users\\asus\\anaconda3\\lib\\site-packages (from ipython>=7.31.1->ipdb) (0.4.4)\n",
      "Requirement already satisfied: pygments>=2.4.0 in c:\\users\\asus\\anaconda3\\lib\\site-packages (from ipython>=7.31.1->ipdb) (2.10.0)\n",
      "Requirement already satisfied: traitlets>=5 in c:\\users\\asus\\anaconda3\\lib\\site-packages (from ipython>=7.31.1->ipdb) (5.1.0)\n",
      "Requirement already satisfied: stack-data in c:\\users\\asus\\anaconda3\\lib\\site-packages (from ipython>=7.31.1->ipdb) (0.6.3)\n",
      "Requirement already satisfied: typing-extensions in c:\\users\\asus\\anaconda3\\lib\\site-packages (from ipython>=7.31.1->ipdb) (3.10.0.2)\n",
      "Requirement already satisfied: parso<0.9.0,>=0.8.0 in c:\\users\\asus\\anaconda3\\lib\\site-packages (from jedi>=0.16->ipython>=7.31.1->ipdb) (0.8.2)\n",
      "Requirement already satisfied: wcwidth in c:\\users\\asus\\anaconda3\\lib\\site-packages (from prompt-toolkit<3.1.0,>=3.0.41->ipython>=7.31.1->ipdb) (0.2.5)\n",
      "Requirement already satisfied: pure-eval in c:\\users\\asus\\anaconda3\\lib\\site-packages (from stack-data->ipython>=7.31.1->ipdb) (0.2.2)\n",
      "Requirement already satisfied: executing>=1.2.0 in c:\\users\\asus\\anaconda3\\lib\\site-packages (from stack-data->ipython>=7.31.1->ipdb) (2.0.1)\n",
      "Requirement already satisfied: asttokens>=2.1.0 in c:\\users\\asus\\anaconda3\\lib\\site-packages (from stack-data->ipython>=7.31.1->ipdb) (2.4.1)\n",
      "Requirement already satisfied: six>=1.12.0 in c:\\users\\asus\\anaconda3\\lib\\site-packages (from asttokens>=2.1.0->stack-data->ipython>=7.31.1->ipdb) (1.16.0)\n"
     ]
    }
   ],
   "source": [
    "# Installing the debugger \n",
    "!pip install ipdb"
   ]
  },
  {
   "cell_type": "code",
   "execution_count": 2,
   "id": "30233d1c",
   "metadata": {},
   "outputs": [],
   "source": [
    "import ipdb"
   ]
  },
  {
   "cell_type": "code",
   "execution_count": 3,
   "id": "bdcd5457",
   "metadata": {},
   "outputs": [],
   "source": [
    "def testdebug():\n",
    "    ipdb.set_trace()\n",
    "    l = []\n",
    "    for i in range(10):\n",
    "        for j in range(5):\n",
    "            l.append(i)\n",
    "            if i == 4 :\n",
    "                continue\n",
    "            print(\"we have appended your data in list \")\n",
    "    return l"
   ]
  },
  {
   "cell_type": "code",
   "execution_count": 4,
   "id": "131cbffe",
   "metadata": {},
   "outputs": [
    {
     "name": "stdout",
     "output_type": "stream",
     "text": [
      "> \u001b[1;32mc:\\users\\asus\\appdata\\local\\temp\\ipykernel_11684\\3119357925.py\u001b[0m(3)\u001b[0;36mtestdebug\u001b[1;34m()\u001b[0m\n",
      "\n",
      "ipdb> h\n",
      "\n",
      "Documented commands (type help <topic>):\n",
      "========================================\n",
      "EOF    commands   enable      list      pinfo2   rv               unt   \n",
      "a      condition  exceptions  ll        pp       s                until \n",
      "alias  cont       exit        longlist  psource  skip_hidden      up    \n",
      "args   context    h           n         q        skip_predicates  w     \n",
      "b      continue   help        next      quit     source           whatis\n",
      "break  d          ignore      p         r        step             where \n",
      "bt     debug      interact    pdef      restart  tbreak         \n",
      "c      disable    j           pdoc      return   u              \n",
      "cl     display    jump        pfile     retval   unalias        \n",
      "clear  down       l           pinfo     run      undisplay      \n",
      "\n",
      "Miscellaneous help topics:\n",
      "==========================\n",
      "exec  pdb\n",
      "\n",
      "ipdb> next\n",
      "> \u001b[1;32mc:\\users\\asus\\appdata\\local\\temp\\ipykernel_11684\\3119357925.py\u001b[0m(4)\u001b[0;36mtestdebug\u001b[1;34m()\u001b[0m\n",
      "\n",
      "ipdb> next\n",
      "> \u001b[1;32mc:\\users\\asus\\appdata\\local\\temp\\ipykernel_11684\\3119357925.py\u001b[0m(5)\u001b[0;36mtestdebug\u001b[1;34m()\u001b[0m\n",
      "\n",
      "ipdb> c\n",
      "we have appended your data in list \n",
      "we have appended your data in list \n",
      "we have appended your data in list \n",
      "we have appended your data in list \n",
      "we have appended your data in list \n",
      "we have appended your data in list \n",
      "we have appended your data in list \n",
      "we have appended your data in list \n",
      "we have appended your data in list \n",
      "we have appended your data in list \n",
      "we have appended your data in list \n",
      "we have appended your data in list \n",
      "we have appended your data in list \n",
      "we have appended your data in list \n",
      "we have appended your data in list \n",
      "we have appended your data in list \n",
      "we have appended your data in list \n",
      "we have appended your data in list \n",
      "we have appended your data in list \n",
      "we have appended your data in list \n",
      "we have appended your data in list \n",
      "we have appended your data in list \n",
      "we have appended your data in list \n",
      "we have appended your data in list \n",
      "we have appended your data in list \n",
      "we have appended your data in list \n",
      "we have appended your data in list \n",
      "we have appended your data in list \n",
      "we have appended your data in list \n",
      "we have appended your data in list \n",
      "we have appended your data in list \n",
      "we have appended your data in list \n",
      "we have appended your data in list \n",
      "we have appended your data in list \n",
      "we have appended your data in list \n",
      "we have appended your data in list \n",
      "we have appended your data in list \n",
      "we have appended your data in list \n",
      "we have appended your data in list \n",
      "we have appended your data in list \n",
      "we have appended your data in list \n",
      "we have appended your data in list \n",
      "we have appended your data in list \n",
      "we have appended your data in list \n",
      "we have appended your data in list \n"
     ]
    },
    {
     "data": {
      "text/plain": [
       "[0,\n",
       " 0,\n",
       " 0,\n",
       " 0,\n",
       " 0,\n",
       " 1,\n",
       " 1,\n",
       " 1,\n",
       " 1,\n",
       " 1,\n",
       " 2,\n",
       " 2,\n",
       " 2,\n",
       " 2,\n",
       " 2,\n",
       " 3,\n",
       " 3,\n",
       " 3,\n",
       " 3,\n",
       " 3,\n",
       " 4,\n",
       " 4,\n",
       " 4,\n",
       " 4,\n",
       " 4,\n",
       " 5,\n",
       " 5,\n",
       " 5,\n",
       " 5,\n",
       " 5,\n",
       " 6,\n",
       " 6,\n",
       " 6,\n",
       " 6,\n",
       " 6,\n",
       " 7,\n",
       " 7,\n",
       " 7,\n",
       " 7,\n",
       " 7,\n",
       " 8,\n",
       " 8,\n",
       " 8,\n",
       " 8,\n",
       " 8,\n",
       " 9,\n",
       " 9,\n",
       " 9,\n",
       " 9,\n",
       " 9]"
      ]
     },
     "execution_count": 4,
     "metadata": {},
     "output_type": "execute_result"
    }
   ],
   "source": [
    "testdebug()"
   ]
  }
 ],
 "metadata": {
  "kernelspec": {
   "display_name": "Python 3 (ipykernel)",
   "language": "python",
   "name": "python3"
  },
  "language_info": {
   "codemirror_mode": {
    "name": "ipython",
    "version": 3
   },
   "file_extension": ".py",
   "mimetype": "text/x-python",
   "name": "python",
   "nbconvert_exporter": "python",
   "pygments_lexer": "ipython3",
   "version": "3.9.7"
  }
 },
 "nbformat": 4,
 "nbformat_minor": 5
}
