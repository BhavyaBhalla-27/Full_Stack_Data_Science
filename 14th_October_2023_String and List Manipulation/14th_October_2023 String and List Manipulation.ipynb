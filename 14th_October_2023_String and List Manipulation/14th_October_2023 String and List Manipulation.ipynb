{
 "cells": [
  {
   "cell_type": "markdown",
   "id": "36900370",
   "metadata": {},
   "source": [
    "# 14th October 2023 - String and List Manipulation"
   ]
  },
  {
   "cell_type": "markdown",
   "id": "cfe427c1",
   "metadata": {},
   "source": [
    "### String Manipulation"
   ]
  },
  {
   "cell_type": "code",
   "execution_count": 3,
   "id": "8d6887a5",
   "metadata": {},
   "outputs": [
    {
     "ename": "SyntaxError",
     "evalue": "unterminated string literal (detected at line 1) (3488974503.py, line 1)",
     "output_type": "error",
     "traceback": [
      "\u001b[1;36m  Cell \u001b[1;32mIn[3], line 1\u001b[1;36m\u001b[0m\n\u001b[1;33m    my_string = \"Bhavya is a good boy. He\"s good in maths\"\u001b[0m\n\u001b[1;37m                                                         ^\u001b[0m\n\u001b[1;31mSyntaxError\u001b[0m\u001b[1;31m:\u001b[0m unterminated string literal (detected at line 1)\n"
     ]
    }
   ],
   "source": [
    "my_string = \"Bhavya is a good boy. He\"s good in maths\"\n",
    "print(my_string)"
   ]
  },
  {
   "cell_type": "code",
   "execution_count": 4,
   "id": "cba480f0",
   "metadata": {},
   "outputs": [
    {
     "name": "stdout",
     "output_type": "stream",
     "text": [
      "Bhavya is a good boy. He\"s good in maths.\n"
     ]
    }
   ],
   "source": [
    "# Using double quotes inside the string\n",
    "my_string = 'Bhavya is a good boy. He\"s good in maths.'\n",
    "print(my_string)"
   ]
  },
  {
   "cell_type": "code",
   "execution_count": 5,
   "id": "de61f4d8",
   "metadata": {},
   "outputs": [
    {
     "name": "stdout",
     "output_type": "stream",
     "text": [
      "He's good in maths\n"
     ]
    }
   ],
   "source": [
    "# Using single quotes inside the string\n",
    "my_string = \"He's good in maths\"\n",
    "print(my_string)"
   ]
  },
  {
   "cell_type": "code",
   "execution_count": 6,
   "id": "8bcf3d87",
   "metadata": {},
   "outputs": [
    {
     "name": "stdout",
     "output_type": "stream",
     "text": [
      "H\n",
      "s\n"
     ]
    },
    {
     "ename": "IndexError",
     "evalue": "string index out of range",
     "output_type": "error",
     "traceback": [
      "\u001b[1;31m---------------------------------------------------------------------------\u001b[0m",
      "\u001b[1;31mIndexError\u001b[0m                                Traceback (most recent call last)",
      "Cell \u001b[1;32mIn[6], line 4\u001b[0m\n\u001b[0;32m      2\u001b[0m \u001b[38;5;28mprint\u001b[39m(my_string[\u001b[38;5;241m0\u001b[39m])\n\u001b[0;32m      3\u001b[0m \u001b[38;5;28mprint\u001b[39m(my_string[\u001b[38;5;241m-\u001b[39m\u001b[38;5;241m1\u001b[39m])\n\u001b[1;32m----> 4\u001b[0m \u001b[38;5;28mprint\u001b[39m(my_string[\u001b[38;5;241m100\u001b[39m])\n",
      "\u001b[1;31mIndexError\u001b[0m: string index out of range"
     ]
    }
   ],
   "source": [
    "# Each character in a string is stored with the help of index\n",
    "print(my_string[0])\n",
    "print(my_string[-1])\n",
    "print(my_string[100]) # No data is present at 100th index and hence out of index error"
   ]
  },
  {
   "cell_type": "code",
   "execution_count": 10,
   "id": "fbaf7b53",
   "metadata": {},
   "outputs": [
    {
     "name": "stdout",
     "output_type": "stream",
     "text": [
      "e's good \n",
      "\n",
      "shtam ni \n"
     ]
    }
   ],
   "source": [
    "# Slicing in strings\n",
    "print(my_string[1:10:1])\n",
    "print(my_string[-1:-10:1])\n",
    "print(my_string[-1:-10:-1])"
   ]
  },
  {
   "cell_type": "code",
   "execution_count": 16,
   "id": "8746810d",
   "metadata": {},
   "outputs": [
    {
     "name": "stdout",
     "output_type": "stream",
     "text": [
      "H e ' s   g o o d   i n   m a t h s \n",
      "H e ' s   g o o d   i n   m a t h s "
     ]
    }
   ],
   "source": [
    "# Accessing characters of string using for loop\n",
    "for i in my_string:\n",
    "    print(i,end=\" \")\n",
    "print(\"\")\n",
    "for i in range(len(my_string)):\n",
    "    print(my_string[i],end=\" \")"
   ]
  },
  {
   "cell_type": "code",
   "execution_count": 19,
   "id": "ebc8fe59",
   "metadata": {},
   "outputs": [
    {
     "data": {
      "text/plain": [
       "\"shtam ni doog s'eH\""
      ]
     },
     "execution_count": 19,
     "metadata": {},
     "output_type": "execute_result"
    }
   ],
   "source": [
    "# String in reverse order\n",
    "my_string[::-1]"
   ]
  },
  {
   "cell_type": "code",
   "execution_count": 23,
   "id": "eaf54d3c",
   "metadata": {},
   "outputs": [
    {
     "name": "stdout",
     "output_type": "stream",
     "text": [
      "Bhavya Bhalla\n",
      "Bhavya1Bhalla\n"
     ]
    },
    {
     "ename": "TypeError",
     "evalue": "can only concatenate str (not \"list\") to str",
     "output_type": "error",
     "traceback": [
      "\u001b[1;31m---------------------------------------------------------------------------\u001b[0m",
      "\u001b[1;31mTypeError\u001b[0m                                 Traceback (most recent call last)",
      "Cell \u001b[1;32mIn[23], line 4\u001b[0m\n\u001b[0;32m      2\u001b[0m \u001b[38;5;28mprint\u001b[39m(\u001b[38;5;124m\"\u001b[39m\u001b[38;5;124mBhavya\u001b[39m\u001b[38;5;124m\"\u001b[39m \u001b[38;5;241m+\u001b[39m \u001b[38;5;124m\"\u001b[39m\u001b[38;5;124m \u001b[39m\u001b[38;5;124m\"\u001b[39m \u001b[38;5;241m+\u001b[39m \u001b[38;5;124m\"\u001b[39m\u001b[38;5;124mBhalla\u001b[39m\u001b[38;5;124m\"\u001b[39m)\n\u001b[0;32m      3\u001b[0m \u001b[38;5;28mprint\u001b[39m(\u001b[38;5;124m\"\u001b[39m\u001b[38;5;124mBhavya\u001b[39m\u001b[38;5;124m\"\u001b[39m \u001b[38;5;241m+\u001b[39m \u001b[38;5;28mstr\u001b[39m(\u001b[38;5;241m1\u001b[39m) \u001b[38;5;241m+\u001b[39m \u001b[38;5;124m\"\u001b[39m\u001b[38;5;124mBhalla\u001b[39m\u001b[38;5;124m\"\u001b[39m)\n\u001b[1;32m----> 4\u001b[0m \u001b[38;5;28mprint\u001b[39m(\u001b[38;5;124m\"\u001b[39m\u001b[38;5;124mBhavya\u001b[39m\u001b[38;5;124m\"\u001b[39m \u001b[38;5;241m+\u001b[39m [\u001b[38;5;241m1\u001b[39m,\u001b[38;5;241m2\u001b[39m,\u001b[38;5;241m3\u001b[39m])\n",
      "\u001b[1;31mTypeError\u001b[0m: can only concatenate str (not \"list\") to str"
     ]
    }
   ],
   "source": [
    "# Concatenation Operation in Strings\n",
    "print(\"Bhavya\" + \" \" + \"Bhalla\")\n",
    "print(\"Bhavya\" + str(1) + \"Bhalla\")\n",
    "print(\"Bhavya\" + [1,2,3]) # Not possible to concatenate string with list"
   ]
  },
  {
   "cell_type": "markdown",
   "id": "b3a6854b",
   "metadata": {},
   "source": [
    "#### String is an immutable data type i.e. we can not change the content of string once we have defined the string"
   ]
  },
  {
   "cell_type": "code",
   "execution_count": 17,
   "id": "fdefb081",
   "metadata": {},
   "outputs": [
    {
     "ename": "TypeError",
     "evalue": "'str' object does not support item assignment",
     "output_type": "error",
     "traceback": [
      "\u001b[1;31m---------------------------------------------------------------------------\u001b[0m",
      "\u001b[1;31mTypeError\u001b[0m                                 Traceback (most recent call last)",
      "Cell \u001b[1;32mIn[17], line 1\u001b[0m\n\u001b[1;32m----> 1\u001b[0m my_string[\u001b[38;5;241m0\u001b[39m] \u001b[38;5;241m=\u001b[39m \u001b[38;5;124m'\u001b[39m\u001b[38;5;124mS\u001b[39m\u001b[38;5;124m'\u001b[39m\n\u001b[0;32m      2\u001b[0m \u001b[38;5;28mprint\u001b[39m(my_string)\n",
      "\u001b[1;31mTypeError\u001b[0m: 'str' object does not support item assignment"
     ]
    }
   ],
   "source": [
    "my_string[0] = 'S'\n",
    "print(my_string)"
   ]
  },
  {
   "cell_type": "markdown",
   "id": "e56dd12e",
   "metadata": {},
   "source": [
    "#### Inbuilt Functions of Strings"
   ]
  },
  {
   "cell_type": "code",
   "execution_count": 24,
   "id": "0c68b346",
   "metadata": {},
   "outputs": [
    {
     "data": {
      "text/plain": [
       "'my name is bhavya bhalla'"
      ]
     },
     "execution_count": 24,
     "metadata": {},
     "output_type": "execute_result"
    }
   ],
   "source": [
    "s = \"my name is bhavya bhalla\"\n",
    "s"
   ]
  },
  {
   "cell_type": "code",
   "execution_count": 27,
   "id": "031aecc5",
   "metadata": {},
   "outputs": [
    {
     "name": "stdout",
     "output_type": "stream",
     "text": [
      "0\n",
      "11\n",
      "-1\n"
     ]
    }
   ],
   "source": [
    "# find method \n",
    "print(s.find(\"m\"))\n",
    "print(s.find(\"bh\"))\n",
    "print(s.find(\"x\"))"
   ]
  },
  {
   "cell_type": "code",
   "execution_count": 37,
   "id": "27766616",
   "metadata": {},
   "outputs": [
    {
     "name": "stdout",
     "output_type": "stream",
     "text": [
      "3\n",
      "4\n",
      "5\n",
      "6\n"
     ]
    }
   ],
   "source": [
    "# We have a string say my name is bhavya bhalla and we have to find index of each character present in name\n",
    "s = \"my name is bhavya bhalla\"\n",
    "index = s.find(\"name\")\n",
    "for i in range(len(\"name\")):\n",
    "    print(index + i)"
   ]
  },
  {
   "cell_type": "code",
   "execution_count": 40,
   "id": "fcd48263",
   "metadata": {},
   "outputs": [
    {
     "name": "stdout",
     "output_type": "stream",
     "text": [
      "2\n",
      "2\n"
     ]
    },
    {
     "ename": "AttributeError",
     "evalue": "'str' object has no attribute 'cound'",
     "output_type": "error",
     "traceback": [
      "\u001b[1;31m---------------------------------------------------------------------------\u001b[0m",
      "\u001b[1;31mAttributeError\u001b[0m                            Traceback (most recent call last)",
      "Cell \u001b[1;32mIn[40], line 4\u001b[0m\n\u001b[0;32m      2\u001b[0m \u001b[38;5;28mprint\u001b[39m(s\u001b[38;5;241m.\u001b[39mcount(\u001b[38;5;124m\"\u001b[39m\u001b[38;5;124mm\u001b[39m\u001b[38;5;124m\"\u001b[39m))\n\u001b[0;32m      3\u001b[0m \u001b[38;5;28mprint\u001b[39m(s\u001b[38;5;241m.\u001b[39mcount(\u001b[38;5;124m\"\u001b[39m\u001b[38;5;124mbh\u001b[39m\u001b[38;5;124m\"\u001b[39m))\n\u001b[1;32m----> 4\u001b[0m \u001b[38;5;28mprint\u001b[39m(s\u001b[38;5;241m.\u001b[39mcound(\u001b[38;5;124m\"\u001b[39m\u001b[38;5;124mx\u001b[39m\u001b[38;5;124m\"\u001b[39m))\n",
      "\u001b[1;31mAttributeError\u001b[0m: 'str' object has no attribute 'cound'"
     ]
    }
   ],
   "source": [
    "# count function\n",
    "print(s.count(\"m\"))\n",
    "print(s.count(\"bh\"))\n",
    "print(s.cound(\"x\"))"
   ]
  },
  {
   "cell_type": "code",
   "execution_count": 45,
   "id": "d8a95bd4",
   "metadata": {},
   "outputs": [
    {
     "name": "stdout",
     "output_type": "stream",
     "text": [
      "['my', 'name', 'is', 'bhavya', 'bhalla']\n",
      "['my', 'name1', 'is', 'bhavya', 'bhalla']\n"
     ]
    }
   ],
   "source": [
    "# split function\n",
    "print(s.split()) # By default it uses space as a delimiter\n",
    "s1 = 'my_name1_is_bhavya_bhalla'\n",
    "print(s1.split('_'))"
   ]
  },
  {
   "cell_type": "code",
   "execution_count": 46,
   "id": "9ff7517d",
   "metadata": {},
   "outputs": [
    {
     "data": {
      "text/plain": [
       "'MY NAME IS BHAVYA BHALLA'"
      ]
     },
     "execution_count": 46,
     "metadata": {},
     "output_type": "execute_result"
    }
   ],
   "source": [
    "# upper function\n",
    "s.upper()"
   ]
  },
  {
   "cell_type": "code",
   "execution_count": 47,
   "id": "98411332",
   "metadata": {},
   "outputs": [
    {
     "data": {
      "text/plain": [
       "'my name is bhavya bhalla'"
      ]
     },
     "execution_count": 47,
     "metadata": {},
     "output_type": "execute_result"
    }
   ],
   "source": [
    "# lower function\n",
    "s.lower()"
   ]
  },
  {
   "cell_type": "code",
   "execution_count": 48,
   "id": "2bf00292",
   "metadata": {},
   "outputs": [
    {
     "data": {
      "text/plain": [
       "'My NamE'"
      ]
     },
     "execution_count": 48,
     "metadata": {},
     "output_type": "execute_result"
    }
   ],
   "source": [
    "# swapcase function\n",
    "s = \"mY nAMe\"\n",
    "s.swapcase()"
   ]
  },
  {
   "cell_type": "code",
   "execution_count": 53,
   "id": "204c8476",
   "metadata": {},
   "outputs": [
    {
     "data": {
      "text/plain": [
       "'m_y_ _n_a_m_e'"
      ]
     },
     "execution_count": 53,
     "metadata": {},
     "output_type": "execute_result"
    }
   ],
   "source": [
    "# join function\n",
    "\"_\".join(\"my name\")"
   ]
  },
  {
   "cell_type": "code",
   "execution_count": 54,
   "id": "3c2b69e6",
   "metadata": {},
   "outputs": [
    {
     "data": {
      "text/plain": [
       "['e', 'm', 'a', 'n', ' ', 'y', 'm']"
      ]
     },
     "execution_count": 54,
     "metadata": {},
     "output_type": "execute_result"
    }
   ],
   "source": [
    "# reversed function\n",
    "list(reversed(\"my name\"))"
   ]
  },
  {
   "cell_type": "code",
   "execution_count": 64,
   "id": "d487d9c1",
   "metadata": {},
   "outputs": [
    {
     "name": "stdout",
     "output_type": "stream",
     "text": [
      "bhavya\n",
      "bhavya\n",
      "bhavya  bhalla\n",
      "bhavya\n",
      "   bhavya\n",
      "bhavya    \n",
      "bhavya\n"
     ]
    }
   ],
   "source": [
    "# strip,lstrip and rstrip\n",
    "print(\"    bhavya\".strip())\n",
    "print(\"bhavya    \".strip())\n",
    "print(\"bhavya  bhalla\".strip())\n",
    "print(\"   bhavya\".lstrip())\n",
    "print(\"   bhavya\".rstrip())\n",
    "print(\"bhavya    \".lstrip()) # does not remove spaces from right side\n",
    "print(\"bhavya    \".rstrip())"
   ]
  },
  {
   "cell_type": "code",
   "execution_count": 68,
   "id": "d8d5aae1",
   "metadata": {},
   "outputs": [
    {
     "name": "stdout",
     "output_type": "stream",
     "text": [
      "xy naxe is bhavya bhalla\n",
      "my name is bhavya bhalla\n"
     ]
    }
   ],
   "source": [
    "# replace function\n",
    "print(s.replace(\"m\",\"x\"))\n",
    "print(s) # original string does not get modified"
   ]
  },
  {
   "cell_type": "code",
   "execution_count": 70,
   "id": "1c14781b",
   "metadata": {},
   "outputs": [
    {
     "data": {
      "text/plain": [
       "'xxxbhavyaxx'"
      ]
     },
     "execution_count": 70,
     "metadata": {},
     "output_type": "execute_result"
    }
   ],
   "source": [
    "# center function\n",
    "s2 = \"bhavya\"\n",
    "s2.center(11,\"x\")"
   ]
  },
  {
   "cell_type": "code",
   "execution_count": 75,
   "id": "a7f48c33",
   "metadata": {},
   "outputs": [
    {
     "name": "stdout",
     "output_type": "stream",
     "text": [
      "bhavya  bhalla\n"
     ]
    }
   ],
   "source": [
    "# expandtabs funciton\n",
    "s3 = \"bhavya\\tbhalla\"\n",
    "print(s3.expandtabs())"
   ]
  },
  {
   "cell_type": "code",
   "execution_count": 87,
   "id": "3659c31b",
   "metadata": {},
   "outputs": [
    {
     "name": "stdout",
     "output_type": "stream",
     "text": [
      "we all are a part of full stack\n",
      "Number of occurences of a is  5\n",
      "3 7 11 14 28 \n",
      "we iNeuronll iNeuronre iNeuron piNeuronrt of full stiNeuronck\n"
     ]
    },
    {
     "data": {
      "text/plain": [
       "['we',\n",
       " 'iNeuronll',\n",
       " 'iNeuronre',\n",
       " 'iNeuron',\n",
       " 'piNeuronrt',\n",
       " 'of',\n",
       " 'full',\n",
       " 'stiNeuronck']"
      ]
     },
     "execution_count": 87,
     "metadata": {},
     "output_type": "execute_result"
    }
   ],
   "source": [
    "# Take a string as \"We all are a part of Full Stack\". \n",
    "my_string = \"We all are a part of Full Stack\"\n",
    "# i) Normalize the string into lowercase\n",
    "my_string = my_string.lower()\n",
    "print(my_string)\n",
    "# ii) Find number of occurrences of \"a\" in the entire string\n",
    "count = 0\n",
    "for i in my_string:\n",
    "    if(i == 'a'):\n",
    "        count = count + 1\n",
    "print('Number of occurences of a is ',count)\n",
    "# iii) Find all the index of \"a\" in the string\n",
    "for i in range(len(my_string)):\n",
    "    if(my_string[i] == \"a\"):\n",
    "        print(i,end=\" \")\n",
    "print()\n",
    "# iv) Replace all the \"a\" with \"iNeuron\"\n",
    "my_string = my_string.replace(\"a\",\"iNeuron\")\n",
    "print(my_string)\n",
    "# v) Print all the words as a list\n",
    "my_string.split()"
   ]
  },
  {
   "cell_type": "code",
   "execution_count": 101,
   "id": "4ea4cb24",
   "metadata": {},
   "outputs": [
    {
     "name": "stdout",
     "output_type": "stream",
     "text": [
      "my name is bhavya bhalla\n",
      "False\n",
      "True\n",
      "False\n",
      "False\n",
      "True\n",
      "True\n",
      "False\n",
      "False\n",
      "True\n"
     ]
    }
   ],
   "source": [
    "print(s)\n",
    "# isupper\n",
    "print(s.isupper())\n",
    "# islower\n",
    "print(s.islower())\n",
    "# isspace\n",
    "print(s.isspace())\n",
    "# isdigit\n",
    "print(s.isdigit())\n",
    "# endswith\n",
    "print(s.endswith(\"bhalla\"))\n",
    "# startswith\n",
    "print(s.startswith(\"m\"))\n",
    "# isalnum\n",
    "print(s.isalnum())\n",
    "# isalpha\n",
    "print(s.isalpha())\n",
    "# istitle\n",
    "print(\"My Name Is Bhavya\".istitle())"
   ]
  },
  {
   "cell_type": "code",
   "execution_count": 102,
   "id": "e27fdab6",
   "metadata": {},
   "outputs": [
    {
     "name": "stdout",
     "output_type": "stream",
     "text": [
      "Length of string =  40\n"
     ]
    }
   ],
   "source": [
    "# Find length of the string without using len function\n",
    "s = \"This is a full stack data science course\"\n",
    "length = 0\n",
    "for i in s:\n",
    "    length = length + 1\n",
    "print('Length of string = ',length)"
   ]
  },
  {
   "cell_type": "code",
   "execution_count": 104,
   "id": "23ef613a",
   "metadata": {},
   "outputs": [
    {
     "name": "stdout",
     "output_type": "stream",
     "text": [
      "allahb ayvahb"
     ]
    }
   ],
   "source": [
    "# Print the reversed string without any inbuilt function such as reversed and do not use slicing\n",
    "s = \"bhavya bhalla\"\n",
    "start = len(s) - 1\n",
    "while(start >= 0):\n",
    "    print(s[start],end=\"\")\n",
    "    start = start - 1"
   ]
  },
  {
   "cell_type": "code",
   "execution_count": 105,
   "id": "f5a04892",
   "metadata": {},
   "outputs": [
    {
     "name": "stdout",
     "output_type": "stream",
     "text": [
      "7\n"
     ]
    }
   ],
   "source": [
    "# Count number of vowels in a string\n",
    "s = \"bhavya is a good boy\"\n",
    "vowel_count = 0\n",
    "for i in s:\n",
    "    if i.lower() in 'aeiou':\n",
    "        vowel_count = vowel_count + 1\n",
    "print(vowel_count)"
   ]
  },
  {
   "cell_type": "code",
   "execution_count": 107,
   "id": "61da16a2",
   "metadata": {},
   "outputs": [
    {
     "name": "stdout",
     "output_type": "stream",
     "text": [
      "b is not a vowel\n",
      "h is not a vowel\n",
      "A is a vowel\n",
      "v is not a vowel\n",
      "y is not a vowel\n",
      "a is a vowel\n",
      "  is not a vowel\n",
      "i is a vowel\n",
      "s is not a vowel\n",
      "  is not a vowel\n",
      "a is a vowel\n",
      "  is not a vowel\n",
      "g is not a vowel\n",
      "o is a vowel\n",
      "o is a vowel\n",
      "d is not a vowel\n",
      "  is not a vowel\n",
      "b is not a vowel\n",
      "o is a vowel\n",
      "y is not a vowel\n"
     ]
    }
   ],
   "source": [
    "# Print whether a character in a string is a vowel or not\n",
    "s = \"bhAvya is a good boy\"\n",
    "for i in range(len(s)):\n",
    "    if s[i].lower() in 'aeiou':\n",
    "        print('{} is a vowel'.format(s[i]))\n",
    "    else:\n",
    "        print('{} is not a vowel'.format(s[i]))"
   ]
  },
  {
   "cell_type": "code",
   "execution_count": 110,
   "id": "34b62a3a",
   "metadata": {},
   "outputs": [
    {
     "name": "stdout",
     "output_type": "stream",
     "text": [
      "abccba is a palindrome\n"
     ]
    }
   ],
   "source": [
    "# Find whether a string is a palindrome or not\n",
    "s = \"abccba\"\n",
    "if s == s[::-1]:\n",
    "    print(s,'is a palindrome')\n",
    "else:\n",
    "    print(s,'is not a palindrome')"
   ]
  },
  {
   "cell_type": "markdown",
   "id": "5b9fa36b",
   "metadata": {},
   "source": [
    "#### format function - It is used to fill string at runtime"
   ]
  },
  {
   "cell_type": "code",
   "execution_count": 108,
   "id": "049c93b8",
   "metadata": {},
   "outputs": [
    {
     "data": {
      "text/plain": [
       "'Bhavya is a good boy'"
      ]
     },
     "execution_count": 108,
     "metadata": {},
     "output_type": "execute_result"
    }
   ],
   "source": [
    "\"{} is a {} boy\".format(\"Bhavya\",\"good\")"
   ]
  },
  {
   "cell_type": "code",
   "execution_count": 122,
   "id": "fef9c535",
   "metadata": {},
   "outputs": [
    {
     "name": "stdout",
     "output_type": "stream",
     "text": [
      "Enter the name : Bhavya\n",
      "Enter the marks : 100\n",
      "Bhavya scored 100 marks\n",
      "Bhavya is a good boy\n"
     ]
    }
   ],
   "source": [
    "a = input(\"Enter the name : \")\n",
    "b = input(\"Enter the marks : \")\n",
    "print(\"{} scored {} marks\".format(a,b))\n",
    "print(\"{a} is a {b} boy\".format(b = \"good\",a = \"Bhavya\"))"
   ]
  },
  {
   "cell_type": "markdown",
   "id": "29745eec",
   "metadata": {},
   "source": [
    "### List Manipulation"
   ]
  },
  {
   "cell_type": "markdown",
   "id": "b730e21d",
   "metadata": {},
   "source": [
    "#### List is a mutable data type that is it supports object assignment"
   ]
  },
  {
   "cell_type": "code",
   "execution_count": 18,
   "id": "e9d983e5",
   "metadata": {},
   "outputs": [
    {
     "name": "stdout",
     "output_type": "stream",
     "text": [
      "[1, 2, 3, 4]\n",
      "[5, 2, 3, 4]\n"
     ]
    }
   ],
   "source": [
    "my_list = [1,2,3,4]\n",
    "print(my_list)\n",
    "my_list[0] = 5\n",
    "print(my_list)"
   ]
  },
  {
   "cell_type": "code",
   "execution_count": 114,
   "id": "e5578068",
   "metadata": {},
   "outputs": [
    {
     "name": "stdout",
     "output_type": "stream",
     "text": [
      "['bhavya', 1, 2, 3, [4, 5]]\n"
     ]
    }
   ],
   "source": [
    "# Indexing in list\n",
    "l = [\"bhavya\",1,2,3,[4,5]]\n",
    "print(l)"
   ]
  },
  {
   "cell_type": "code",
   "execution_count": 116,
   "id": "4e34accc",
   "metadata": {},
   "outputs": [
    {
     "name": "stdout",
     "output_type": "stream",
     "text": [
      "[1, 2]\n",
      "[1, 3]\n",
      "[[4, 5], 3, 2, 1, 'bhavya']\n"
     ]
    }
   ],
   "source": [
    "# Slicing concept in list\n",
    "print(l[1:3])\n",
    "print(l[1:4:2])\n",
    "print(l[::-1])"
   ]
  },
  {
   "cell_type": "code",
   "execution_count": 117,
   "id": "329e8e8e",
   "metadata": {},
   "outputs": [
    {
     "data": {
      "text/plain": [
       "['b', 'h', 'a', 'v', 'y', 'a']"
      ]
     },
     "execution_count": 117,
     "metadata": {},
     "output_type": "execute_result"
    }
   ],
   "source": [
    "my_str = \"bhavya\"\n",
    "list(my_str)"
   ]
  },
  {
   "cell_type": "code",
   "execution_count": 119,
   "id": "e916b207",
   "metadata": {},
   "outputs": [
    {
     "data": {
      "text/plain": [
       "['bhavya', 1, 2, 3, [4, 5], 'bhavya', 1, 2, 3, [4, 5]]"
      ]
     },
     "execution_count": 119,
     "metadata": {},
     "output_type": "execute_result"
    }
   ],
   "source": [
    "l * 2"
   ]
  },
  {
   "cell_type": "code",
   "execution_count": 120,
   "id": "423ca8e3",
   "metadata": {},
   "outputs": [
    {
     "data": {
      "text/plain": [
       "5"
      ]
     },
     "execution_count": 120,
     "metadata": {},
     "output_type": "execute_result"
    }
   ],
   "source": [
    "len(l)"
   ]
  },
  {
   "cell_type": "code",
   "execution_count": 121,
   "id": "4f5cada6",
   "metadata": {},
   "outputs": [
    {
     "data": {
      "text/plain": [
       "True"
      ]
     },
     "execution_count": 121,
     "metadata": {},
     "output_type": "execute_result"
    }
   ],
   "source": [
    "\"bhavya\" in l"
   ]
  }
 ],
 "metadata": {
  "kernelspec": {
   "display_name": "Python 3 (ipykernel)",
   "language": "python",
   "name": "python3"
  },
  "language_info": {
   "codemirror_mode": {
    "name": "ipython",
    "version": 3
   },
   "file_extension": ".py",
   "mimetype": "text/x-python",
   "name": "python",
   "nbconvert_exporter": "python",
   "pygments_lexer": "ipython3",
   "version": "3.11.5"
  }
 },
 "nbformat": 4,
 "nbformat_minor": 5
}
