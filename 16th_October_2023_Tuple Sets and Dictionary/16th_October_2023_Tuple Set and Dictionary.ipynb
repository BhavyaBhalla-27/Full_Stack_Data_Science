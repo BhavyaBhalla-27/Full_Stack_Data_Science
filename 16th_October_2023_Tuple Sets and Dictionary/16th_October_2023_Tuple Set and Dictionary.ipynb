{
 "cells": [
  {
   "cell_type": "markdown",
   "id": "e4f85b2f",
   "metadata": {},
   "source": [
    "# 16th October 2023 - Tuple, Set and Dictionary"
   ]
  },
  {
   "cell_type": "markdown",
   "id": "47d39d25",
   "metadata": {},
   "source": [
    "## Tuples"
   ]
  },
  {
   "cell_type": "code",
   "execution_count": 2,
   "id": "49c24de3",
   "metadata": {},
   "outputs": [
    {
     "name": "stdout",
     "output_type": "stream",
     "text": [
      "(1, 2, 3, 4, 'bhavya', (2+3j))\n",
      "<class 'tuple'>\n"
     ]
    }
   ],
   "source": [
    "my_tuple = (1,2,3,4,\"bhavya\",2+3j) # Here we are using the round brackets in tuple creation\n",
    "print(my_tuple)\n",
    "print(type(my_tuple))"
   ]
  },
  {
   "cell_type": "code",
   "execution_count": 4,
   "id": "7d7545cb",
   "metadata": {},
   "outputs": [
    {
     "name": "stdout",
     "output_type": "stream",
     "text": [
      "1\n",
      "4\n"
     ]
    }
   ],
   "source": [
    "# Indexing concept in tuples\n",
    "print(my_tuple[0])\n",
    "print(my_tuple[3])"
   ]
  },
  {
   "cell_type": "code",
   "execution_count": 5,
   "id": "d8238ed0",
   "metadata": {},
   "outputs": [
    {
     "data": {
      "text/plain": [
       "(3, 4, 'bhavya')"
      ]
     },
     "execution_count": 5,
     "metadata": {},
     "output_type": "execute_result"
    }
   ],
   "source": [
    "# Slicing concept in tuples\n",
    "my_tuple[2:5]"
   ]
  },
  {
   "cell_type": "code",
   "execution_count": 6,
   "id": "d1c6d3fa",
   "metadata": {},
   "outputs": [
    {
     "ename": "TypeError",
     "evalue": "'tuple' object does not support item assignment",
     "output_type": "error",
     "traceback": [
      "\u001b[1;31m---------------------------------------------------------------------------\u001b[0m",
      "\u001b[1;31mTypeError\u001b[0m                                 Traceback (most recent call last)",
      "\u001b[1;32m~\\AppData\\Local\\Temp/ipykernel_16632/3305028953.py\u001b[0m in \u001b[0;36m<module>\u001b[1;34m\u001b[0m\n\u001b[0;32m      1\u001b[0m \u001b[1;31m# Tuples are immutable\u001b[0m\u001b[1;33m\u001b[0m\u001b[1;33m\u001b[0m\u001b[0m\n\u001b[1;32m----> 2\u001b[1;33m \u001b[0mmy_tuple\u001b[0m\u001b[1;33m[\u001b[0m\u001b[1;36m0\u001b[0m\u001b[1;33m]\u001b[0m \u001b[1;33m=\u001b[0m \u001b[1;36m1.5\u001b[0m\u001b[1;33m\u001b[0m\u001b[1;33m\u001b[0m\u001b[0m\n\u001b[0m",
      "\u001b[1;31mTypeError\u001b[0m: 'tuple' object does not support item assignment"
     ]
    }
   ],
   "source": [
    "# Tuples are immutable\n",
    "my_tuple[0] = 1.5"
   ]
  },
  {
   "cell_type": "code",
   "execution_count": 10,
   "id": "65bc8e5d",
   "metadata": {},
   "outputs": [
    {
     "name": "stdout",
     "output_type": "stream",
     "text": [
      "(1, 2, 3, [4, 5, 6])\n",
      "(1, 2, 3, [4.5, 5, 6])\n"
     ]
    }
   ],
   "source": [
    "my_tuple = (1,2,3,[4,5,6])\n",
    "print(my_tuple)\n",
    "my_tuple[3][0] = 4.5\n",
    "print(my_tuple)"
   ]
  },
  {
   "cell_type": "code",
   "execution_count": 11,
   "id": "858cd9fa",
   "metadata": {},
   "outputs": [
    {
     "data": {
      "text/plain": [
       "(1, 2, 3, 4, 5, 6)"
      ]
     },
     "execution_count": 11,
     "metadata": {},
     "output_type": "execute_result"
    }
   ],
   "source": [
    "# Concatenation in tuples\n",
    "t1 = (1,2,3)\n",
    "t2 = (4,5,6)\n",
    "t1+t2"
   ]
  },
  {
   "cell_type": "code",
   "execution_count": 14,
   "id": "acb215fe",
   "metadata": {},
   "outputs": [
    {
     "name": "stdout",
     "output_type": "stream",
     "text": [
      "True\n",
      "False\n"
     ]
    }
   ],
   "source": [
    "my_tuple = (1,2,3)\n",
    "print(2 in my_tuple)\n",
    "print(4 in my_tuple)"
   ]
  },
  {
   "cell_type": "code",
   "execution_count": 15,
   "id": "7fc306ea",
   "metadata": {},
   "outputs": [
    {
     "data": {
      "text/plain": [
       "3"
      ]
     },
     "execution_count": 15,
     "metadata": {},
     "output_type": "execute_result"
    }
   ],
   "source": [
    "# max function\n",
    "max(my_tuple)"
   ]
  },
  {
   "cell_type": "code",
   "execution_count": 16,
   "id": "b724b9bc",
   "metadata": {},
   "outputs": [
    {
     "data": {
      "text/plain": [
       "1"
      ]
     },
     "execution_count": 16,
     "metadata": {},
     "output_type": "execute_result"
    }
   ],
   "source": [
    "# min functiojn\n",
    "min(my_tuple)"
   ]
  },
  {
   "cell_type": "code",
   "execution_count": 18,
   "id": "98a52c49",
   "metadata": {},
   "outputs": [
    {
     "data": {
      "text/plain": [
       "3"
      ]
     },
     "execution_count": 18,
     "metadata": {},
     "output_type": "execute_result"
    }
   ],
   "source": [
    "# index function\n",
    "my_tuple = (1,1,1,2,2,3,3,3,1,1,2,2,4)\n",
    "my_tuple.index(2)"
   ]
  },
  {
   "cell_type": "code",
   "execution_count": 19,
   "id": "e5ce4926",
   "metadata": {},
   "outputs": [
    {
     "data": {
      "text/plain": [
       "4"
      ]
     },
     "execution_count": 19,
     "metadata": {},
     "output_type": "execute_result"
    }
   ],
   "source": [
    "# count function\n",
    "my_tuple.count(2)"
   ]
  },
  {
   "cell_type": "code",
   "execution_count": 21,
   "id": "c6bb4351",
   "metadata": {},
   "outputs": [
    {
     "name": "stdout",
     "output_type": "stream",
     "text": [
      "[1, 2, 3]\n",
      "[1, 2, 3, 4]\n",
      "(1, 2, 3, 4)\n"
     ]
    }
   ],
   "source": [
    "# Convert tuple to list and vice versa\n",
    "my_tuple = (1,2,3)\n",
    "my_list = list(my_tuple)\n",
    "print(my_list)\n",
    "my_list.append(4)\n",
    "print(my_list)\n",
    "my_tuple = tuple(my_list)\n",
    "print(my_tuple)"
   ]
  },
  {
   "cell_type": "code",
   "execution_count": 22,
   "id": "7218eb24",
   "metadata": {},
   "outputs": [
    {
     "name": "stdout",
     "output_type": "stream",
     "text": [
      "((1, 2, 3), (4, 5, 6), (7, 8, 9))\n"
     ]
    }
   ],
   "source": [
    "# Nested Tuples\n",
    "my_tuple = ((1,2,3),(4,5,6),(7,8,9),10,11)\n",
    "print(my_tuple)"
   ]
  },
  {
   "cell_type": "code",
   "execution_count": 23,
   "id": "2dc5f586",
   "metadata": {},
   "outputs": [
    {
     "name": "stdout",
     "output_type": "stream",
     "text": [
      "(1, 2, 3)\n",
      "(4, 5, 6)\n",
      "(7, 8, 9)\n"
     ]
    }
   ],
   "source": [
    "# Iterating on tuples\n",
    "for i in my_tuple:\n",
    "    print(i)"
   ]
  },
  {
   "cell_type": "markdown",
   "id": "f9cd5cac",
   "metadata": {},
   "source": [
    "### del function - It is used to delete a list , tuple etc. "
   ]
  },
  {
   "cell_type": "code",
   "execution_count": 24,
   "id": "940029b2",
   "metadata": {},
   "outputs": [
    {
     "name": "stdout",
     "output_type": "stream",
     "text": [
      "(1, 2, 3)\n"
     ]
    },
    {
     "ename": "NameError",
     "evalue": "name 'my_tuple' is not defined",
     "output_type": "error",
     "traceback": [
      "\u001b[1;31m---------------------------------------------------------------------------\u001b[0m",
      "\u001b[1;31mNameError\u001b[0m                                 Traceback (most recent call last)",
      "\u001b[1;32m~\\AppData\\Local\\Temp/ipykernel_16632/1142671228.py\u001b[0m in \u001b[0;36m<module>\u001b[1;34m\u001b[0m\n\u001b[0;32m      2\u001b[0m \u001b[0mprint\u001b[0m\u001b[1;33m(\u001b[0m\u001b[0mmy_tuple\u001b[0m\u001b[1;33m)\u001b[0m\u001b[1;33m\u001b[0m\u001b[1;33m\u001b[0m\u001b[0m\n\u001b[0;32m      3\u001b[0m \u001b[1;32mdel\u001b[0m\u001b[1;33m(\u001b[0m\u001b[0mmy_tuple\u001b[0m\u001b[1;33m)\u001b[0m\u001b[1;33m\u001b[0m\u001b[1;33m\u001b[0m\u001b[0m\n\u001b[1;32m----> 4\u001b[1;33m \u001b[0mprint\u001b[0m\u001b[1;33m(\u001b[0m\u001b[0mmy_tuple\u001b[0m\u001b[1;33m)\u001b[0m\u001b[1;33m\u001b[0m\u001b[1;33m\u001b[0m\u001b[0m\n\u001b[0m",
      "\u001b[1;31mNameError\u001b[0m: name 'my_tuple' is not defined"
     ]
    }
   ],
   "source": [
    "my_tuple = (1,2,3)\n",
    "print(my_tuple)\n",
    "del(my_tuple)\n",
    "print(my_tuple)"
   ]
  },
  {
   "cell_type": "markdown",
   "id": "4e3a6108",
   "metadata": {},
   "source": [
    "## Sets in Python -> Unordered collection which is mutable and has no duplicate elements."
   ]
  },
  {
   "cell_type": "code",
   "execution_count": 25,
   "id": "145aebdc",
   "metadata": {},
   "outputs": [
    {
     "name": "stdout",
     "output_type": "stream",
     "text": [
      "<class 'set'>\n"
     ]
    }
   ],
   "source": [
    "my_set = set()\n",
    "print(type(my_set))"
   ]
  },
  {
   "cell_type": "code",
   "execution_count": 35,
   "id": "57ce8f42",
   "metadata": {},
   "outputs": [
    {
     "name": "stdout",
     "output_type": "stream",
     "text": [
      "{1, 2, 3, 'Bhavya', 'bhavya'}\n"
     ]
    }
   ],
   "source": [
    "my_set = {1,1,1,2,2,\"bhavya\",3,3,\"bhavya\",\"Bhavya\"}\n",
    "print(my_set)"
   ]
  },
  {
   "cell_type": "code",
   "execution_count": 36,
   "id": "1725329c",
   "metadata": {},
   "outputs": [
    {
     "name": "stdout",
     "output_type": "stream",
     "text": [
      "1\n",
      "2\n",
      "3\n",
      "Bhavya\n",
      "bhavya\n"
     ]
    }
   ],
   "source": [
    "for i in my_set:\n",
    "    print(i)"
   ]
  },
  {
   "cell_type": "code",
   "execution_count": 37,
   "id": "6f4c0196",
   "metadata": {},
   "outputs": [
    {
     "ename": "TypeError",
     "evalue": "'set' object is not subscriptable",
     "output_type": "error",
     "traceback": [
      "\u001b[1;31m---------------------------------------------------------------------------\u001b[0m",
      "\u001b[1;31mTypeError\u001b[0m                                 Traceback (most recent call last)",
      "\u001b[1;32m~\\AppData\\Local\\Temp/ipykernel_16632/1395207320.py\u001b[0m in \u001b[0;36m<module>\u001b[1;34m\u001b[0m\n\u001b[0;32m      1\u001b[0m \u001b[1;31m# There is no indexing concept in set\u001b[0m\u001b[1;33m\u001b[0m\u001b[1;33m\u001b[0m\u001b[0m\n\u001b[1;32m----> 2\u001b[1;33m \u001b[0mmy_set\u001b[0m\u001b[1;33m[\u001b[0m\u001b[1;36m0\u001b[0m\u001b[1;33m]\u001b[0m\u001b[1;33m\u001b[0m\u001b[1;33m\u001b[0m\u001b[0m\n\u001b[0m",
      "\u001b[1;31mTypeError\u001b[0m: 'set' object is not subscriptable"
     ]
    }
   ],
   "source": [
    "# There is no indexing concept in set\n",
    "my_set[0]"
   ]
  },
  {
   "cell_type": "code",
   "execution_count": 38,
   "id": "5a3bafbd",
   "metadata": {},
   "outputs": [
    {
     "name": "stdout",
     "output_type": "stream",
     "text": [
      "{1, 2, 4545, 61, 31}\n"
     ]
    }
   ],
   "source": [
    "# Set is not sorted\n",
    "my_set = {1,2,4545,31,61}\n",
    "print(my_set)"
   ]
  },
  {
   "cell_type": "code",
   "execution_count": 42,
   "id": "7e608e53",
   "metadata": {},
   "outputs": [
    {
     "name": "stdout",
     "output_type": "stream",
     "text": [
      "{1, 2, 3, 4, 5, 6, 7, 'bhavya'}\n",
      "{1, 2, 3, 4, 5, 6, 7, 'bhavya'}\n"
     ]
    },
    {
     "ename": "TypeError",
     "evalue": "unhashable type: 'list'",
     "output_type": "error",
     "traceback": [
      "\u001b[1;31m---------------------------------------------------------------------------\u001b[0m",
      "\u001b[1;31mTypeError\u001b[0m                                 Traceback (most recent call last)",
      "\u001b[1;32m~\\AppData\\Local\\Temp/ipykernel_16632/2875733803.py\u001b[0m in \u001b[0;36m<module>\u001b[1;34m\u001b[0m\n\u001b[0;32m      5\u001b[0m \u001b[0mmy_set\u001b[0m\u001b[1;33m.\u001b[0m\u001b[0madd\u001b[0m\u001b[1;33m(\u001b[0m\u001b[1;34m\"bhavya\"\u001b[0m\u001b[1;33m)\u001b[0m\u001b[1;33m\u001b[0m\u001b[1;33m\u001b[0m\u001b[0m\n\u001b[0;32m      6\u001b[0m \u001b[0mprint\u001b[0m\u001b[1;33m(\u001b[0m\u001b[0mmy_set\u001b[0m\u001b[1;33m)\u001b[0m\u001b[1;33m\u001b[0m\u001b[1;33m\u001b[0m\u001b[0m\n\u001b[1;32m----> 7\u001b[1;33m \u001b[0mmy_set\u001b[0m\u001b[1;33m.\u001b[0m\u001b[0madd\u001b[0m\u001b[1;33m(\u001b[0m\u001b[1;33m[\u001b[0m\u001b[1;36m1\u001b[0m\u001b[1;33m,\u001b[0m\u001b[1;36m2\u001b[0m\u001b[1;33m]\u001b[0m\u001b[1;33m)\u001b[0m\u001b[1;33m\u001b[0m\u001b[1;33m\u001b[0m\u001b[0m\n\u001b[0m",
      "\u001b[1;31mTypeError\u001b[0m: unhashable type: 'list'"
     ]
    }
   ],
   "source": [
    "# Adding element to the set\n",
    "my_set = {1,2,3,4,5,6,7}\n",
    "my_set.add(\"bhavya\")\n",
    "print(my_set)\n",
    "my_set.add(\"bhavya\")\n",
    "print(my_set)\n",
    "my_set.add([1,2])"
   ]
  },
  {
   "cell_type": "code",
   "execution_count": 46,
   "id": "5762aa46",
   "metadata": {},
   "outputs": [
    {
     "name": "stdout",
     "output_type": "stream",
     "text": [
      "{1, 3, 4, 5, 6, 7}\n"
     ]
    },
    {
     "ename": "KeyError",
     "evalue": "2",
     "output_type": "error",
     "traceback": [
      "\u001b[1;31m---------------------------------------------------------------------------\u001b[0m",
      "\u001b[1;31mKeyError\u001b[0m                                  Traceback (most recent call last)",
      "\u001b[1;32m~\\AppData\\Local\\Temp/ipykernel_16632/1865410069.py\u001b[0m in \u001b[0;36m<module>\u001b[1;34m\u001b[0m\n\u001b[0;32m      3\u001b[0m \u001b[0mmy_set\u001b[0m\u001b[1;33m.\u001b[0m\u001b[0mremove\u001b[0m\u001b[1;33m(\u001b[0m\u001b[1;36m2\u001b[0m\u001b[1;33m)\u001b[0m\u001b[1;33m\u001b[0m\u001b[1;33m\u001b[0m\u001b[0m\n\u001b[0;32m      4\u001b[0m \u001b[0mprint\u001b[0m\u001b[1;33m(\u001b[0m\u001b[0mmy_set\u001b[0m\u001b[1;33m)\u001b[0m\u001b[1;33m\u001b[0m\u001b[1;33m\u001b[0m\u001b[0m\n\u001b[1;32m----> 5\u001b[1;33m \u001b[0mmy_set\u001b[0m\u001b[1;33m.\u001b[0m\u001b[0mremove\u001b[0m\u001b[1;33m(\u001b[0m\u001b[1;36m2\u001b[0m\u001b[1;33m)\u001b[0m\u001b[1;33m\u001b[0m\u001b[1;33m\u001b[0m\u001b[0m\n\u001b[0m",
      "\u001b[1;31mKeyError\u001b[0m: 2"
     ]
    }
   ],
   "source": [
    "# Removing an element from the set\n",
    "my_set = {1,2,3,4,5,6,7}\n",
    "my_set.remove(2)\n",
    "print(my_set)\n",
    "my_set.remove(2)"
   ]
  },
  {
   "cell_type": "code",
   "execution_count": 47,
   "id": "ffebce71",
   "metadata": {},
   "outputs": [
    {
     "name": "stdout",
     "output_type": "stream",
     "text": [
      "{1, 2, 3}\n",
      "set()\n"
     ]
    }
   ],
   "source": [
    "# Clearing the set\n",
    "my_set = {1,2,3}\n",
    "print(my_set)\n",
    "my_set.clear()\n",
    "print(my_set)"
   ]
  },
  {
   "cell_type": "code",
   "execution_count": 52,
   "id": "914eae0b",
   "metadata": {},
   "outputs": [
    {
     "ename": "TypeError",
     "evalue": "unsupported operand type(s) for +: 'set' and 'set'",
     "output_type": "error",
     "traceback": [
      "\u001b[1;31m---------------------------------------------------------------------------\u001b[0m",
      "\u001b[1;31mTypeError\u001b[0m                                 Traceback (most recent call last)",
      "\u001b[1;32m~\\AppData\\Local\\Temp/ipykernel_16632/2827238412.py\u001b[0m in \u001b[0;36m<module>\u001b[1;34m\u001b[0m\n\u001b[0;32m      2\u001b[0m \u001b[0mmy_set1\u001b[0m \u001b[1;33m=\u001b[0m \u001b[1;33m{\u001b[0m\u001b[1;36m1\u001b[0m\u001b[1;33m,\u001b[0m\u001b[1;36m2\u001b[0m\u001b[1;33m,\u001b[0m\u001b[1;36m3\u001b[0m\u001b[1;33m}\u001b[0m\u001b[1;33m\u001b[0m\u001b[1;33m\u001b[0m\u001b[0m\n\u001b[0;32m      3\u001b[0m \u001b[0mmy_set2\u001b[0m \u001b[1;33m=\u001b[0m \u001b[1;33m{\u001b[0m\u001b[1;36m2\u001b[0m\u001b[1;33m,\u001b[0m\u001b[1;36m3\u001b[0m\u001b[1;33m,\u001b[0m\u001b[1;36m4\u001b[0m\u001b[1;33m}\u001b[0m\u001b[1;33m\u001b[0m\u001b[1;33m\u001b[0m\u001b[0m\n\u001b[1;32m----> 4\u001b[1;33m \u001b[0mmy_set1\u001b[0m \u001b[1;33m+\u001b[0m \u001b[0mmy_set2\u001b[0m\u001b[1;33m\u001b[0m\u001b[1;33m\u001b[0m\u001b[0m\n\u001b[0m",
      "\u001b[1;31mTypeError\u001b[0m: unsupported operand type(s) for +: 'set' and 'set'"
     ]
    }
   ],
   "source": [
    "# Addition of sets\n",
    "my_set1 = {1,2,3}\n",
    "my_set2 = {2,3,4}\n",
    "my_set1 + my_set2"
   ]
  },
  {
   "cell_type": "code",
   "execution_count": 51,
   "id": "0a1a38c4",
   "metadata": {},
   "outputs": [
    {
     "data": {
      "text/plain": [
       "{1}"
      ]
     },
     "execution_count": 51,
     "metadata": {},
     "output_type": "execute_result"
    }
   ],
   "source": [
    "# Difference of sets\n",
    "my_set1 = {1,2,3}\n",
    "my_set2 = {2,3,4}\n",
    "my_set1 - my_set2"
   ]
  },
  {
   "cell_type": "markdown",
   "id": "4fb6d668",
   "metadata": {},
   "source": [
    "## Dictionary - Stores data in the form of key-value pairs"
   ]
  },
  {
   "cell_type": "code",
   "execution_count": 53,
   "id": "0d005c37",
   "metadata": {},
   "outputs": [
    {
     "data": {
      "text/plain": [
       "dict"
      ]
     },
     "execution_count": 53,
     "metadata": {},
     "output_type": "execute_result"
    }
   ],
   "source": [
    "my_dict = {}\n",
    "type(my_dict)"
   ]
  },
  {
   "cell_type": "code",
   "execution_count": 66,
   "id": "1852adaf",
   "metadata": {},
   "outputs": [
    {
     "name": "stdout",
     "output_type": "stream",
     "text": [
      "{'Name': 'Bhavya', 'Age': 20}\n",
      "dict_keys(['Name', 'Age'])\n",
      "dict_values(['Bhavya', 20])\n"
     ]
    }
   ],
   "source": [
    "my_dict = {\"Name\" : \"Bhavya\", \"Age\" : 20}\n",
    "print(my_dict)\n",
    "print(my_dict.keys())\n",
    "print(my_dict.values())"
   ]
  },
  {
   "cell_type": "code",
   "execution_count": 61,
   "id": "9b41939e",
   "metadata": {},
   "outputs": [
    {
     "name": "stdout",
     "output_type": "stream",
     "text": [
      "Name\n",
      "Age\n"
     ]
    }
   ],
   "source": [
    "# Iterating over the keys\n",
    "for i in my_dict.keys():\n",
    "    print(i)"
   ]
  },
  {
   "cell_type": "code",
   "execution_count": 62,
   "id": "6cfaf3ff",
   "metadata": {},
   "outputs": [
    {
     "name": "stdout",
     "output_type": "stream",
     "text": [
      "Bhavya\n",
      "20\n"
     ]
    }
   ],
   "source": [
    "# Iterating over the values\n",
    "for i in my_dict.values():\n",
    "    print(i)"
   ]
  },
  {
   "cell_type": "code",
   "execution_count": 70,
   "id": "b5de182b",
   "metadata": {},
   "outputs": [
    {
     "name": "stdout",
     "output_type": "stream",
     "text": [
      "{'name': {'bhavya': 20, 'rahul': 21}, 'location': 'banglore'}\n"
     ]
    }
   ],
   "source": [
    "# Nested dictionary\n",
    "my_dict = {\"name\" : {\"bhavya\" : 20,\"rahul\":21},\"location\" : \"banglore\"}\n",
    "print(my_dict)"
   ]
  },
  {
   "cell_type": "code",
   "execution_count": 71,
   "id": "ace0ebea",
   "metadata": {},
   "outputs": [
    {
     "data": {
      "text/plain": [
       "'Bhavya'"
      ]
     },
     "execution_count": 71,
     "metadata": {},
     "output_type": "execute_result"
    }
   ],
   "source": [
    "# Indexing through keys\n",
    "my_dict = {\"Name\" : \"Bhavya\", \"Age\" : 20}\n",
    "my_dict[\"Name\"]"
   ]
  },
  {
   "cell_type": "code",
   "execution_count": 74,
   "id": "d691a9ce",
   "metadata": {},
   "outputs": [
    {
     "data": {
      "text/plain": [
       "['banglore', 'delhi', 'mumbai']"
      ]
     },
     "execution_count": 74,
     "metadata": {},
     "output_type": "execute_result"
    }
   ],
   "source": [
    "# Accessing elements of the nested dictionary\n",
    "my_dict = {\"name\" : {\"age\" : 20, \"location\" : [\"banglore\",\"delhi\",\"mumbai\"]}}\n",
    "my_dict[\"name\"][\"location\"]"
   ]
  },
  {
   "cell_type": "code",
   "execution_count": 75,
   "id": "ead8c79c",
   "metadata": {},
   "outputs": [
    {
     "ename": "TypeError",
     "evalue": "unsupported operand type(s) for +: 'dict' and 'dict'",
     "output_type": "error",
     "traceback": [
      "\u001b[1;31m---------------------------------------------------------------------------\u001b[0m",
      "\u001b[1;31mTypeError\u001b[0m                                 Traceback (most recent call last)",
      "\u001b[1;32m~\\AppData\\Local\\Temp/ipykernel_16632/371380950.py\u001b[0m in \u001b[0;36m<module>\u001b[1;34m\u001b[0m\n\u001b[0;32m      2\u001b[0m \u001b[0mmy_dict1\u001b[0m \u001b[1;33m=\u001b[0m \u001b[1;33m{\u001b[0m\u001b[1;34m\"Name\"\u001b[0m \u001b[1;33m:\u001b[0m \u001b[1;34m\"Bhavya\"\u001b[0m\u001b[1;33m,\u001b[0m \u001b[1;34m\"Age\"\u001b[0m \u001b[1;33m:\u001b[0m \u001b[1;36m20\u001b[0m\u001b[1;33m}\u001b[0m\u001b[1;33m\u001b[0m\u001b[1;33m\u001b[0m\u001b[0m\n\u001b[0;32m      3\u001b[0m \u001b[0mmy_dict2\u001b[0m \u001b[1;33m=\u001b[0m \u001b[1;33m{\u001b[0m\u001b[1;34m\"Name1\"\u001b[0m \u001b[1;33m:\u001b[0m \u001b[1;34m\"Bhavya1\"\u001b[0m\u001b[1;33m,\u001b[0m \u001b[1;34m\"Age1\"\u001b[0m \u001b[1;33m:\u001b[0m \u001b[1;36m21\u001b[0m\u001b[1;33m}\u001b[0m\u001b[1;33m\u001b[0m\u001b[1;33m\u001b[0m\u001b[0m\n\u001b[1;32m----> 4\u001b[1;33m \u001b[0mmy_dict1\u001b[0m \u001b[1;33m+\u001b[0m \u001b[0mmy_dict2\u001b[0m\u001b[1;33m\u001b[0m\u001b[1;33m\u001b[0m\u001b[0m\n\u001b[0m",
      "\u001b[1;31mTypeError\u001b[0m: unsupported operand type(s) for +: 'dict' and 'dict'"
     ]
    }
   ],
   "source": [
    "# Addition of dictionaries\n",
    "my_dict1 = {\"Name\" : \"Bhavya\", \"Age\" : 20}\n",
    "my_dict2 = {\"Name1\" : \"Bhavya1\", \"Age1\" : 21}\n",
    "my_dict1 + my_dict2"
   ]
  },
  {
   "cell_type": "code",
   "execution_count": 76,
   "id": "7c13da9f",
   "metadata": {},
   "outputs": [
    {
     "ename": "TypeError",
     "evalue": "unsupported operand type(s) for -: 'dict' and 'dict'",
     "output_type": "error",
     "traceback": [
      "\u001b[1;31m---------------------------------------------------------------------------\u001b[0m",
      "\u001b[1;31mTypeError\u001b[0m                                 Traceback (most recent call last)",
      "\u001b[1;32m~\\AppData\\Local\\Temp/ipykernel_16632/278731478.py\u001b[0m in \u001b[0;36m<module>\u001b[1;34m\u001b[0m\n\u001b[1;32m----> 1\u001b[1;33m \u001b[0mmy_dict1\u001b[0m \u001b[1;33m-\u001b[0m \u001b[0mmy_dict2\u001b[0m\u001b[1;33m\u001b[0m\u001b[1;33m\u001b[0m\u001b[0m\n\u001b[0m",
      "\u001b[1;31mTypeError\u001b[0m: unsupported operand type(s) for -: 'dict' and 'dict'"
     ]
    }
   ],
   "source": [
    "my_dict1 - my_dict2"
   ]
  },
  {
   "cell_type": "code",
   "execution_count": 79,
   "id": "fb211904",
   "metadata": {},
   "outputs": [
    {
     "name": "stdout",
     "output_type": "stream",
     "text": [
      "{'Name': 'Bhavya', 'Age': 200}\n"
     ]
    }
   ],
   "source": [
    "# Dictionaries are mutable\n",
    "my_dict1[\"Age\"] = 200\n",
    "print(my_dict1)"
   ]
  },
  {
   "cell_type": "code",
   "execution_count": 81,
   "id": "70586c97",
   "metadata": {},
   "outputs": [
    {
     "name": "stdout",
     "output_type": "stream",
     "text": [
      "dict_items([('Name', 'Bhavya'), ('Age', 20)])\n"
     ]
    }
   ],
   "source": [
    "my_dict = {\"Name\" : \"Bhavya\", \"Age\" : 20}\n",
    "print(my_dict.items())"
   ]
  },
  {
   "cell_type": "code",
   "execution_count": 83,
   "id": "e90bbcca",
   "metadata": {},
   "outputs": [
    {
     "data": {
      "text/plain": [
       "{}"
      ]
     },
     "execution_count": 83,
     "metadata": {},
     "output_type": "execute_result"
    }
   ],
   "source": [
    "# clear function\n",
    "my_dict.clear()\n",
    "my_dict"
   ]
  },
  {
   "cell_type": "code",
   "execution_count": 102,
   "id": "5d1a3a4e",
   "metadata": {},
   "outputs": [
    {
     "name": "stdout",
     "output_type": "stream",
     "text": [
      "Key =  Edtech Platform   and Value =  iNeuron \n",
      "Key =  Course Name  and Value =  FSDS\n",
      "Key =  Year and Value =  2023\n"
     ]
    }
   ],
   "source": [
    "# Iterating through the dictionary\n",
    "my_dict = {\"Edtech Platform  \" : \"iNeuron \",\"Course Name \" : \"FSDS\", \"Year\" : 2023}\n",
    "for i in my_dict:\n",
    "    print(\"Key = \",i,\"and Value = \",my_dict[i])"
   ]
  },
  {
   "cell_type": "code",
   "execution_count": 103,
   "id": "cb3d832d",
   "metadata": {},
   "outputs": [
    {
     "name": "stdout",
     "output_type": "stream",
     "text": [
      "{'Edtech Platform  ': 'iNeuron ', 'Course Name ': 'FSDS', 'Year': 2025}\n"
     ]
    }
   ],
   "source": [
    "# If Year is 2023, then make it 2025\n",
    "for i in my_dict:\n",
    "    if i == \"Year\" and my_dict[i] == 2023:\n",
    "        my_dict[i] = 2025\n",
    "print(my_dict)"
   ]
  },
  {
   "cell_type": "markdown",
   "id": "9d6d457e",
   "metadata": {},
   "source": [
    "### Dictionary Comprehension"
   ]
  },
  {
   "cell_type": "code",
   "execution_count": 106,
   "id": "7f4ea07e",
   "metadata": {},
   "outputs": [
    {
     "data": {
      "text/plain": [
       "{0: 0, 1: 1, 2: 4, 3: 9, 4: 16, 5: 25, 6: 36, 7: 49, 8: 64, 9: 81}"
      ]
     },
     "execution_count": 106,
     "metadata": {},
     "output_type": "execute_result"
    }
   ],
   "source": [
    "# Key as a number and Value as square of the Key\n",
    "{i:i*i for i in range(10)}"
   ]
  },
  {
   "cell_type": "code",
   "execution_count": 108,
   "id": "8d9fe175",
   "metadata": {},
   "outputs": [
    {
     "data": {
      "text/plain": [
       "{1: 1, 3: 9, 5: 25, 7: 49, 9: 81}"
      ]
     },
     "execution_count": 108,
     "metadata": {},
     "output_type": "execute_result"
    }
   ],
   "source": [
    "# Key as an odd number and Value as square of the Key\n",
    "{i:i*i for i in range(1,10,2)}"
   ]
  },
  {
   "cell_type": "markdown",
   "id": "99ca0a0c",
   "metadata": {},
   "source": [
    "## Question\n",
    "### 1) Take input as a paragraph by using the input function. \n",
    "### 2) Convert all this input into the list.\n",
    "### 3) Remove all the duplicates from your list\n",
    "### 4) Use above distinct elements as key for dictionary and assign your name as values for keys of dictionary.\n",
    "### 5) Print tuple of all the values\n",
    "### 6) Print list of all the keys"
   ]
  },
  {
   "cell_type": "code",
   "execution_count": 91,
   "id": "657a288f",
   "metadata": {},
   "outputs": [
    {
     "name": "stdout",
     "output_type": "stream",
     "text": [
      "Enter the paragraph : Wikipedia is hosted by the Wikimedia Foundation, a non-profit organization that also hosts a range of other projects.\n"
     ]
    }
   ],
   "source": [
    "# 1\n",
    "my_para = input(\"Enter the paragraph : \")"
   ]
  },
  {
   "cell_type": "code",
   "execution_count": 92,
   "id": "52f45317",
   "metadata": {},
   "outputs": [
    {
     "name": "stdout",
     "output_type": "stream",
     "text": [
      "Wikipedia is hosted by the Wikimedia Foundation, a non-profit organization that also hosts a range of other projects.\n"
     ]
    }
   ],
   "source": [
    "print(my_para)"
   ]
  },
  {
   "cell_type": "code",
   "execution_count": 93,
   "id": "c7c6b03d",
   "metadata": {},
   "outputs": [
    {
     "name": "stdout",
     "output_type": "stream",
     "text": [
      "['Wikipedia', 'is', 'hosted', 'by', 'the', 'Wikimedia', 'Foundation,', 'a', 'non-profit', 'organization', 'that', 'also', 'hosts', 'a', 'range', 'of', 'other', 'projects.']\n"
     ]
    }
   ],
   "source": [
    "# 2\n",
    "my_list = my_para.split()\n",
    "print(my_list)"
   ]
  },
  {
   "cell_type": "code",
   "execution_count": 94,
   "id": "ccd76467",
   "metadata": {},
   "outputs": [
    {
     "name": "stdout",
     "output_type": "stream",
     "text": [
      "{'hosts', 'other', 'hosted', 'organization', 'Foundation,', 'also', 'by', 'Wikimedia', 'that', 'Wikipedia', 'non-profit', 'range', 'of', 'is', 'projects.', 'a', 'the'}\n"
     ]
    }
   ],
   "source": [
    "# 3\n",
    "my_set = set(my_list)\n",
    "print(my_set)"
   ]
  },
  {
   "cell_type": "code",
   "execution_count": 95,
   "id": "ec4e4d68",
   "metadata": {},
   "outputs": [
    {
     "name": "stdout",
     "output_type": "stream",
     "text": [
      "{'hosts': 'Bhavya', 'other': 'Bhavya', 'hosted': 'Bhavya', 'organization': 'Bhavya', 'Foundation,': 'Bhavya', 'also': 'Bhavya', 'by': 'Bhavya', 'Wikimedia': 'Bhavya', 'that': 'Bhavya', 'Wikipedia': 'Bhavya', 'non-profit': 'Bhavya', 'range': 'Bhavya', 'of': 'Bhavya', 'is': 'Bhavya', 'projects.': 'Bhavya', 'a': 'Bhavya', 'the': 'Bhavya'}\n"
     ]
    }
   ],
   "source": [
    "# 4\n",
    "my_dict = {}\n",
    "for i in my_set:\n",
    "    my_dict[i] = \"Bhavya\"\n",
    "print(my_dict)"
   ]
  },
  {
   "cell_type": "code",
   "execution_count": 96,
   "id": "9fe08510",
   "metadata": {},
   "outputs": [
    {
     "data": {
      "text/plain": [
       "('Bhavya',\n",
       " 'Bhavya',\n",
       " 'Bhavya',\n",
       " 'Bhavya',\n",
       " 'Bhavya',\n",
       " 'Bhavya',\n",
       " 'Bhavya',\n",
       " 'Bhavya',\n",
       " 'Bhavya',\n",
       " 'Bhavya',\n",
       " 'Bhavya',\n",
       " 'Bhavya',\n",
       " 'Bhavya',\n",
       " 'Bhavya',\n",
       " 'Bhavya',\n",
       " 'Bhavya',\n",
       " 'Bhavya')"
      ]
     },
     "execution_count": 96,
     "metadata": {},
     "output_type": "execute_result"
    }
   ],
   "source": [
    "# 5\n",
    "tuple(my_dict.values())"
   ]
  },
  {
   "cell_type": "code",
   "execution_count": 97,
   "id": "84ea81de",
   "metadata": {},
   "outputs": [
    {
     "data": {
      "text/plain": [
       "['hosts',\n",
       " 'other',\n",
       " 'hosted',\n",
       " 'organization',\n",
       " 'Foundation,',\n",
       " 'also',\n",
       " 'by',\n",
       " 'Wikimedia',\n",
       " 'that',\n",
       " 'Wikipedia',\n",
       " 'non-profit',\n",
       " 'range',\n",
       " 'of',\n",
       " 'is',\n",
       " 'projects.',\n",
       " 'a',\n",
       " 'the']"
      ]
     },
     "execution_count": 97,
     "metadata": {},
     "output_type": "execute_result"
    }
   ],
   "source": [
    "# 6\n",
    "list(my_dict.keys())"
   ]
  }
 ],
 "metadata": {
  "kernelspec": {
   "display_name": "Python 3 (ipykernel)",
   "language": "python",
   "name": "python3"
  },
  "language_info": {
   "codemirror_mode": {
    "name": "ipython",
    "version": 3
   },
   "file_extension": ".py",
   "mimetype": "text/x-python",
   "name": "python",
   "nbconvert_exporter": "python",
   "pygments_lexer": "ipython3",
   "version": "3.9.7"
  }
 },
 "nbformat": 4,
 "nbformat_minor": 5
}
