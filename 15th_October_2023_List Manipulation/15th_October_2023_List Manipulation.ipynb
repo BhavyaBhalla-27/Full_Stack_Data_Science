{
 "cells": [
  {
   "cell_type": "markdown",
   "id": "97aa9368",
   "metadata": {},
   "source": [
    "# 15th October 2023 - List Manipulation"
   ]
  },
  {
   "cell_type": "code",
   "execution_count": 2,
   "id": "849a9323",
   "metadata": {},
   "outputs": [
    {
     "name": "stdout",
     "output_type": "stream",
     "text": [
      "['Bhavya', 1, 2, 3, True, [6, 7, 8.9, (2+3j)]]\n"
     ]
    }
   ],
   "source": [
    "my_list = [\"Bhavya\",1,2,3,True,[6,7,8.9,2+3j]]\n",
    "print(my_list)"
   ]
  },
  {
   "cell_type": "code",
   "execution_count": 3,
   "id": "6afc3350",
   "metadata": {},
   "outputs": [
    {
     "name": "stdout",
     "output_type": "stream",
     "text": [
      "6\n",
      "7\n",
      "8.9\n",
      "(2+3j)\n"
     ]
    }
   ],
   "source": [
    "for i in my_list:\n",
    "    if type(i) == list: # Extracting elements of the nested list\n",
    "        for j in i:\n",
    "            print(j)"
   ]
  },
  {
   "cell_type": "code",
   "execution_count": 4,
   "id": "3a00842a",
   "metadata": {},
   "outputs": [
    {
     "data": {
      "text/plain": [
       "[[6, 7, 8.9, (2+3j)], True, 3, 2, 1, 'Bhavya']"
      ]
     },
     "execution_count": 4,
     "metadata": {},
     "output_type": "execute_result"
    }
   ],
   "source": [
    "my_list[::-1] # Reverse order"
   ]
  },
  {
   "cell_type": "code",
   "execution_count": 7,
   "id": "c4985869",
   "metadata": {},
   "outputs": [
    {
     "name": "stdout",
     "output_type": "stream",
     "text": [
      "[1, 2, 3, 4, 5, 6]\n",
      "[1, 2, 3, 1, 2, 3]\n",
      "3\n"
     ]
    }
   ],
   "source": [
    "l1 = [1,2,3]\n",
    "l2 = [4,5,6]\n",
    "print(l1+l2)\n",
    "print(l1*2)"
   ]
  },
  {
   "cell_type": "markdown",
   "id": "6e91012c",
   "metadata": {},
   "source": [
    "#### Inbuilt functions in list"
   ]
  },
  {
   "cell_type": "code",
   "execution_count": 10,
   "id": "7870d1a5",
   "metadata": {},
   "outputs": [
    {
     "name": "stdout",
     "output_type": "stream",
     "text": [
      "4\n",
      "c\n"
     ]
    },
    {
     "ename": "TypeError",
     "evalue": "'>' not supported between instances of 'int' and 'str'",
     "output_type": "error",
     "traceback": [
      "\u001b[1;31m---------------------------------------------------------------------------\u001b[0m",
      "\u001b[1;31mTypeError\u001b[0m                                 Traceback (most recent call last)",
      "Cell \u001b[1;32mIn[10], line 5\u001b[0m\n\u001b[0;32m      3\u001b[0m \u001b[38;5;28mprint\u001b[39m(\u001b[38;5;28mmax\u001b[39m(my_list))\n\u001b[0;32m      4\u001b[0m \u001b[38;5;28mprint\u001b[39m(\u001b[38;5;28mmax\u001b[39m(\u001b[38;5;124m\"\u001b[39m\u001b[38;5;124ma\u001b[39m\u001b[38;5;124m\"\u001b[39m,\u001b[38;5;124m\"\u001b[39m\u001b[38;5;124mb\u001b[39m\u001b[38;5;124m\"\u001b[39m,\u001b[38;5;124m\"\u001b[39m\u001b[38;5;124mc\u001b[39m\u001b[38;5;124m\"\u001b[39m))\n\u001b[1;32m----> 5\u001b[0m \u001b[38;5;28mprint\u001b[39m(\u001b[38;5;28mmax\u001b[39m([\u001b[38;5;124m\"\u001b[39m\u001b[38;5;124mbhavya\u001b[39m\u001b[38;5;124m\"\u001b[39m,\u001b[38;5;241m1\u001b[39m,\u001b[38;5;241m2\u001b[39m]))\n",
      "\u001b[1;31mTypeError\u001b[0m: '>' not supported between instances of 'int' and 'str'"
     ]
    }
   ],
   "source": [
    "# max function\n",
    "my_list = [1,2,3,4]\n",
    "print(max(my_list))\n",
    "print(max(\"a\",\"b\",\"c\"))\n",
    "print(max([\"bhavya\",1,2])) # Error as can not compare string with number"
   ]
  },
  {
   "cell_type": "code",
   "execution_count": 11,
   "id": "684fb4be",
   "metadata": {},
   "outputs": [
    {
     "name": "stdout",
     "output_type": "stream",
     "text": [
      "1\n",
      "a\n"
     ]
    },
    {
     "ename": "TypeError",
     "evalue": "'<' not supported between instances of 'int' and 'str'",
     "output_type": "error",
     "traceback": [
      "\u001b[1;31m---------------------------------------------------------------------------\u001b[0m",
      "\u001b[1;31mTypeError\u001b[0m                                 Traceback (most recent call last)",
      "Cell \u001b[1;32mIn[11], line 4\u001b[0m\n\u001b[0;32m      2\u001b[0m \u001b[38;5;28mprint\u001b[39m(\u001b[38;5;28mmin\u001b[39m(my_list))\n\u001b[0;32m      3\u001b[0m \u001b[38;5;28mprint\u001b[39m(\u001b[38;5;28mmin\u001b[39m(\u001b[38;5;124m\"\u001b[39m\u001b[38;5;124ma\u001b[39m\u001b[38;5;124m\"\u001b[39m,\u001b[38;5;124m\"\u001b[39m\u001b[38;5;124mb\u001b[39m\u001b[38;5;124m\"\u001b[39m,\u001b[38;5;124m\"\u001b[39m\u001b[38;5;124mc\u001b[39m\u001b[38;5;124m\"\u001b[39m))\n\u001b[1;32m----> 4\u001b[0m \u001b[38;5;28mprint\u001b[39m(\u001b[38;5;28mmin\u001b[39m(\u001b[38;5;124m\"\u001b[39m\u001b[38;5;124mbhavya\u001b[39m\u001b[38;5;124m\"\u001b[39m,\u001b[38;5;241m1\u001b[39m,\u001b[38;5;241m2\u001b[39m))\n",
      "\u001b[1;31mTypeError\u001b[0m: '<' not supported between instances of 'int' and 'str'"
     ]
    }
   ],
   "source": [
    "# min function\n",
    "print(min(my_list))\n",
    "print(min(\"a\",\"b\",\"c\"))\n",
    "print(min(\"bhavya\",1,2))"
   ]
  },
  {
   "cell_type": "code",
   "execution_count": 12,
   "id": "1c5e9f7e",
   "metadata": {},
   "outputs": [
    {
     "name": "stdout",
     "output_type": "stream",
     "text": [
      "[1, 2, 3, 4, 5]\n",
      "[1, 2, 3, 4, 5, [6, 7, 8]]\n"
     ]
    }
   ],
   "source": [
    "# append function\n",
    "my_list = [1,2,3,4]\n",
    "my_list.append(5) # Will insert 5 at the last of the list\n",
    "print(my_list)\n",
    "my_list.append([6,7,8])\n",
    "print(my_list)"
   ]
  },
  {
   "cell_type": "code",
   "execution_count": 18,
   "id": "1b5e98d4",
   "metadata": {},
   "outputs": [
    {
     "name": "stdout",
     "output_type": "stream",
     "text": [
      "[1, 1.5, 2, 3, 4]\n",
      "[1, 1.5, 2, 3, [3.2, 3.4, 3.6, 3.8], 4]\n",
      "[1, 1.5, 2, 3, [3.2, 3.4, 3.6, 3.8], 5, 4]\n"
     ]
    }
   ],
   "source": [
    "# insert function\n",
    "my_list = [1,2,3,4]\n",
    "my_list.insert(1,1.5) # Inserts 1.5 at index = 1\n",
    "print(my_list)\n",
    "my_list.insert(4,[3.2,3.4,3.6,3.8])\n",
    "print(my_list)\n",
    "my_list.insert(-1,5)\n",
    "print(my_list)"
   ]
  },
  {
   "cell_type": "code",
   "execution_count": 20,
   "id": "1afa4252",
   "metadata": {},
   "outputs": [
    {
     "data": {
      "text/plain": [
       "4"
      ]
     },
     "execution_count": 20,
     "metadata": {},
     "output_type": "execute_result"
    }
   ],
   "source": [
    "# count function\n",
    "my_list = [1,2,3,1,1,1,4,5,2,3]\n",
    "my_list.count(1)"
   ]
  },
  {
   "cell_type": "code",
   "execution_count": 24,
   "id": "384b76c3",
   "metadata": {},
   "outputs": [
    {
     "name": "stdout",
     "output_type": "stream",
     "text": [
      "[1, 2, 3, 4, 5]\n",
      "[1, 2, 3, 4, 5, 6, 7, 8]\n",
      "[1, 2, 3, 4, 5, 6, 7, 8, 'b', 'h', 'a', 'v', 'y', 'a']\n"
     ]
    }
   ],
   "source": [
    "# extend function\n",
    "my_list = [1,2,3,4]\n",
    "my_list.extend([5])\n",
    "print(my_list)\n",
    "my_list.extend([6,7,8])\n",
    "print(my_list)\n",
    "my_list.extend(\"bhavya\")\n",
    "print(my_list)"
   ]
  },
  {
   "cell_type": "code",
   "execution_count": 25,
   "id": "f6c2498b",
   "metadata": {},
   "outputs": [
    {
     "data": {
      "text/plain": [
       "0"
      ]
     },
     "execution_count": 25,
     "metadata": {},
     "output_type": "execute_result"
    }
   ],
   "source": [
    "# index function\n",
    "my_list=[1,2,2,1,1,1,3]\n",
    "my_list.index(1) # Returns the index of first occurrence of value 1"
   ]
  },
  {
   "cell_type": "code",
   "execution_count": 28,
   "id": "8f0e5a73",
   "metadata": {},
   "outputs": [
    {
     "name": "stdout",
     "output_type": "stream",
     "text": [
      "[1, 3]\n"
     ]
    }
   ],
   "source": [
    "# pop function\n",
    "my_list = [1,2,3,4]\n",
    "my_list.pop()\n",
    "my_list.pop(1)\n",
    "print(my_list)"
   ]
  },
  {
   "cell_type": "code",
   "execution_count": 30,
   "id": "3c622415",
   "metadata": {},
   "outputs": [
    {
     "name": "stdout",
     "output_type": "stream",
     "text": [
      "[1, 1, 2, 2, 2, 3]\n"
     ]
    }
   ],
   "source": [
    "# remove function\n",
    "my_list = [1,1,1,2,2,2,3]\n",
    "my_list.remove(1)\n",
    "print(my_list)"
   ]
  },
  {
   "cell_type": "code",
   "execution_count": 32,
   "id": "21b83cc9",
   "metadata": {},
   "outputs": [
    {
     "name": "stdout",
     "output_type": "stream",
     "text": [
      "[4, 3, 2, 1]\n"
     ]
    }
   ],
   "source": [
    "# reverse function\n",
    "my_list = [1,2,3,4]\n",
    "my_list.reverse()\n",
    "print(my_list)"
   ]
  },
  {
   "cell_type": "code",
   "execution_count": 37,
   "id": "3c82f5a5",
   "metadata": {},
   "outputs": [
    {
     "name": "stdout",
     "output_type": "stream",
     "text": [
      "[4, 3, 2, 1]\n"
     ]
    },
    {
     "ename": "TypeError",
     "evalue": "'<' not supported between instances of 'int' and 'str'",
     "output_type": "error",
     "traceback": [
      "\u001b[1;31m---------------------------------------------------------------------------\u001b[0m",
      "\u001b[1;31mTypeError\u001b[0m                                 Traceback (most recent call last)",
      "Cell \u001b[1;32mIn[37], line 6\u001b[0m\n\u001b[0;32m      4\u001b[0m \u001b[38;5;28mprint\u001b[39m(my_list)\n\u001b[0;32m      5\u001b[0m my_list1 \u001b[38;5;241m=\u001b[39m [\u001b[38;5;124m\"\u001b[39m\u001b[38;5;124mbhavya\u001b[39m\u001b[38;5;124m\"\u001b[39m,\u001b[38;5;241m1\u001b[39m,\u001b[38;5;241m2\u001b[39m,\u001b[38;5;241m3\u001b[39m,\u001b[38;5;241m4\u001b[39m,\u001b[38;5;124m\"\u001b[39m\u001b[38;5;124ma\u001b[39m\u001b[38;5;124m\"\u001b[39m,\u001b[38;5;124m\"\u001b[39m\u001b[38;5;124mb\u001b[39m\u001b[38;5;124m\"\u001b[39m,\u001b[38;5;124m\"\u001b[39m\u001b[38;5;124mc\u001b[39m\u001b[38;5;124m\"\u001b[39m]\n\u001b[1;32m----> 6\u001b[0m my_list1\u001b[38;5;241m.\u001b[39msort()\n\u001b[0;32m      7\u001b[0m \u001b[38;5;28mprint\u001b[39m(my_list1)\n",
      "\u001b[1;31mTypeError\u001b[0m: '<' not supported between instances of 'int' and 'str'"
     ]
    }
   ],
   "source": [
    "# sort function\n",
    "my_list = [4,2,1,3]\n",
    "my_list.sort(reverse=True) # reverse is set to true and hence sorts in descending order else by default it is in ascending order\n",
    "print(my_list)\n",
    "my_list1 = [\"bhavya\",1,2,3,4,\"a\",\"b\",\"c\"]\n",
    "my_list1.sort()\n",
    "print(my_list1)"
   ]
  },
  {
   "cell_type": "code",
   "execution_count": 78,
   "id": "7a3a7d09",
   "metadata": {},
   "outputs": [
    {
     "name": "stdout",
     "output_type": "stream",
     "text": [
      "[[1, 2, 3], ['bhavya', 4, 5, 'bhavya', 'bhavya', 'bhavya', 'bhavya'], (2+3j), [32, 45, 67], [54, 21, 43], [6, 7, 8, 'a', 'a', 'a']]\n",
      "[[1, 2, 3], [4, 5], (2+3j), [32, 45, 67], [54, 21, 43], [6, 7, 8]]\n",
      "2 5 45 21 7 "
     ]
    }
   ],
   "source": [
    "# There is a nested list such as my_list = [[],[],[],[]]\n",
    "my_list = [[1,2,3],[\"bhavya\",4,5,\"bhavya\",\"bhavya\",\"bhavya\",\"bhavya\"],[6,7,8,\"a\",\"a\",\"a\",]]\n",
    "# Q1 -> Append 2 more list and one complex number to my_list in between\n",
    "my_list.insert(2,[54,21,43])\n",
    "my_list.insert(2,[32,45,67])\n",
    "my_list.insert(2,2+3j)\n",
    "print(my_list)\n",
    "# Q2 -> If the nested list contains string then remove it\n",
    "for i in my_list:\n",
    "    if type(i) == list:\n",
    "        for j in i:\n",
    "            if(type(j) == str):\n",
    "                count = i.count(j)\n",
    "                while(count != 0):\n",
    "                    i.remove(j)\n",
    "                    count = i.count(j)\n",
    "print(my_list)\n",
    "# Q3 -> Extract 2nd element of each nested list.\n",
    "for i in my_list:\n",
    "    if type(i) == list:\n",
    "        print(i[1],end=\" \")"
   ]
  },
  {
   "cell_type": "code",
   "execution_count": 59,
   "id": "0d4308c8",
   "metadata": {},
   "outputs": [
    {
     "name": "stdout",
     "output_type": "stream",
     "text": [
      "Enter the number of elements : 10\n",
      "Enter the integer number : 1\n",
      "Enter the integer number : 2\n",
      "Enter the integer number : 3\n",
      "Enter the integer number : 4\n",
      "Enter the integer number : 5\n",
      "Enter the integer number : 6\n",
      "Enter the integer number : 7\n",
      "Enter the integer number : 8\n",
      "Enter the integer number : 9\n",
      "Enter the integer number : 10\n",
      "[1, 2, 3, 4, 5, 6, 7, 8, 9, 10]\n"
     ]
    }
   ],
   "source": [
    "# Taking input from user in the list\n",
    "my_list = []\n",
    "n = int(input(\"Enter the number of elements : \"))\n",
    "for i in range(n):\n",
    "    x = int(input(\"Enter the integer number : \"))\n",
    "    my_list.append(x)\n",
    "print(my_list)"
   ]
  },
  {
   "cell_type": "markdown",
   "id": "bd2d08cf",
   "metadata": {},
   "source": [
    "### List Comprehension"
   ]
  },
  {
   "cell_type": "code",
   "execution_count": 79,
   "id": "ddc8e8f7",
   "metadata": {},
   "outputs": [
    {
     "name": "stdout",
     "output_type": "stream",
     "text": [
      "['B', 'h', 'a', 'v', 'y', 'a']\n"
     ]
    }
   ],
   "source": [
    "# We have to write the below code in a single line and this can be done via list comprehension\n",
    "my_list = []\n",
    "for i in \"Bhavya\":\n",
    "    my_list.append(i)\n",
    "print(my_list)"
   ]
  },
  {
   "cell_type": "code",
   "execution_count": 80,
   "id": "4f5afbb2",
   "metadata": {},
   "outputs": [
    {
     "data": {
      "text/plain": [
       "['B', 'h', 'a', 'v', 'y', 'a']"
      ]
     },
     "execution_count": 80,
     "metadata": {},
     "output_type": "execute_result"
    }
   ],
   "source": [
    "[i for i in \"Bhavya\"]"
   ]
  },
  {
   "cell_type": "code",
   "execution_count": 83,
   "id": "ed4253d1",
   "metadata": {},
   "outputs": [
    {
     "name": "stdout",
     "output_type": "stream",
     "text": [
      "[0, 2, 4, 6, 8]\n"
     ]
    }
   ],
   "source": [
    "# Create a list of even numbers without list comprehension\n",
    "my_list = []\n",
    "for i in range(10):\n",
    "    if(i%2 == 0):\n",
    "        my_list.append(i)\n",
    "print(my_list)"
   ]
  },
  {
   "cell_type": "code",
   "execution_count": 82,
   "id": "53e31837",
   "metadata": {},
   "outputs": [
    {
     "data": {
      "text/plain": [
       "[0, 2, 4, 6, 8]"
      ]
     },
     "execution_count": 82,
     "metadata": {},
     "output_type": "execute_result"
    }
   ],
   "source": [
    "# Create a list of even numbers using list comprehension\n",
    "[i for i in range(10) if(i%2==0)]"
   ]
  },
  {
   "cell_type": "code",
   "execution_count": 84,
   "id": "407ac7b8",
   "metadata": {},
   "outputs": [
    {
     "data": {
      "text/plain": [
       "[1, 3, 5, 7, 9]"
      ]
     },
     "execution_count": 84,
     "metadata": {},
     "output_type": "execute_result"
    }
   ],
   "source": [
    "# Create a list of odd numbers using list comprehension\n",
    "[i for i in range(10) if(i%2!=0)]"
   ]
  },
  {
   "cell_type": "code",
   "execution_count": 88,
   "id": "af4e29cf",
   "metadata": {},
   "outputs": [
    {
     "data": {
      "text/plain": [
       "['even', 'odd', 'even', 'odd', 'even']"
      ]
     },
     "execution_count": 88,
     "metadata": {},
     "output_type": "execute_result"
    }
   ],
   "source": [
    "# Create a list which will label odd and even depending upon the index using list comprehension\n",
    "[\"odd\" if i%2 !=0 else \"even\" for i in range(5)]"
   ]
  },
  {
   "cell_type": "code",
   "execution_count": 91,
   "id": "8697e8ee",
   "metadata": {},
   "outputs": [
    {
     "data": {
      "text/plain": [
       "[[0, 1, 2], [0, 1, 2], [0, 1, 2]]"
      ]
     },
     "execution_count": 91,
     "metadata": {},
     "output_type": "execute_result"
    }
   ],
   "source": [
    "# Create a list [[0,1,2],[0,1,2],[0,1,2]] using list comprehension\n",
    "[[j for j in range(3)] for i in range(3)]"
   ]
  },
  {
   "cell_type": "code",
   "execution_count": 95,
   "id": "0c78bcb8",
   "metadata": {},
   "outputs": [
    {
     "data": {
      "text/plain": [
       "[2, 4, 8]"
      ]
     },
     "execution_count": 95,
     "metadata": {},
     "output_type": "execute_result"
    }
   ],
   "source": [
    "# Writing nested conditions in list comprehension\n",
    "[i for i in range(10) if i%2 == 0 if i % 3 != 0]"
   ]
  },
  {
   "cell_type": "code",
   "execution_count": 96,
   "id": "5620eb31",
   "metadata": {
    "scrolled": true
   },
   "outputs": [
    {
     "name": "stdout",
     "output_type": "stream",
     "text": [
      "['test', 'yes', 'no', 'test', 'test', 'test', 'test', 'test', 'test']\n"
     ]
    }
   ],
   "source": [
    "# Replicating elif in list comprehension\n",
    "my_list = [0,1,2,3,4,5,6,7,8]\n",
    "res = []\n",
    "for i in my_list:\n",
    "    if i == 1:\n",
    "        res.append(\"yes\")\n",
    "    elif i == 2:\n",
    "        res.append(\"no\")\n",
    "    else:\n",
    "        res.append(\"test\")\n",
    "print(res)"
   ]
  },
  {
   "cell_type": "code",
   "execution_count": 97,
   "id": "39db1b77",
   "metadata": {},
   "outputs": [
    {
     "data": {
      "text/plain": [
       "['test', 'yes', 'no', 'test', 'test', 'test', 'test', 'test', 'test']"
      ]
     },
     "execution_count": 97,
     "metadata": {},
     "output_type": "execute_result"
    }
   ],
   "source": [
    "[\"yes\" if i == 1 else \"no\" if i == 2 else \"test\" for i in my_list]"
   ]
  }
 ],
 "metadata": {
  "kernelspec": {
   "display_name": "Python 3 (ipykernel)",
   "language": "python",
   "name": "python3"
  },
  "language_info": {
   "codemirror_mode": {
    "name": "ipython",
    "version": 3
   },
   "file_extension": ".py",
   "mimetype": "text/x-python",
   "name": "python",
   "nbconvert_exporter": "python",
   "pygments_lexer": "ipython3",
   "version": "3.11.5"
  }
 },
 "nbformat": 4,
 "nbformat_minor": 5
}
