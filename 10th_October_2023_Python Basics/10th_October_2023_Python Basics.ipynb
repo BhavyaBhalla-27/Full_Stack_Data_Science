{
 "cells": [
  {
   "cell_type": "markdown",
   "id": "e2a69ef3",
   "metadata": {},
   "source": [
    "# 10th October 2023 - Python Basics"
   ]
  },
  {
   "cell_type": "markdown",
   "id": "43e5595b",
   "metadata": {},
   "source": [
    "### Print Function - To display something as output, print function is used."
   ]
  },
  {
   "cell_type": "code",
   "execution_count": 6,
   "id": "a5a00e74",
   "metadata": {},
   "outputs": [
    {
     "name": "stdout",
     "output_type": "stream",
     "text": [
      "Hello World\n"
     ]
    }
   ],
   "source": [
    "print(\"Hello World\") # Double quotes will work"
   ]
  },
  {
   "cell_type": "code",
   "execution_count": 4,
   "id": "8f447343",
   "metadata": {},
   "outputs": [
    {
     "name": "stdout",
     "output_type": "stream",
     "text": [
      "Hello World\n"
     ]
    }
   ],
   "source": [
    "print('Hello World') # Single quotes will also work"
   ]
  },
  {
   "cell_type": "markdown",
   "id": "0a8eab08",
   "metadata": {},
   "source": [
    "### Comments - Simple statements which are not executed by the compiler and simply ignored."
   ]
  },
  {
   "cell_type": "markdown",
   "id": "0340e556",
   "metadata": {},
   "source": [
    "#### Single line comment"
   ]
  },
  {
   "cell_type": "code",
   "execution_count": 7,
   "id": "c5213643",
   "metadata": {},
   "outputs": [],
   "source": [
    "# This is a comment and would be ignored by the compiler."
   ]
  },
  {
   "cell_type": "markdown",
   "id": "104c9361",
   "metadata": {},
   "source": [
    "#### Multiline comment"
   ]
  },
  {
   "cell_type": "code",
   "execution_count": 9,
   "id": "83d008b2",
   "metadata": {},
   "outputs": [
    {
     "data": {
      "text/plain": [
       "'Hello. This\\nis a \\nmultiline comment.'"
      ]
     },
     "execution_count": 9,
     "metadata": {},
     "output_type": "execute_result"
    }
   ],
   "source": [
    "\"\"\"Hello. This\n",
    "is a \n",
    "multiline comment.\"\"\""
   ]
  },
  {
   "cell_type": "code",
   "execution_count": 10,
   "id": "68c818f5",
   "metadata": {},
   "outputs": [
    {
     "data": {
      "text/plain": [
       "'Hello. This \\nis a \\nmultiline comment.\\n'"
      ]
     },
     "execution_count": 10,
     "metadata": {},
     "output_type": "execute_result"
    }
   ],
   "source": [
    "'''Hello. This \n",
    "is a \n",
    "multiline comment.\n",
    "'''"
   ]
  },
  {
   "cell_type": "markdown",
   "id": "fbd6060e",
   "metadata": {},
   "source": [
    "### Variable - These are named memory blocks which is used to store values."
   ]
  },
  {
   "cell_type": "code",
   "execution_count": 13,
   "id": "025a2737",
   "metadata": {},
   "outputs": [],
   "source": [
    "a = 10 # Here a is a variable and we are storing 10 in a."
   ]
  },
  {
   "cell_type": "code",
   "execution_count": 14,
   "id": "433cdede",
   "metadata": {},
   "outputs": [],
   "source": [
    "b = \"bhavya\" # Here b is a variable and we are storing bhavya in b."
   ]
  },
  {
   "cell_type": "code",
   "execution_count": 15,
   "id": "30e8fc27",
   "metadata": {},
   "outputs": [
    {
     "data": {
      "text/plain": [
       "10"
      ]
     },
     "execution_count": 15,
     "metadata": {},
     "output_type": "execute_result"
    }
   ],
   "source": [
    "a"
   ]
  },
  {
   "cell_type": "code",
   "execution_count": 16,
   "id": "fa8efb18",
   "metadata": {},
   "outputs": [
    {
     "data": {
      "text/plain": [
       "'bhavya'"
      ]
     },
     "execution_count": 16,
     "metadata": {},
     "output_type": "execute_result"
    }
   ],
   "source": [
    "b"
   ]
  },
  {
   "cell_type": "code",
   "execution_count": 21,
   "id": "c6309698",
   "metadata": {},
   "outputs": [
    {
     "name": "stdout",
     "output_type": "stream",
     "text": [
      "20\n",
      "30\n"
     ]
    }
   ],
   "source": [
    "x,y = 20,30\n",
    "print(x)\n",
    "print(y)"
   ]
  },
  {
   "cell_type": "code",
   "execution_count": 23,
   "id": "5f7a7054",
   "metadata": {},
   "outputs": [
    {
     "ename": "SyntaxError",
     "evalue": "invalid syntax (Temp/ipykernel_4804/1421812975.py, line 1)",
     "output_type": "error",
     "traceback": [
      "\u001b[1;36m  File \u001b[1;32m\"C:\\Users\\Asus\\AppData\\Local\\Temp/ipykernel_4804/1421812975.py\"\u001b[1;36m, line \u001b[1;32m1\u001b[0m\n\u001b[1;33m    1b = \"Hello\" # Note that variable name can not start with a number\u001b[0m\n\u001b[1;37m     ^\u001b[0m\n\u001b[1;31mSyntaxError\u001b[0m\u001b[1;31m:\u001b[0m invalid syntax\n"
     ]
    }
   ],
   "source": [
    "1b = \"Hello\" # Note that variable name can not start with a number"
   ]
  },
  {
   "cell_type": "code",
   "execution_count": 24,
   "id": "81518751",
   "metadata": {},
   "outputs": [
    {
     "name": "stdout",
     "output_type": "stream",
     "text": [
      "10\n"
     ]
    }
   ],
   "source": [
    "_b = 10\n",
    "print(_b)"
   ]
  },
  {
   "cell_type": "code",
   "execution_count": 26,
   "id": "67f7db15",
   "metadata": {},
   "outputs": [
    {
     "ename": "SyntaxError",
     "evalue": "invalid syntax (Temp/ipykernel_4804/1483045372.py, line 1)",
     "output_type": "error",
     "traceback": [
      "\u001b[1;36m  File \u001b[1;32m\"C:\\Users\\Asus\\AppData\\Local\\Temp/ipykernel_4804/1483045372.py\"\u001b[1;36m, line \u001b[1;32m1\u001b[0m\n\u001b[1;33m    a@ = 20 #\u001b[0m\n\u001b[1;37m       ^\u001b[0m\n\u001b[1;31mSyntaxError\u001b[0m\u001b[1;31m:\u001b[0m invalid syntax\n"
     ]
    }
   ],
   "source": [
    "@a = 20 # Note that variable name can not have any special character other than underscore (_) "
   ]
  },
  {
   "cell_type": "markdown",
   "id": "b7c7001a",
   "metadata": {},
   "source": [
    "### Type Function - It is used to check the data type of the variable."
   ]
  },
  {
   "cell_type": "code",
   "execution_count": 18,
   "id": "c1e19341",
   "metadata": {},
   "outputs": [
    {
     "data": {
      "text/plain": [
       "int"
      ]
     },
     "execution_count": 18,
     "metadata": {},
     "output_type": "execute_result"
    }
   ],
   "source": [
    "type(a)"
   ]
  },
  {
   "cell_type": "code",
   "execution_count": 19,
   "id": "681e9f33",
   "metadata": {},
   "outputs": [
    {
     "data": {
      "text/plain": [
       "str"
      ]
     },
     "execution_count": 19,
     "metadata": {},
     "output_type": "execute_result"
    }
   ],
   "source": [
    "type(b)"
   ]
  },
  {
   "cell_type": "markdown",
   "id": "2e99171e",
   "metadata": {},
   "source": [
    "### Some other data types in Python"
   ]
  },
  {
   "cell_type": "code",
   "execution_count": 27,
   "id": "856830d3",
   "metadata": {},
   "outputs": [
    {
     "data": {
      "text/plain": [
       "float"
      ]
     },
     "execution_count": 27,
     "metadata": {},
     "output_type": "execute_result"
    }
   ],
   "source": [
    "z = 10.6 # This is a floating point number\n",
    "type(z)"
   ]
  },
  {
   "cell_type": "code",
   "execution_count": 28,
   "id": "60e1009d",
   "metadata": {},
   "outputs": [
    {
     "data": {
      "text/plain": [
       "bool"
      ]
     },
     "execution_count": 28,
     "metadata": {},
     "output_type": "execute_result"
    }
   ],
   "source": [
    "y = True\n",
    "type(y)"
   ]
  },
  {
   "cell_type": "code",
   "execution_count": 30,
   "id": "66bbfced",
   "metadata": {},
   "outputs": [
    {
     "data": {
      "text/plain": [
       "4"
      ]
     },
     "execution_count": 30,
     "metadata": {},
     "output_type": "execute_result"
    }
   ],
   "source": [
    "# Here True is treated as 1 and False is treated as 0\n",
    "True+True+True+False+True"
   ]
  },
  {
   "cell_type": "code",
   "execution_count": 34,
   "id": "38ba3951",
   "metadata": {},
   "outputs": [
    {
     "ename": "ZeroDivisionError",
     "evalue": "division by zero",
     "output_type": "error",
     "traceback": [
      "\u001b[1;31m---------------------------------------------------------------------------\u001b[0m",
      "\u001b[1;31mZeroDivisionError\u001b[0m                         Traceback (most recent call last)",
      "\u001b[1;32m~\\AppData\\Local\\Temp/ipykernel_4804/3469008691.py\u001b[0m in \u001b[0;36m<module>\u001b[1;34m\u001b[0m\n\u001b[0;32m      1\u001b[0m \u001b[1;31m# Here True is treated as 1 and False is treated as 0\u001b[0m\u001b[1;33m\u001b[0m\u001b[1;33m\u001b[0m\u001b[0m\n\u001b[1;32m----> 2\u001b[1;33m \u001b[1;32mTrue\u001b[0m\u001b[1;33m/\u001b[0m\u001b[1;32mFalse\u001b[0m\u001b[1;33m\u001b[0m\u001b[1;33m\u001b[0m\u001b[0m\n\u001b[0m",
      "\u001b[1;31mZeroDivisionError\u001b[0m: division by zero"
     ]
    }
   ],
   "source": [
    "# Here True is treated as 1 and False is treated as 0\n",
    "True/False"
   ]
  },
  {
   "cell_type": "code",
   "execution_count": 32,
   "id": "06e962c9",
   "metadata": {},
   "outputs": [
    {
     "data": {
      "text/plain": [
       "0"
      ]
     },
     "execution_count": 32,
     "metadata": {},
     "output_type": "execute_result"
    }
   ],
   "source": [
    "# Here True is treated as 1 and False is treated as 0\n",
    "False - True + True"
   ]
  },
  {
   "cell_type": "code",
   "execution_count": 35,
   "id": "635e59c3",
   "metadata": {},
   "outputs": [
    {
     "data": {
      "text/plain": [
       "complex"
      ]
     },
     "execution_count": 35,
     "metadata": {},
     "output_type": "execute_result"
    }
   ],
   "source": [
    "n = 45 + 6j\n",
    "type(n)"
   ]
  },
  {
   "cell_type": "code",
   "execution_count": 36,
   "id": "14bafa65",
   "metadata": {},
   "outputs": [
    {
     "data": {
      "text/plain": [
       "45.0"
      ]
     },
     "execution_count": 36,
     "metadata": {},
     "output_type": "execute_result"
    }
   ],
   "source": [
    "n.real"
   ]
  },
  {
   "cell_type": "code",
   "execution_count": 37,
   "id": "25222120",
   "metadata": {},
   "outputs": [
    {
     "data": {
      "text/plain": [
       "6.0"
      ]
     },
     "execution_count": 37,
     "metadata": {},
     "output_type": "execute_result"
    }
   ],
   "source": [
    "n.imag"
   ]
  },
  {
   "cell_type": "markdown",
   "id": "77b3f365",
   "metadata": {},
   "source": [
    "### int function - It is used to cast to integer data type."
   ]
  },
  {
   "cell_type": "code",
   "execution_count": 49,
   "id": "708cd785",
   "metadata": {},
   "outputs": [
    {
     "data": {
      "text/plain": [
       "21"
      ]
     },
     "execution_count": 49,
     "metadata": {},
     "output_type": "execute_result"
    }
   ],
   "source": [
    "int('21')"
   ]
  },
  {
   "cell_type": "code",
   "execution_count": 50,
   "id": "c1f471f7",
   "metadata": {},
   "outputs": [
    {
     "data": {
      "text/plain": [
       "21"
      ]
     },
     "execution_count": 50,
     "metadata": {},
     "output_type": "execute_result"
    }
   ],
   "source": [
    "int(21.2)"
   ]
  },
  {
   "cell_type": "code",
   "execution_count": 51,
   "id": "feab9f98",
   "metadata": {},
   "outputs": [
    {
     "data": {
      "text/plain": [
       "1"
      ]
     },
     "execution_count": 51,
     "metadata": {},
     "output_type": "execute_result"
    }
   ],
   "source": [
    "int(True)"
   ]
  },
  {
   "cell_type": "code",
   "execution_count": 52,
   "id": "cd7a7c5e",
   "metadata": {},
   "outputs": [
    {
     "ename": "ValueError",
     "evalue": "invalid literal for int() with base 10: 'Hello'",
     "output_type": "error",
     "traceback": [
      "\u001b[1;31m---------------------------------------------------------------------------\u001b[0m",
      "\u001b[1;31mValueError\u001b[0m                                Traceback (most recent call last)",
      "\u001b[1;32m~\\AppData\\Local\\Temp/ipykernel_4804/875039421.py\u001b[0m in \u001b[0;36m<module>\u001b[1;34m\u001b[0m\n\u001b[1;32m----> 1\u001b[1;33m \u001b[0mint\u001b[0m\u001b[1;33m(\u001b[0m\u001b[1;34m'Hello'\u001b[0m\u001b[1;33m)\u001b[0m\u001b[1;33m\u001b[0m\u001b[1;33m\u001b[0m\u001b[0m\n\u001b[0m",
      "\u001b[1;31mValueError\u001b[0m: invalid literal for int() with base 10: 'Hello'"
     ]
    }
   ],
   "source": [
    "int('Hello')"
   ]
  },
  {
   "cell_type": "code",
   "execution_count": 53,
   "id": "ff753777",
   "metadata": {},
   "outputs": [
    {
     "ename": "TypeError",
     "evalue": "can't convert complex to int",
     "output_type": "error",
     "traceback": [
      "\u001b[1;31m---------------------------------------------------------------------------\u001b[0m",
      "\u001b[1;31mTypeError\u001b[0m                                 Traceback (most recent call last)",
      "\u001b[1;32m~\\AppData\\Local\\Temp/ipykernel_4804/1494484358.py\u001b[0m in \u001b[0;36m<module>\u001b[1;34m\u001b[0m\n\u001b[1;32m----> 1\u001b[1;33m \u001b[0mint\u001b[0m\u001b[1;33m(\u001b[0m\u001b[1;36m21\u001b[0m\u001b[1;33m+\u001b[0m\u001b[1;36m3j\u001b[0m\u001b[1;33m)\u001b[0m\u001b[1;33m\u001b[0m\u001b[1;33m\u001b[0m\u001b[0m\n\u001b[0m",
      "\u001b[1;31mTypeError\u001b[0m: can't convert complex to int"
     ]
    }
   ],
   "source": [
    "int(21+3j)"
   ]
  },
  {
   "cell_type": "markdown",
   "id": "2c9cc95a",
   "metadata": {},
   "source": [
    "### Input Function - This function is used to take input from the user."
   ]
  },
  {
   "cell_type": "code",
   "execution_count": 56,
   "id": "41d8f0d9",
   "metadata": {},
   "outputs": [
    {
     "name": "stdout",
     "output_type": "stream",
     "text": [
      "65\n",
      "Input from the user is 65\n"
     ]
    }
   ],
   "source": [
    "my_input = input()\n",
    "print('Input from the user is',my_input)"
   ]
  },
  {
   "cell_type": "code",
   "execution_count": 57,
   "id": "58b23f8f",
   "metadata": {},
   "outputs": [
    {
     "data": {
      "text/plain": [
       "str"
      ]
     },
     "execution_count": 57,
     "metadata": {},
     "output_type": "execute_result"
    }
   ],
   "source": [
    "type(my_input)"
   ]
  },
  {
   "cell_type": "code",
   "execution_count": 58,
   "id": "c3c208ff",
   "metadata": {},
   "outputs": [
    {
     "name": "stdout",
     "output_type": "stream",
     "text": [
      "Enter the first integer : 5\n",
      "Enter the second integer : 3\n",
      "Enter the third integer : 2\n",
      "(6+3j)bhavya\n"
     ]
    }
   ],
   "source": [
    "# Ques => Take integer input from user and that too 3 integers. Perform operation (a+b)/c and store in z. Perform z \n",
    "# + complex and store in y. At end do concatenate with \"bhavya\"\n",
    "a = int(input('Enter the first integer : '))\n",
    "b = int(input('Enter the second integer : '))\n",
    "c = int(input('Enter the third integer : '))\n",
    "z = (a+b)/c\n",
    "complex_var = 2 + 3j\n",
    "y = z + complex_var\n",
    "print(str(y) + \"bhavya\")"
   ]
  },
  {
   "cell_type": "markdown",
   "id": "795d5c4a",
   "metadata": {},
   "source": [
    "### Conditional Statements - These are used for decision making."
   ]
  },
  {
   "cell_type": "code",
   "execution_count": 60,
   "id": "01e1fa7e",
   "metadata": {},
   "outputs": [
    {
     "name": "stdout",
     "output_type": "stream",
     "text": [
      "Enter your age : 29\n",
      "You can vote\n"
     ]
    }
   ],
   "source": [
    "age = int(input('Enter your age : '))\n",
    "if(age >= 18):\n",
    "    print(\"You can vote\")\n",
    "else:\n",
    "    print(\"You can not vote\")"
   ]
  },
  {
   "cell_type": "code",
   "execution_count": 63,
   "id": "03cdf4b8",
   "metadata": {},
   "outputs": [],
   "source": [
    "a = 32\n",
    "if(a < 34):\n",
    "    pass # Here we don't know what to do if a is lesser than 34 and no error will come here \n",
    "else:\n",
    "    print('Greater than 34')"
   ]
  },
  {
   "cell_type": "code",
   "execution_count": 64,
   "id": "4fd18316",
   "metadata": {},
   "outputs": [
    {
     "name": "stdout",
     "output_type": "stream",
     "text": [
      "Greater than 50 but less than 100\n"
     ]
    }
   ],
   "source": [
    "x = 76\n",
    "if(x > 100):\n",
    "    print('Greater than 100')\n",
    "elif(x > 50):\n",
    "    print('Greater than 50 but less than 100')\n",
    "else:\n",
    "    print('Lesser than 50')"
   ]
  },
  {
   "cell_type": "code",
   "execution_count": 65,
   "id": "7a5a2794",
   "metadata": {},
   "outputs": [
    {
     "name": "stdout",
     "output_type": "stream",
     "text": [
      "You can vote\n",
      "You can not marry\n"
     ]
    }
   ],
   "source": [
    "# Nested statements\n",
    "age = 19\n",
    "if(age >= 18):\n",
    "    print(\"You can vote\")\n",
    "    if(age >= 21):\n",
    "        print(\"You can marry\")\n",
    "    else:\n",
    "        print(\"You can not marry\")\n",
    "else:\n",
    "    print(\"You can not vote and also can not marry\")"
   ]
  },
  {
   "cell_type": "markdown",
   "id": "480cec32",
   "metadata": {},
   "source": [
    "### Random stuff"
   ]
  },
  {
   "cell_type": "code",
   "execution_count": 20,
   "id": "f2505f0b",
   "metadata": {},
   "outputs": [
    {
     "name": "stdout",
     "output_type": "stream",
     "text": [
      "bhavya 10 xyz\n"
     ]
    }
   ],
   "source": [
    "print(b,a,'xyz')"
   ]
  },
  {
   "cell_type": "code",
   "execution_count": 22,
   "id": "b7f8151f",
   "metadata": {},
   "outputs": [
    {
     "data": {
      "text/plain": [
       "('bhavya', 10)"
      ]
     },
     "execution_count": 22,
     "metadata": {},
     "output_type": "execute_result"
    }
   ],
   "source": [
    "b,a # If we execute this, we will be getting output as tuple."
   ]
  },
  {
   "cell_type": "code",
   "execution_count": 39,
   "id": "97af7648",
   "metadata": {},
   "outputs": [
    {
     "ename": "TypeError",
     "evalue": "unsupported operand type(s) for +: 'int' and 'str'",
     "output_type": "error",
     "traceback": [
      "\u001b[1;31m---------------------------------------------------------------------------\u001b[0m",
      "\u001b[1;31mTypeError\u001b[0m                                 Traceback (most recent call last)",
      "\u001b[1;32m~\\AppData\\Local\\Temp/ipykernel_4804/1399686370.py\u001b[0m in \u001b[0;36m<module>\u001b[1;34m\u001b[0m\n\u001b[1;32m----> 1\u001b[1;33m \u001b[1;36m1\u001b[0m \u001b[1;33m+\u001b[0m \u001b[1;34m\"bhavya\"\u001b[0m \u001b[1;31m# We can not add an integer to the string\u001b[0m\u001b[1;33m\u001b[0m\u001b[1;33m\u001b[0m\u001b[0m\n\u001b[0m",
      "\u001b[1;31mTypeError\u001b[0m: unsupported operand type(s) for +: 'int' and 'str'"
     ]
    }
   ],
   "source": [
    "1 + \"bhavya\" # We can not add an integer to the string"
   ]
  },
  {
   "cell_type": "code",
   "execution_count": 40,
   "id": "c961d138",
   "metadata": {},
   "outputs": [
    {
     "data": {
      "text/plain": [
       "'1bhavya'"
      ]
     },
     "execution_count": 40,
     "metadata": {},
     "output_type": "execute_result"
    }
   ],
   "source": [
    "# To fix the above error, we can convert 1 to string via str function and this is known as typecasting\n",
    "str(1) + \"bhavya\""
   ]
  },
  {
   "cell_type": "code",
   "execution_count": 42,
   "id": "7cdc0f77",
   "metadata": {},
   "outputs": [
    {
     "data": {
      "text/plain": [
       "2.0"
      ]
     },
     "execution_count": 42,
     "metadata": {},
     "output_type": "execute_result"
    }
   ],
   "source": [
    "1 + 1.0"
   ]
  },
  {
   "cell_type": "code",
   "execution_count": 43,
   "id": "456879b8",
   "metadata": {},
   "outputs": [
    {
     "data": {
      "text/plain": [
       "'bhavyabhavyabhavya'"
      ]
     },
     "execution_count": 43,
     "metadata": {},
     "output_type": "execute_result"
    }
   ],
   "source": [
    "\"bhavya\" + \"bhavya\" + \"bhavya\""
   ]
  },
  {
   "cell_type": "code",
   "execution_count": 45,
   "id": "df400433",
   "metadata": {},
   "outputs": [
    {
     "data": {
      "text/plain": [
       "'bhavyabhavyabhavya'"
      ]
     },
     "execution_count": 45,
     "metadata": {},
     "output_type": "execute_result"
    }
   ],
   "source": [
    "\"bhavya\"*3"
   ]
  },
  {
   "cell_type": "code",
   "execution_count": 46,
   "id": "781f0643",
   "metadata": {},
   "outputs": [
    {
     "ename": "TypeError",
     "evalue": "unsupported operand type(s) for -: 'str' and 'str'",
     "output_type": "error",
     "traceback": [
      "\u001b[1;31m---------------------------------------------------------------------------\u001b[0m",
      "\u001b[1;31mTypeError\u001b[0m                                 Traceback (most recent call last)",
      "\u001b[1;32m~\\AppData\\Local\\Temp/ipykernel_4804/2049065627.py\u001b[0m in \u001b[0;36m<module>\u001b[1;34m\u001b[0m\n\u001b[1;32m----> 1\u001b[1;33m \u001b[1;34m\"bhavya\"\u001b[0m \u001b[1;33m-\u001b[0m \u001b[1;34m\"bhavya\"\u001b[0m\u001b[1;33m\u001b[0m\u001b[1;33m\u001b[0m\u001b[0m\n\u001b[0m",
      "\u001b[1;31mTypeError\u001b[0m: unsupported operand type(s) for -: 'str' and 'str'"
     ]
    }
   ],
   "source": [
    "\"bhavya\" - \"bhavya\""
   ]
  },
  {
   "cell_type": "code",
   "execution_count": 47,
   "id": "77aea9de",
   "metadata": {},
   "outputs": [
    {
     "ename": "TypeError",
     "evalue": "unsupported operand type(s) for /: 'str' and 'str'",
     "output_type": "error",
     "traceback": [
      "\u001b[1;31m---------------------------------------------------------------------------\u001b[0m",
      "\u001b[1;31mTypeError\u001b[0m                                 Traceback (most recent call last)",
      "\u001b[1;32m~\\AppData\\Local\\Temp/ipykernel_4804/1003474182.py\u001b[0m in \u001b[0;36m<module>\u001b[1;34m\u001b[0m\n\u001b[1;32m----> 1\u001b[1;33m \u001b[1;34m\"bhavya\"\u001b[0m\u001b[1;33m/\u001b[0m\u001b[1;34m\"bhavya\"\u001b[0m\u001b[1;33m\u001b[0m\u001b[1;33m\u001b[0m\u001b[0m\n\u001b[0m",
      "\u001b[1;31mTypeError\u001b[0m: unsupported operand type(s) for /: 'str' and 'str'"
     ]
    }
   ],
   "source": [
    "\"bhavya\"/\"bhavya\""
   ]
  },
  {
   "cell_type": "code",
   "execution_count": 48,
   "id": "a6448bae",
   "metadata": {},
   "outputs": [
    {
     "ename": "TypeError",
     "evalue": "can't multiply sequence by non-int of type 'str'",
     "output_type": "error",
     "traceback": [
      "\u001b[1;31m---------------------------------------------------------------------------\u001b[0m",
      "\u001b[1;31mTypeError\u001b[0m                                 Traceback (most recent call last)",
      "\u001b[1;32m~\\AppData\\Local\\Temp/ipykernel_4804/2554677122.py\u001b[0m in \u001b[0;36m<module>\u001b[1;34m\u001b[0m\n\u001b[1;32m----> 1\u001b[1;33m \u001b[1;34m\"bhavya\"\u001b[0m \u001b[1;33m*\u001b[0m \u001b[1;34m\"bhavya\"\u001b[0m\u001b[1;33m\u001b[0m\u001b[1;33m\u001b[0m\u001b[0m\n\u001b[0m",
      "\u001b[1;31mTypeError\u001b[0m: can't multiply sequence by non-int of type 'str'"
     ]
    }
   ],
   "source": [
    "\"bhavya\" * \"bhavya\""
   ]
  }
 ],
 "metadata": {
  "kernelspec": {
   "display_name": "Python 3 (ipykernel)",
   "language": "python",
   "name": "python3"
  },
  "language_info": {
   "codemirror_mode": {
    "name": "ipython",
    "version": 3
   },
   "file_extension": ".py",
   "mimetype": "text/x-python",
   "name": "python",
   "nbconvert_exporter": "python",
   "pygments_lexer": "ipython3",
   "version": "3.9.7"
  }
 },
 "nbformat": 4,
 "nbformat_minor": 5
}
