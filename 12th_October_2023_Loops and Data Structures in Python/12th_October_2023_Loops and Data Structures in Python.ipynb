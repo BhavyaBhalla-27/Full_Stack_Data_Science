{
 "cells": [
  {
   "cell_type": "markdown",
   "id": "801c8487",
   "metadata": {},
   "source": [
    "# 12th October 2023 - Loops + Data Structures of Python"
   ]
  },
  {
   "cell_type": "markdown",
   "id": "10713e62",
   "metadata": {},
   "source": [
    "### While-else statement"
   ]
  },
  {
   "cell_type": "code",
   "execution_count": 1,
   "id": "9f5c8b19",
   "metadata": {},
   "outputs": [
    {
     "name": "stdout",
     "output_type": "stream",
     "text": [
      "0\n",
      "1\n",
      "2\n",
      "3\n",
      "4\n",
      "5\n",
      "6\n",
      "7\n",
      "8\n",
      "9\n",
      "10\n",
      "Loop Finished\n"
     ]
    }
   ],
   "source": [
    "i = 0\n",
    "while(i<=10):\n",
    "    print(i)\n",
    "    i = i + 1\n",
    "else: # The else block will be executed only when the while loop has terminated\n",
    "    print(\"Loop Finished\")"
   ]
  },
  {
   "cell_type": "markdown",
   "id": "978950f0",
   "metadata": {},
   "source": [
    "#### Continue statement - This is used to skip a particular iteration"
   ]
  },
  {
   "cell_type": "code",
   "execution_count": 4,
   "id": "1f4e0788",
   "metadata": {},
   "outputs": [
    {
     "name": "stdout",
     "output_type": "stream",
     "text": [
      "1\n",
      "2\n",
      "4\n",
      "5\n",
      "6\n"
     ]
    }
   ],
   "source": [
    "j = 0\n",
    "while(j <= 5):\n",
    "    j = j + 1\n",
    "    if(j == 3):\n",
    "        continue\n",
    "    print(j)"
   ]
  },
  {
   "cell_type": "code",
   "execution_count": 9,
   "id": "569929f6",
   "metadata": {},
   "outputs": [
    {
     "data": {
      "text/plain": [
       "'ieuro'"
      ]
     },
     "execution_count": 9,
     "metadata": {},
     "output_type": "execute_result"
    }
   ],
   "source": [
    "s = \"ineuron\"\n",
    "ss = \"\"\n",
    "for i in range(len(s)):\n",
    "    if(s[i] == \"n\"):\n",
    "        continue\n",
    "    else:\n",
    "        ss = ss + s[i]\n",
    "ss"
   ]
  },
  {
   "cell_type": "markdown",
   "id": "c0dd8d91",
   "metadata": {},
   "source": [
    "## Data Structures in Python"
   ]
  },
  {
   "cell_type": "markdown",
   "id": "c8a3c21f",
   "metadata": {},
   "source": [
    "### String"
   ]
  },
  {
   "cell_type": "code",
   "execution_count": 8,
   "id": "52d87120",
   "metadata": {},
   "outputs": [
    {
     "name": "stdout",
     "output_type": "stream",
     "text": [
      "Value at 0th index is B\n",
      "Value at 5th index is a\n"
     ]
    },
    {
     "ename": "IndexError",
     "evalue": "string index out of range",
     "output_type": "error",
     "traceback": [
      "\u001b[1;31m---------------------------------------------------------------------------\u001b[0m",
      "\u001b[1;31mIndexError\u001b[0m                                Traceback (most recent call last)",
      "\u001b[1;32m~\\AppData\\Local\\Temp/ipykernel_14664/1110598624.py\u001b[0m in \u001b[0;36m<module>\u001b[1;34m\u001b[0m\n\u001b[0;32m      2\u001b[0m \u001b[0mprint\u001b[0m\u001b[1;33m(\u001b[0m\u001b[1;34m'Value at 0th index is'\u001b[0m\u001b[1;33m,\u001b[0m\u001b[0mmy_string\u001b[0m\u001b[1;33m[\u001b[0m\u001b[1;36m0\u001b[0m\u001b[1;33m]\u001b[0m\u001b[1;33m)\u001b[0m\u001b[1;33m\u001b[0m\u001b[1;33m\u001b[0m\u001b[0m\n\u001b[0;32m      3\u001b[0m \u001b[0mprint\u001b[0m\u001b[1;33m(\u001b[0m\u001b[1;34m'Value at 5th index is'\u001b[0m\u001b[1;33m,\u001b[0m\u001b[0mmy_string\u001b[0m\u001b[1;33m[\u001b[0m\u001b[1;36m5\u001b[0m\u001b[1;33m]\u001b[0m\u001b[1;33m)\u001b[0m\u001b[1;33m\u001b[0m\u001b[1;33m\u001b[0m\u001b[0m\n\u001b[1;32m----> 4\u001b[1;33m \u001b[0mprint\u001b[0m\u001b[1;33m(\u001b[0m\u001b[1;34m'Value at 20th index which is invalid is '\u001b[0m\u001b[1;33m,\u001b[0m\u001b[0mmy_string\u001b[0m\u001b[1;33m[\u001b[0m\u001b[1;36m20\u001b[0m\u001b[1;33m]\u001b[0m\u001b[1;33m)\u001b[0m\u001b[1;33m\u001b[0m\u001b[1;33m\u001b[0m\u001b[0m\n\u001b[0m",
      "\u001b[1;31mIndexError\u001b[0m: string index out of range"
     ]
    }
   ],
   "source": [
    "my_string = \"Bhavya\" # A particular character can be accessed with the help of index in the string data structure\n",
    "print('Value at 0th index is',my_string[0])\n",
    "print('Value at 5th index is',my_string[5])\n",
    "print('Value at 20th index which is invalid is ',my_string[20]) # This will give index error"
   ]
  },
  {
   "cell_type": "code",
   "execution_count": 15,
   "id": "abf910ba",
   "metadata": {},
   "outputs": [
    {
     "name": "stdout",
     "output_type": "stream",
     "text": [
      "avy\n",
      "hv\n",
      "\n",
      "ay\n",
      "hva\n",
      "Bay\n"
     ]
    }
   ],
   "source": [
    "# Slicing in strings\n",
    "print(my_string[2:5])\n",
    "print(my_string[1:5:2])\n",
    "print(my_string[5:3]) # Nothing will be printed \n",
    "print(my_string[5:3:-1])\n",
    "print(my_string[1::2]) # Here nothing is mentioned for end and hence it will go till the length of string\n",
    "print(my_string[:5:2]) # Here nothing is mentioned for start and hence it will start from the 0th index"
   ]
  },
  {
   "cell_type": "code",
   "execution_count": 14,
   "id": "2b669380",
   "metadata": {},
   "outputs": [
    {
     "name": "stdout",
     "output_type": "stream",
     "text": [
      "ayvahB\n"
     ]
    }
   ],
   "source": [
    "# Reversing the data using slicing concept\n",
    "print(my_string[::-1])"
   ]
  },
  {
   "cell_type": "code",
   "execution_count": 19,
   "id": "b4ec12d8",
   "metadata": {},
   "outputs": [
    {
     "name": "stdout",
     "output_type": "stream",
     "text": [
      "a\n",
      "ha\n",
      "hv\n"
     ]
    }
   ],
   "source": [
    "# Negative indexing in strings\n",
    "print(my_string[-1])\n",
    "print(my_string[1:-3])\n",
    "print(my_string[1:-1:2])"
   ]
  },
  {
   "cell_type": "markdown",
   "id": "c8e7ed45",
   "metadata": {},
   "source": [
    "## For Loop"
   ]
  },
  {
   "cell_type": "code",
   "execution_count": 20,
   "id": "26595598",
   "metadata": {},
   "outputs": [
    {
     "name": "stdout",
     "output_type": "stream",
     "text": [
      "B\n",
      "h\n",
      "a\n",
      "v\n",
      "y\n",
      "a\n"
     ]
    }
   ],
   "source": [
    "my_string = \"Bhavya\"\n",
    "for i in my_string:\n",
    "    print(i)"
   ]
  },
  {
   "cell_type": "code",
   "execution_count": 23,
   "id": "2d7b698f",
   "metadata": {},
   "outputs": [
    {
     "name": "stdout",
     "output_type": "stream",
     "text": [
      "I got h character in the string Bhavya\n"
     ]
    }
   ],
   "source": [
    "for i in my_string:\n",
    "    if(i == 'h'):\n",
    "        print(\"I got h character in the string\",my_string)"
   ]
  },
  {
   "cell_type": "markdown",
   "id": "1aa74eb2",
   "metadata": {},
   "source": [
    "### For-else statement"
   ]
  },
  {
   "cell_type": "code",
   "execution_count": 24,
   "id": "9a9dca22",
   "metadata": {},
   "outputs": [
    {
     "name": "stdout",
     "output_type": "stream",
     "text": [
      "B\n",
      "h\n",
      "a\n",
      "v\n",
      "y\n",
      "a\n",
      "Finished printing the string\n"
     ]
    }
   ],
   "source": [
    "my_string = \"Bhavya\"\n",
    "for i in my_string:\n",
    "    print(i)\n",
    "else:\n",
    "    print(\"Finished printing the string\")"
   ]
  },
  {
   "cell_type": "code",
   "execution_count": 5,
   "id": "d0bb3cfe",
   "metadata": {},
   "outputs": [
    {
     "name": "stdout",
     "output_type": "stream",
     "text": [
      "B\n",
      "h\n",
      "a\n",
      "v\n"
     ]
    }
   ],
   "source": [
    "my_string = \"Bhavya\"\n",
    "for i in my_string:\n",
    "    print(i)\n",
    "    if(i == \"v\"):\n",
    "        break\n",
    "else:\n",
    "    print(\"Finished printing the string\")"
   ]
  },
  {
   "cell_type": "code",
   "execution_count": 7,
   "id": "64022ec3",
   "metadata": {},
   "outputs": [
    {
     "name": "stdout",
     "output_type": "stream",
     "text": [
      "B\n",
      "h\n",
      "a\n",
      "y\n",
      "a\n",
      "Finished printing the string\n"
     ]
    }
   ],
   "source": [
    "my_string = \"Bhavya\"\n",
    "for i in my_string:\n",
    "    if(i == \"v\"):\n",
    "        continue\n",
    "    print(i)\n",
    "else:\n",
    "    print(\"Finished printing the string\")"
   ]
  },
  {
   "cell_type": "markdown",
   "id": "f4340778",
   "metadata": {},
   "source": [
    "## Patterns"
   ]
  },
  {
   "cell_type": "code",
   "execution_count": 12,
   "id": "7c14bc6f",
   "metadata": {},
   "outputs": [
    {
     "name": "stdout",
     "output_type": "stream",
     "text": [
      "* \n",
      "* * \n",
      "* * * \n",
      "* * * * \n",
      "* * * * * \n",
      "* * * * * * \n",
      "* * * * * * * \n"
     ]
    }
   ],
   "source": [
    "n = 7\n",
    "for i in range(0,n):\n",
    "    for j in range(0,i+1):\n",
    "        print(\"* \",end=\"\")\n",
    "    print()"
   ]
  },
  {
   "cell_type": "code",
   "execution_count": 23,
   "id": "4efda2e9",
   "metadata": {},
   "outputs": [
    {
     "name": "stdout",
     "output_type": "stream",
     "text": [
      "Enter the number of rows : 7\n",
      "* * * * * * * * * * * * * \n",
      "  * * * * * * * * * * * \n",
      "    * * * * * * * * * \n",
      "      * * * * * * * \n",
      "        * * * * * \n",
      "          * * * \n",
      "            * \n"
     ]
    }
   ],
   "source": [
    "n = int(input(\"Enter the number of rows : \"))\n",
    "for i in range(n,0,-1):\n",
    "    for space in range(n-i):\n",
    "        print(\" \",end=\" \")\n",
    "    for j in range(2*i-1):\n",
    "        print(\"* \",end=\"\")\n",
    "    print()"
   ]
  },
  {
   "cell_type": "code",
   "execution_count": 6,
   "id": "f8adf5b1",
   "metadata": {},
   "outputs": [
    {
     "name": "stdout",
     "output_type": "stream",
     "text": [
      "Enter the number of rows : 7\n",
      "              \n",
      "            * \n",
      "          * * * \n",
      "        * * * * * \n",
      "      * * * * * * * \n",
      "    * * * * * * * * * \n",
      "  * * * * * * * * * * * \n",
      "* * * * * * * * * * * * * \n"
     ]
    }
   ],
   "source": [
    "n = int(input(\"Enter the number of rows : \"))\n",
    "i = 0\n",
    "while(i<=n):\n",
    "    space = 0\n",
    "    j = 0\n",
    "    while(space<n-i):\n",
    "        print(\" \",end=\" \")\n",
    "        space=space+1\n",
    "    while(j<2*i-1):\n",
    "        print(\"* \",end=\"\")\n",
    "        j=j+1\n",
    "    i=i+1\n",
    "    print()"
   ]
  },
  {
   "cell_type": "code",
   "execution_count": 8,
   "id": "e3efbe89",
   "metadata": {},
   "outputs": [
    {
     "name": "stdout",
     "output_type": "stream",
     "text": [
      "Enter the number of rows : 10\n",
      "         * \n",
      "        * * \n",
      "       * * * \n",
      "      * * * * \n",
      "     * * * * * \n",
      "    * * * * * * \n",
      "   * * * * * * * \n",
      "  * * * * * * * * \n",
      " * * * * * * * * * \n",
      "* * * * * * * * * * \n"
     ]
    }
   ],
   "source": [
    "n = int(input(\"Enter the number of rows : \"))\n",
    "for i in range(n):\n",
    "    for space in range(n-i-1):\n",
    "        print(' ',end='')\n",
    "    for j in range(i+1): \n",
    "        print('* ',end='')\n",
    "    print()"
   ]
  },
  {
   "cell_type": "code",
   "execution_count": 12,
   "id": "b2d41d48",
   "metadata": {},
   "outputs": [
    {
     "name": "stdout",
     "output_type": "stream",
     "text": [
      "Enter the number of rows : 10\n",
      "* * * * * * * * * * \n",
      " * * * * * * * * * \n",
      "  * * * * * * * * \n",
      "   * * * * * * * \n",
      "    * * * * * * \n",
      "     * * * * * \n",
      "      * * * * \n",
      "       * * * \n",
      "        * * \n",
      "         * \n"
     ]
    }
   ],
   "source": [
    "n = int(input(\"Enter the number of rows : \"))\n",
    "for i in range(n,0,-1):\n",
    "    for space in range(n-i):\n",
    "        print(' ',end='')\n",
    "    for j in range(i): \n",
    "        print('* ',end='')\n",
    "    print()"
   ]
  },
  {
   "cell_type": "markdown",
   "id": "e959284e",
   "metadata": {},
   "source": [
    "## Lists - It is used to store multiple items in a single variable "
   ]
  },
  {
   "cell_type": "code",
   "execution_count": 14,
   "id": "4174a81c",
   "metadata": {},
   "outputs": [
    {
     "name": "stdout",
     "output_type": "stream",
     "text": [
      "['Bhavya', 'FSDS iNeuron', 12345, 2.6, (3+7j)]\n",
      "<class 'list'>\n"
     ]
    }
   ],
   "source": [
    "my_list = [\"Bhavya\",\"FSDS iNeuron\",12345,2.6,3+7j]\n",
    "print(my_list)\n",
    "print(type(my_list))"
   ]
  },
  {
   "cell_type": "code",
   "execution_count": 16,
   "id": "c4996ee0",
   "metadata": {},
   "outputs": [
    {
     "name": "stdout",
     "output_type": "stream",
     "text": [
      "Bhavya\n"
     ]
    }
   ],
   "source": [
    "print(my_list[0]) # Indexing concept is also there in list"
   ]
  },
  {
   "cell_type": "code",
   "execution_count": 17,
   "id": "757fef2a",
   "metadata": {},
   "outputs": [
    {
     "name": "stdout",
     "output_type": "stream",
     "text": [
      "<class 'list'>\n",
      "<class 'list'>\n"
     ]
    }
   ],
   "source": [
    "l1 = []\n",
    "print(type(l1))\n",
    "l2 = list()\n",
    "print(type(l2))"
   ]
  },
  {
   "cell_type": "code",
   "execution_count": 19,
   "id": "ab025808",
   "metadata": {},
   "outputs": [
    {
     "name": "stdout",
     "output_type": "stream",
     "text": [
      "[1, 2, 3, [1, 2, 3]]\n",
      "1\n"
     ]
    }
   ],
   "source": [
    "l3 = [1,2,3,[1,2,3]]\n",
    "print(l3)\n",
    "print(l3[3][0])"
   ]
  },
  {
   "cell_type": "code",
   "execution_count": 1,
   "id": "875f558a",
   "metadata": {},
   "outputs": [
    {
     "name": "stdout",
     "output_type": "stream",
     "text": [
      "<class 'str'>\n",
      "<class 'complex'>\n",
      "<class 'float'>\n",
      "<class 'int'>\n"
     ]
    }
   ],
   "source": [
    "l4 = [1,2,3,[\"Bhavya\",2+3j,2.6,7]]\n",
    "for i in l4:\n",
    "    if(type(i) == list):\n",
    "        for j in i:\n",
    "            print(type(j))"
   ]
  },
  {
   "cell_type": "code",
   "execution_count": 8,
   "id": "739385f1",
   "metadata": {},
   "outputs": [
    {
     "name": "stdout",
     "output_type": "stream",
     "text": [
      "['Bhavya', 'FSDS iNeuron', 12345]\n",
      "[]\n",
      "[(3+7j), 2.6]\n"
     ]
    }
   ],
   "source": [
    "# Slicing in list\n",
    "my_list = [\"Bhavya\",\"FSDS iNeuron\",12345,2.6,3+7j]\n",
    "print(my_list[0:3])\n",
    "print(my_list[8:2])\n",
    "print(my_list[6:2:-1])"
   ]
  },
  {
   "cell_type": "code",
   "execution_count": 9,
   "id": "36e781b9",
   "metadata": {},
   "outputs": [
    {
     "data": {
      "text/plain": [
       "[0, 1, 2, 3, 4]"
      ]
     },
     "execution_count": 9,
     "metadata": {},
     "output_type": "execute_result"
    }
   ],
   "source": [
    "list(range(5))"
   ]
  }
 ],
 "metadata": {
  "kernelspec": {
   "display_name": "Python 3 (ipykernel)",
   "language": "python",
   "name": "python3"
  },
  "language_info": {
   "codemirror_mode": {
    "name": "ipython",
    "version": 3
   },
   "file_extension": ".py",
   "mimetype": "text/x-python",
   "name": "python",
   "nbconvert_exporter": "python",
   "pygments_lexer": "ipython3",
   "version": "3.9.7"
  }
 },
 "nbformat": 4,
 "nbformat_minor": 5
}
