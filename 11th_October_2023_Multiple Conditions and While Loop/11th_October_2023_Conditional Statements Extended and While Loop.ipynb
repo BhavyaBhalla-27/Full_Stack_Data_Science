{
 "cells": [
  {
   "cell_type": "markdown",
   "id": "1ba1439a",
   "metadata": {},
   "source": [
    "# 11th October 2023 - Conditional Statements Extended and While Loop"
   ]
  },
  {
   "cell_type": "markdown",
   "id": "4fa606d8",
   "metadata": {},
   "source": [
    "### Multiple conditions in conditionals"
   ]
  },
  {
   "cell_type": "code",
   "execution_count": 1,
   "id": "b446f628",
   "metadata": {},
   "outputs": [
    {
     "name": "stdout",
     "output_type": "stream",
     "text": [
      "This is a valid statement\n"
     ]
    }
   ],
   "source": [
    "a = 10\n",
    "b = 20\n",
    "if(a == 10 and b == 20): # If both conditions are true then only if block will be executed in this case\n",
    "    print(\"This is a valid statement\")\n",
    "else:\n",
    "    print(\"This is not a valid statement\")"
   ]
  },
  {
   "cell_type": "code",
   "execution_count": 2,
   "id": "5527fc6a",
   "metadata": {},
   "outputs": [
    {
     "data": {
      "text/plain": [
       "True"
      ]
     },
     "execution_count": 2,
     "metadata": {},
     "output_type": "execute_result"
    }
   ],
   "source": [
    "a == 10 and b == 20"
   ]
  },
  {
   "cell_type": "code",
   "execution_count": 3,
   "id": "998d8814",
   "metadata": {},
   "outputs": [
    {
     "name": "stdout",
     "output_type": "stream",
     "text": [
      "This is not a valid statement\n"
     ]
    }
   ],
   "source": [
    "a = 10\n",
    "b = 20\n",
    "if(a == 10 and b > 20): # If any one condition fails then else block is executed\n",
    "    print(\"This is a valid statement\")\n",
    "else:\n",
    "    print(\"This is not a valid statement\")"
   ]
  },
  {
   "cell_type": "code",
   "execution_count": 5,
   "id": "8f7ba0ac",
   "metadata": {},
   "outputs": [
    {
     "name": "stdout",
     "output_type": "stream",
     "text": [
      "This is a valid statement\n"
     ]
    }
   ],
   "source": [
    "x = 10\n",
    "y = 30\n",
    "if(x > 10 or y < 40): # If block will be executed when atleast one of the condition will be true\n",
    "    print(\"This is a valid statement\")\n",
    "else:\n",
    "    print(\"This is not a valid statement\")"
   ]
  },
  {
   "cell_type": "code",
   "execution_count": 8,
   "id": "50ed60d8",
   "metadata": {},
   "outputs": [
    {
     "name": "stdout",
     "output_type": "stream",
     "text": [
      "Enter your first name : Bhavya\n",
      "Enter your last name : Bhalla\n",
      "Correct Name\n"
     ]
    }
   ],
   "source": [
    "# Ques - Take input from keyboard as your first name and last name. Validate it by writing multiple conditions.\n",
    "first_name = input(\"Enter your first name : \")\n",
    "last_name = input(\"Enter your last name : \")\n",
    "if(first_name == \"Bhavya\" and last_name == \"Bhalla\"):\n",
    "    print(\"Correct Name\")\n",
    "else:\n",
    "    print(\"Incorrect Name\")"
   ]
  },
  {
   "cell_type": "markdown",
   "id": "ecd8c087",
   "metadata": {},
   "source": [
    "### While Loop - Loop is used to do some task repeatedly."
   ]
  },
  {
   "cell_type": "code",
   "execution_count": 9,
   "id": "0ee033bf",
   "metadata": {},
   "outputs": [
    {
     "name": "stdout",
     "output_type": "stream",
     "text": [
      "0\n",
      "1\n",
      "2\n",
      "3\n",
      "4\n",
      "5\n",
      "6\n",
      "7\n",
      "8\n",
      "9\n",
      "10\n",
      "11\n",
      "12\n",
      "13\n",
      "14\n",
      "15\n",
      "16\n",
      "17\n",
      "18\n",
      "19\n",
      "20\n",
      "21\n",
      "22\n",
      "23\n",
      "24\n",
      "25\n",
      "26\n",
      "27\n",
      "28\n",
      "29\n",
      "30\n",
      "31\n",
      "32\n",
      "33\n",
      "34\n",
      "35\n",
      "36\n",
      "37\n",
      "38\n",
      "39\n",
      "40\n",
      "41\n",
      "42\n",
      "43\n",
      "44\n",
      "45\n",
      "46\n",
      "47\n",
      "48\n",
      "49\n",
      "50\n",
      "51\n",
      "52\n",
      "53\n",
      "54\n",
      "55\n",
      "56\n",
      "57\n",
      "58\n",
      "59\n",
      "60\n",
      "61\n",
      "62\n",
      "63\n",
      "64\n",
      "65\n",
      "66\n",
      "67\n",
      "68\n",
      "69\n",
      "70\n",
      "71\n",
      "72\n",
      "73\n",
      "74\n",
      "75\n",
      "76\n",
      "77\n",
      "78\n",
      "79\n",
      "80\n",
      "81\n",
      "82\n",
      "83\n",
      "84\n",
      "85\n",
      "86\n",
      "87\n",
      "88\n",
      "89\n",
      "90\n",
      "91\n",
      "92\n",
      "93\n",
      "94\n",
      "95\n",
      "96\n",
      "97\n",
      "98\n",
      "99\n",
      "100\n"
     ]
    }
   ],
   "source": [
    "initial_speed = 0\n",
    "final_speed = 100\n",
    "while(initial_speed <= final_speed):\n",
    "    print(initial_speed)\n",
    "    initial_speed = initial_speed + 1"
   ]
  },
  {
   "cell_type": "markdown",
   "id": "1c1649e4",
   "metadata": {},
   "source": [
    "#### break statement - This statement is used to exit from the loop depending on some condition"
   ]
  },
  {
   "cell_type": "code",
   "execution_count": 10,
   "id": "c4e132d0",
   "metadata": {},
   "outputs": [
    {
     "name": "stdout",
     "output_type": "stream",
     "text": [
      "0\n",
      "1\n",
      "2\n",
      "3\n",
      "4\n",
      "5\n",
      "6\n",
      "7\n",
      "8\n",
      "9\n"
     ]
    }
   ],
   "source": [
    "num = 0\n",
    "while(num <= 20):\n",
    "    print(num)\n",
    "    num = num + 1\n",
    "    if(num == 10):\n",
    "        break"
   ]
  }
 ],
 "metadata": {
  "kernelspec": {
   "display_name": "Python 3 (ipykernel)",
   "language": "python",
   "name": "python3"
  },
  "language_info": {
   "codemirror_mode": {
    "name": "ipython",
    "version": 3
   },
   "file_extension": ".py",
   "mimetype": "text/x-python",
   "name": "python",
   "nbconvert_exporter": "python",
   "pygments_lexer": "ipython3",
   "version": "3.9.7"
  }
 },
 "nbformat": 4,
 "nbformat_minor": 5
}
