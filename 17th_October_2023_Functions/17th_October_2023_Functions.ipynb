{
 "cells": [
  {
   "cell_type": "markdown",
   "id": "2fd10528",
   "metadata": {},
   "source": [
    "# 17th October 2023 - Functions"
   ]
  },
  {
   "cell_type": "markdown",
   "id": "52a99bf2",
   "metadata": {},
   "source": [
    "### Functions - Function is a block of statements that does some specific task."
   ]
  },
  {
   "cell_type": "code",
   "execution_count": 3,
   "id": "c73b382d",
   "metadata": {},
   "outputs": [
    {
     "name": "stdout",
     "output_type": "stream",
     "text": [
      "Sum of two numbers = 5\n"
     ]
    }
   ],
   "source": [
    "# Writing a function to print sum of two numbers\n",
    "def sumOfTwoNumbers(a,b):\n",
    "    print(\"Sum of two numbers =\",a+b)\n",
    "sumOfTwoNumbers(2,3)"
   ]
  },
  {
   "cell_type": "code",
   "execution_count": 6,
   "id": "4242fdfa",
   "metadata": {},
   "outputs": [
    {
     "ename": "IndentationError",
     "evalue": "expected an indented block (Temp/ipykernel_15124/1752429040.py, line 2)",
     "output_type": "error",
     "traceback": [
      "\u001b[1;36m  File \u001b[1;32m\"C:\\Users\\Asus\\AppData\\Local\\Temp/ipykernel_15124/1752429040.py\"\u001b[1;36m, line \u001b[1;32m2\u001b[0m\n\u001b[1;33m    def test(x,y):\u001b[0m\n\u001b[1;37m                  ^\u001b[0m\n\u001b[1;31mIndentationError\u001b[0m\u001b[1;31m:\u001b[0m expected an indented block\n"
     ]
    }
   ],
   "source": [
    "# Writing a function without the body\n",
    "def test(x,y):"
   ]
  },
  {
   "cell_type": "code",
   "execution_count": 7,
   "id": "d7299b55",
   "metadata": {},
   "outputs": [],
   "source": [
    "# To write a function without the body without getting any error, we use the pass keyword\n",
    "def test(x,y):\n",
    "    pass"
   ]
  },
  {
   "cell_type": "code",
   "execution_count": 8,
   "id": "a0261707",
   "metadata": {},
   "outputs": [
    {
     "ename": "TypeError",
     "evalue": "sumOfTwoNumbers() missing 2 required positional arguments: 'a' and 'b'",
     "output_type": "error",
     "traceback": [
      "\u001b[1;31m---------------------------------------------------------------------------\u001b[0m",
      "\u001b[1;31mTypeError\u001b[0m                                 Traceback (most recent call last)",
      "\u001b[1;32m~\\AppData\\Local\\Temp/ipykernel_15124/4217278691.py\u001b[0m in \u001b[0;36m<module>\u001b[1;34m\u001b[0m\n\u001b[0;32m      2\u001b[0m \u001b[1;32mdef\u001b[0m \u001b[0msumOfTwoNumbers\u001b[0m\u001b[1;33m(\u001b[0m\u001b[0ma\u001b[0m\u001b[1;33m,\u001b[0m\u001b[0mb\u001b[0m\u001b[1;33m)\u001b[0m\u001b[1;33m:\u001b[0m\u001b[1;33m\u001b[0m\u001b[1;33m\u001b[0m\u001b[0m\n\u001b[0;32m      3\u001b[0m     \u001b[0mprint\u001b[0m\u001b[1;33m(\u001b[0m\u001b[0ma\u001b[0m\u001b[1;33m+\u001b[0m\u001b[0mb\u001b[0m\u001b[1;33m)\u001b[0m\u001b[1;33m\u001b[0m\u001b[1;33m\u001b[0m\u001b[0m\n\u001b[1;32m----> 4\u001b[1;33m \u001b[0msumOfTwoNumbers\u001b[0m\u001b[1;33m(\u001b[0m\u001b[1;33m)\u001b[0m\u001b[1;33m\u001b[0m\u001b[1;33m\u001b[0m\u001b[0m\n\u001b[0m",
      "\u001b[1;31mTypeError\u001b[0m: sumOfTwoNumbers() missing 2 required positional arguments: 'a' and 'b'"
     ]
    }
   ],
   "source": [
    "# Function call without the parameters\n",
    "def sumOfTwoNumbers(a,b):\n",
    "    print(a+b)\n",
    "sumOfTwoNumbers()"
   ]
  },
  {
   "cell_type": "code",
   "execution_count": 10,
   "id": "d2c865c5",
   "metadata": {},
   "outputs": [
    {
     "name": "stdout",
     "output_type": "stream",
     "text": [
      "6\n"
     ]
    }
   ],
   "source": [
    "# return keyword\n",
    "def mul(a,b):\n",
    "    return a*b\n",
    "ans = mul(2,3)\n",
    "print(ans)"
   ]
  },
  {
   "cell_type": "code",
   "execution_count": 11,
   "id": "c2a53a2d",
   "metadata": {},
   "outputs": [
    {
     "name": "stdout",
     "output_type": "stream",
     "text": [
      "5\n"
     ]
    },
    {
     "ename": "TypeError",
     "evalue": "unsupported operand type(s) for +: 'NoneType' and 'int'",
     "output_type": "error",
     "traceback": [
      "\u001b[1;31m---------------------------------------------------------------------------\u001b[0m",
      "\u001b[1;31mTypeError\u001b[0m                                 Traceback (most recent call last)",
      "\u001b[1;32m~\\AppData\\Local\\Temp/ipykernel_15124/3871737638.py\u001b[0m in \u001b[0;36m<module>\u001b[1;34m\u001b[0m\n\u001b[1;32m----> 1\u001b[1;33m \u001b[0msumOfTwoNumbers\u001b[0m\u001b[1;33m(\u001b[0m\u001b[1;36m2\u001b[0m\u001b[1;33m,\u001b[0m\u001b[1;36m3\u001b[0m\u001b[1;33m)\u001b[0m \u001b[1;33m+\u001b[0m \u001b[1;36m6\u001b[0m\u001b[1;33m\u001b[0m\u001b[1;33m\u001b[0m\u001b[0m\n\u001b[0m",
      "\u001b[1;31mTypeError\u001b[0m: unsupported operand type(s) for +: 'NoneType' and 'int'"
     ]
    }
   ],
   "source": [
    "sumOfTwoNumbers(2,3) + 6 # Here we are trying to add NoneType and 6 which yields to error"
   ]
  },
  {
   "cell_type": "code",
   "execution_count": 12,
   "id": "8efa23ca",
   "metadata": {},
   "outputs": [
    {
     "data": {
      "text/plain": [
       "12"
      ]
     },
     "execution_count": 12,
     "metadata": {},
     "output_type": "execute_result"
    }
   ],
   "source": [
    "mul(2,3) + 6 # No error when we used the return keyword"
   ]
  },
  {
   "cell_type": "code",
   "execution_count": 14,
   "id": "7c1b9270",
   "metadata": {},
   "outputs": [
    {
     "name": "stdout",
     "output_type": "stream",
     "text": [
      "5\n"
     ]
    },
    {
     "data": {
      "text/plain": [
       "NoneType"
      ]
     },
     "execution_count": 14,
     "metadata": {},
     "output_type": "execute_result"
    }
   ],
   "source": [
    "type(sumOfTwoNumbers(2,3))"
   ]
  },
  {
   "cell_type": "code",
   "execution_count": 15,
   "id": "81b02c36",
   "metadata": {},
   "outputs": [
    {
     "data": {
      "text/plain": [
       "int"
      ]
     },
     "execution_count": 15,
     "metadata": {},
     "output_type": "execute_result"
    }
   ],
   "source": [
    "type(mul(2,3))"
   ]
  },
  {
   "cell_type": "code",
   "execution_count": 17,
   "id": "23e65c6e",
   "metadata": {},
   "outputs": [
    {
     "data": {
      "text/plain": [
       "3"
      ]
     },
     "execution_count": 17,
     "metadata": {},
     "output_type": "execute_result"
    }
   ],
   "source": [
    "def test(a,b,c):\n",
    "    return a + b # Here we are not using the third arguement that is c\n",
    "test(1,2,3) # But we need to pass it here"
   ]
  },
  {
   "cell_type": "code",
   "execution_count": 22,
   "id": "7e729fce",
   "metadata": {},
   "outputs": [
    {
     "name": "stdout",
     "output_type": "stream",
     "text": [
      "5\n",
      "-1\n",
      "6\n",
      "(5, -1, 6)\n"
     ]
    }
   ],
   "source": [
    "# Returning multiple values using return keyword\n",
    "def multiTasking(a,b):\n",
    "    return a+b,a-b,a*b\n",
    "add,sub,mul = multiTasking(2,3)\n",
    "print(add)\n",
    "print(sub)\n",
    "print(mul)\n",
    "print(multiTasking(2,3))"
   ]
  },
  {
   "cell_type": "code",
   "execution_count": 25,
   "id": "c7b8cf0d",
   "metadata": {},
   "outputs": [
    {
     "name": "stdout",
     "output_type": "stream",
     "text": [
      "5\n",
      "-1\n",
      "6\n"
     ]
    }
   ],
   "source": [
    "# Placeholder concept\n",
    "add,sub,_ = multiTasking(2,3)\n",
    "print(add)\n",
    "print(sub)\n",
    "print(_) # underscore acts as a placeholder"
   ]
  },
  {
   "cell_type": "code",
   "execution_count": 27,
   "id": "242e500c",
   "metadata": {},
   "outputs": [
    {
     "data": {
      "text/plain": [
       "5"
      ]
     },
     "execution_count": 27,
     "metadata": {},
     "output_type": "execute_result"
    }
   ],
   "source": [
    "# Mutliple returns\n",
    "def test(x,y):\n",
    "    return x + y # This will be considered\n",
    "    return x * y\n",
    "test(2,3)"
   ]
  },
  {
   "cell_type": "code",
   "execution_count": 29,
   "id": "251b1982",
   "metadata": {},
   "outputs": [
    {
     "data": {
      "text/plain": [
       "[1, 2, 3, 1, 2, 3]"
      ]
     },
     "execution_count": 29,
     "metadata": {},
     "output_type": "execute_result"
    }
   ],
   "source": [
    "# Passing the list to a function\n",
    "def list_function(my_list): \n",
    "    return my_list*2\n",
    "list_function([1,2,3])"
   ]
  },
  {
   "cell_type": "code",
   "execution_count": 31,
   "id": "b610956e",
   "metadata": {},
   "outputs": [
    {
     "name": "stdout",
     "output_type": "stream",
     "text": [
      "30\n",
      "40\n"
     ]
    }
   ],
   "source": [
    "# Default Arguements\n",
    "def my_function(a,b=20):\n",
    "    return a + b\n",
    "print(my_function(10))\n",
    "print(my_function(10,30))"
   ]
  },
  {
   "cell_type": "code",
   "execution_count": 35,
   "id": "8b5d7a59",
   "metadata": {},
   "outputs": [
    {
     "name": "stdout",
     "output_type": "stream",
     "text": [
      "0.5\n",
      "2.0\n"
     ]
    }
   ],
   "source": [
    "# Passing arguements by name\n",
    "def div(a,b):\n",
    "    return a / b\n",
    "print(div(2,4))\n",
    "print(div(b = 2,a = 4))"
   ]
  },
  {
   "cell_type": "markdown",
   "id": "73ae8a24",
   "metadata": {},
   "source": [
    "### Passing multiple arguements using *args without mentioning them in the function definition"
   ]
  },
  {
   "cell_type": "code",
   "execution_count": 38,
   "id": "e895b50e",
   "metadata": {},
   "outputs": [
    {
     "name": "stdout",
     "output_type": "stream",
     "text": [
      "1\n",
      "2\n",
      "3\n",
      "4\n",
      "5\n"
     ]
    },
    {
     "data": {
      "text/plain": [
       "15"
      ]
     },
     "execution_count": 38,
     "metadata": {},
     "output_type": "execute_result"
    }
   ],
   "source": [
    "def sumOfNumbers(*args):\n",
    "    sum = 0\n",
    "    for i in args:\n",
    "        print(i)\n",
    "        sum = sum + i\n",
    "    return sum\n",
    "sumOfNumbers(1,2,3,4,5)"
   ]
  },
  {
   "cell_type": "code",
   "execution_count": 39,
   "id": "fa002032",
   "metadata": {},
   "outputs": [
    {
     "data": {
      "text/plain": [
       "[1, 2, 3, 4, 5, 6, 7, 8]"
      ]
     },
     "execution_count": 39,
     "metadata": {},
     "output_type": "execute_result"
    }
   ],
   "source": [
    "# Concatenate all the lists that were passed to a function\n",
    "def concatenate_lists(*args):\n",
    "    my_list = []\n",
    "    for i in args:\n",
    "        my_list = my_list + i\n",
    "    return my_list\n",
    "concatenate_lists([1,2],[3,4],[5,6],[7,8])"
   ]
  },
  {
   "cell_type": "code",
   "execution_count": 42,
   "id": "a513fb5c",
   "metadata": {},
   "outputs": [
    {
     "data": {
      "text/plain": [
       "[1, 2, 3, 4, 5, 6, 7, 8]"
      ]
     },
     "execution_count": 42,
     "metadata": {},
     "output_type": "execute_result"
    }
   ],
   "source": [
    "# Concatenate all the lists only and ignoring other data types that were passed to a function\n",
    "def concatenate_lists(*args):\n",
    "    my_list = []\n",
    "    for i in args:\n",
    "        if(type(i) == list):\n",
    "            my_list = my_list + i\n",
    "    return my_list\n",
    "concatenate_lists([1,2],[3,4],[5,6],[7,8],\"Bhavya\",2,2+3j)"
   ]
  },
  {
   "cell_type": "markdown",
   "id": "336d0e4c",
   "metadata": {},
   "source": [
    "### **kwargs concept"
   ]
  },
  {
   "cell_type": "code",
   "execution_count": 43,
   "id": "ebeca228",
   "metadata": {},
   "outputs": [
    {
     "data": {
      "text/plain": [
       "{'a': 8, 'b': 9, 'c': 10, 'd': 11}"
      ]
     },
     "execution_count": 43,
     "metadata": {},
     "output_type": "execute_result"
    }
   ],
   "source": [
    "def my_function(**kwargs):\n",
    "    return kwargs\n",
    "my_function(a = 8,b = 9,c = 10,d = 11)"
   ]
  },
  {
   "cell_type": "code",
   "execution_count": 45,
   "id": "051dc602",
   "metadata": {},
   "outputs": [
    {
     "name": "stdout",
     "output_type": "stream",
     "text": [
      "Keys are =  dict_keys(['a', 'b', 'c', 'd'])\n",
      "Values are =  dict_values([8, 9, 10, 11])\n"
     ]
    }
   ],
   "source": [
    "def my_function(**kwargs):\n",
    "    print(\"Keys are = \",kwargs.keys())\n",
    "    print(\"Values are = \",kwargs.values())\n",
    "my_function(a = 8,b = 9,c = 10,d = 11)"
   ]
  },
  {
   "cell_type": "markdown",
   "id": "e5ce2600",
   "metadata": {},
   "source": [
    "## Question\n",
    "### 1) Create a function named fun1 which will have mixed data parameters and then create a dictionary of data on the basis of data type in the form of list as value and return multiple result.\n",
    "### 2) Create a function which will be able to use * args and ** kwargs and it will be able to do all the list value concatenation and return a list."
   ]
  },
  {
   "cell_type": "code",
   "execution_count": 67,
   "id": "9d0042ff",
   "metadata": {},
   "outputs": [
    {
     "data": {
      "text/plain": [
       "{list: [[1, 2, 3], [4, 5, 6]],\n",
       " tuple: [(1, 2)],\n",
       " int: [1, 2],\n",
       " str: ['Bhavya', 'FSDS'],\n",
       " complex: [(2+3j), (6-3j)],\n",
       " set: [{1, 2, 3, 4}],\n",
       " dict: [{'Name': 'Bhavya', 'Course': 'FSDS'}]}"
      ]
     },
     "execution_count": 67,
     "metadata": {},
     "output_type": "execute_result"
    }
   ],
   "source": [
    "# 1\n",
    "def fun1(*args):\n",
    "    my_dict = {}\n",
    "    for i in args:\n",
    "        if(type(i) in my_dict):\n",
    "            my_dict[type(i)].append(i)\n",
    "        else:\n",
    "            my_dict[type(i)] = [i]\n",
    "    return my_dict\n",
    "fun1([1,2,3],(1,2),[4,5,6],1,2,\"Bhavya\",\"FSDS\",2+3j,6-3j,{1,2,3,4},{\"Name\":\"Bhavya\",\"Course\":\"FSDS\"})"
   ]
  },
  {
   "cell_type": "code",
   "execution_count": 65,
   "id": "1f6bd85d",
   "metadata": {},
   "outputs": [
    {
     "data": {
      "text/plain": [
       "[2, 3, 4, 'a', 20, 'b', 30, 'c', 40]"
      ]
     },
     "execution_count": 65,
     "metadata": {},
     "output_type": "execute_result"
    }
   ],
   "source": [
    "# 2\n",
    "def fun2(*args,**kwargs):\n",
    "    my_list=[]\n",
    "    for i in args:\n",
    "        my_list.append(i)\n",
    "    for j in kwargs:\n",
    "        my_list.append(j)\n",
    "        my_list.append(kwargs[j])\n",
    "    return my_list\n",
    "fun2(2,3,4,a=20,b=30,c=40)"
   ]
  }
 ],
 "metadata": {
  "kernelspec": {
   "display_name": "Python 3 (ipykernel)",
   "language": "python",
   "name": "python3"
  },
  "language_info": {
   "codemirror_mode": {
    "name": "ipython",
    "version": 3
   },
   "file_extension": ".py",
   "mimetype": "text/x-python",
   "name": "python",
   "nbconvert_exporter": "python",
   "pygments_lexer": "ipython3",
   "version": "3.9.7"
  }
 },
 "nbformat": 4,
 "nbformat_minor": 5
}
