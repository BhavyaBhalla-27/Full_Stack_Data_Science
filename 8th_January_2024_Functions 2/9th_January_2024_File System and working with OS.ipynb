{
 "cells": [
  {
   "cell_type": "markdown",
   "id": "82a170b5",
   "metadata": {},
   "source": [
    "# 9th January 2024 - File System + Working with operating system"
   ]
  },
  {
   "cell_type": "markdown",
   "id": "382fa23f",
   "metadata": {},
   "source": [
    "# FILE SYSTEM"
   ]
  },
  {
   "cell_type": "markdown",
   "id": "b06406b5",
   "metadata": {},
   "source": [
    "## Creating a file"
   ]
  },
  {
   "cell_type": "code",
   "execution_count": 1,
   "id": "7844520b",
   "metadata": {},
   "outputs": [],
   "source": [
    "f = open(\"test.txt\",\"wb\") # If \"wb\" is not written then it would give error if file does not exits"
   ]
  },
  {
   "cell_type": "markdown",
   "id": "5408382e",
   "metadata": {},
   "source": [
    "## Writing in a file"
   ]
  },
  {
   "cell_type": "code",
   "execution_count": 3,
   "id": "eab702a7",
   "metadata": {},
   "outputs": [],
   "source": [
    "f = open(\"test.txt\",\"w\")\n",
    "f.write(r\"Hello World\")\n",
    "f.close()"
   ]
  },
  {
   "cell_type": "markdown",
   "id": "03ba34a1",
   "metadata": {},
   "source": [
    "## Reading from a file"
   ]
  },
  {
   "cell_type": "code",
   "execution_count": 4,
   "id": "2c3735d6",
   "metadata": {},
   "outputs": [
    {
     "data": {
      "text/plain": [
       "'Hello World'"
      ]
     },
     "execution_count": 4,
     "metadata": {},
     "output_type": "execute_result"
    }
   ],
   "source": [
    "f = open(\"test.txt\")\n",
    "f.read()"
   ]
  },
  {
   "cell_type": "code",
   "execution_count": 5,
   "id": "b268b364",
   "metadata": {},
   "outputs": [
    {
     "data": {
      "text/plain": [
       "''"
      ]
     },
     "execution_count": 5,
     "metadata": {},
     "output_type": "execute_result"
    }
   ],
   "source": [
    "f.read() # It would be now blank as cursor has crossed d of World"
   ]
  },
  {
   "cell_type": "code",
   "execution_count": 6,
   "id": "4e26c081",
   "metadata": {},
   "outputs": [
    {
     "data": {
      "text/plain": [
       "'lo World'"
      ]
     },
     "execution_count": 6,
     "metadata": {},
     "output_type": "execute_result"
    }
   ],
   "source": [
    "f.seek(3) # Cursor would now point to the third position\n",
    "f.read()"
   ]
  },
  {
   "cell_type": "code",
   "execution_count": 7,
   "id": "b73c6105",
   "metadata": {},
   "outputs": [
    {
     "ename": "UnsupportedOperation",
     "evalue": "not writable",
     "output_type": "error",
     "traceback": [
      "\u001b[1;31m---------------------------------------------------------------------------\u001b[0m",
      "\u001b[1;31mUnsupportedOperation\u001b[0m                      Traceback (most recent call last)",
      "\u001b[1;32m~\\AppData\\Local\\Temp/ipykernel_17576/2165499275.py\u001b[0m in \u001b[0;36m<module>\u001b[1;34m\u001b[0m\n\u001b[1;32m----> 1\u001b[1;33m \u001b[0mf\u001b[0m\u001b[1;33m.\u001b[0m\u001b[0mwrite\u001b[0m\u001b[1;33m(\u001b[0m\u001b[1;34mr'hi'\u001b[0m\u001b[1;33m)\u001b[0m\u001b[1;33m\u001b[0m\u001b[1;33m\u001b[0m\u001b[0m\n\u001b[0m",
      "\u001b[1;31mUnsupportedOperation\u001b[0m: not writable"
     ]
    }
   ],
   "source": [
    "f.write(r'hi') # As file was opened in read mode"
   ]
  },
  {
   "cell_type": "markdown",
   "id": "3931a490",
   "metadata": {},
   "source": [
    "## Appending text to the file"
   ]
  },
  {
   "cell_type": "code",
   "execution_count": 3,
   "id": "532b7ab7",
   "metadata": {},
   "outputs": [],
   "source": [
    "f = open(\"test.txt\",\"a\")\n",
    "f.write(r'I am Bhavya')\n",
    "f.close()"
   ]
  },
  {
   "cell_type": "markdown",
   "id": "c8ec39e1",
   "metadata": {},
   "source": [
    "## Trying different modes"
   ]
  },
  {
   "cell_type": "code",
   "execution_count": 4,
   "id": "b78973d9",
   "metadata": {},
   "outputs": [],
   "source": [
    "f = open(\"test1.txt\",\"wb\")\n",
    "f.write(b'Hello Sir')\n",
    "f.close()"
   ]
  },
  {
   "cell_type": "code",
   "execution_count": 7,
   "id": "b94d95c0",
   "metadata": {},
   "outputs": [
    {
     "name": "stdout",
     "output_type": "stream",
     "text": [
      "l\n"
     ]
    }
   ],
   "source": [
    "f = open(\"test.txt\",\"r\")\n",
    "f.seek(2) # Cursor moved to 2nd position\n",
    "print(f.read(1)) # Reads only 1 character\n",
    "f.close()"
   ]
  },
  {
   "cell_type": "code",
   "execution_count": 12,
   "id": "879c2363",
   "metadata": {},
   "outputs": [
    {
     "data": {
      "text/plain": [
       "19"
      ]
     },
     "execution_count": 12,
     "metadata": {},
     "output_type": "execute_result"
    }
   ],
   "source": [
    "f = open(\"test.txt\",\"rb\")\n",
    "f.seek(-3,2)"
   ]
  },
  {
   "cell_type": "markdown",
   "id": "51f61069",
   "metadata": {},
   "source": [
    "## Readline function"
   ]
  },
  {
   "cell_type": "code",
   "execution_count": 21,
   "id": "b02fde39",
   "metadata": {},
   "outputs": [
    {
     "data": {
      "text/plain": [
       "b'Hello WorldI am Bhavya\\n'"
      ]
     },
     "execution_count": 21,
     "metadata": {},
     "output_type": "execute_result"
    }
   ],
   "source": [
    "f.readline()"
   ]
  },
  {
   "cell_type": "code",
   "execution_count": 23,
   "id": "48db108e",
   "metadata": {},
   "outputs": [
    {
     "data": {
      "text/plain": [
       "b''"
      ]
     },
     "execution_count": 23,
     "metadata": {},
     "output_type": "execute_result"
    }
   ],
   "source": [
    "f.readline(3)"
   ]
  },
  {
   "cell_type": "markdown",
   "id": "6e857557",
   "metadata": {},
   "source": [
    "## Traversing data present in file"
   ]
  },
  {
   "cell_type": "code",
   "execution_count": 28,
   "id": "f646efcd",
   "metadata": {},
   "outputs": [],
   "source": [
    "f = open(\"test.txt\",\"r\")"
   ]
  },
  {
   "cell_type": "code",
   "execution_count": 29,
   "id": "830ae563",
   "metadata": {},
   "outputs": [
    {
     "name": "stdout",
     "output_type": "stream",
     "text": [
      "Hello WorldI am Bhavya\n",
      "Hi"
     ]
    }
   ],
   "source": [
    "for i in f:\n",
    "    print(i,end=\"\")"
   ]
  },
  {
   "cell_type": "code",
   "execution_count": 32,
   "id": "12face25",
   "metadata": {},
   "outputs": [
    {
     "data": {
      "text/plain": [
       "['Hello WorldI am Bhavya\\n', 'Hi']"
      ]
     },
     "execution_count": 32,
     "metadata": {},
     "output_type": "execute_result"
    }
   ],
   "source": [
    "list(f)"
   ]
  },
  {
   "cell_type": "markdown",
   "id": "356de30e",
   "metadata": {},
   "source": [
    "## Reading and Writing Mode"
   ]
  },
  {
   "cell_type": "code",
   "execution_count": 37,
   "id": "c526b74a",
   "metadata": {},
   "outputs": [
    {
     "data": {
      "text/plain": [
       "'Hello WorldI am Bhavya\\nHi'"
      ]
     },
     "execution_count": 37,
     "metadata": {},
     "output_type": "execute_result"
    }
   ],
   "source": [
    "f = open(\"test.txt\",\"r+\")\n",
    "f.read()"
   ]
  },
  {
   "cell_type": "code",
   "execution_count": 38,
   "id": "5fc0b7a0",
   "metadata": {},
   "outputs": [
    {
     "data": {
      "text/plain": [
       "5"
      ]
     },
     "execution_count": 38,
     "metadata": {},
     "output_type": "execute_result"
    }
   ],
   "source": [
    "f.write(\"Hello\")"
   ]
  },
  {
   "cell_type": "code",
   "execution_count": 40,
   "id": "413573c9",
   "metadata": {},
   "outputs": [
    {
     "data": {
      "text/plain": [
       "'Hello WorldI am Bhavya\\nHiHello'"
      ]
     },
     "execution_count": 40,
     "metadata": {},
     "output_type": "execute_result"
    }
   ],
   "source": [
    "f.seek(0)\n",
    "f.read()"
   ]
  },
  {
   "cell_type": "markdown",
   "id": "44a952e9",
   "metadata": {},
   "source": [
    "## Writelines function"
   ]
  },
  {
   "cell_type": "code",
   "execution_count": 41,
   "id": "6253837d",
   "metadata": {},
   "outputs": [],
   "source": [
    "f.writelines(\"Hey\")"
   ]
  },
  {
   "cell_type": "code",
   "execution_count": 43,
   "id": "d3b46747",
   "metadata": {},
   "outputs": [
    {
     "data": {
      "text/plain": [
       "'Hello WorldI am Bhavya\\nHiHelloHey'"
      ]
     },
     "execution_count": 43,
     "metadata": {},
     "output_type": "execute_result"
    }
   ],
   "source": [
    "f.seek(0)\n",
    "f.read()"
   ]
  },
  {
   "cell_type": "markdown",
   "id": "6092e6c1",
   "metadata": {},
   "source": [
    "## Fileno function"
   ]
  },
  {
   "cell_type": "code",
   "execution_count": 46,
   "id": "310035aa",
   "metadata": {},
   "outputs": [
    {
     "data": {
      "text/plain": [
       "5"
      ]
     },
     "execution_count": 46,
     "metadata": {},
     "output_type": "execute_result"
    }
   ],
   "source": [
    "f.fileno()"
   ]
  },
  {
   "cell_type": "markdown",
   "id": "f5d6ea07",
   "metadata": {},
   "source": [
    "## Another method for writing to file"
   ]
  },
  {
   "cell_type": "code",
   "execution_count": 47,
   "id": "ff2e8d38",
   "metadata": {},
   "outputs": [
    {
     "name": "stdout",
     "output_type": "stream",
     "text": [
      "Overwriting test.txt\n"
     ]
    }
   ],
   "source": [
    "%%writefile test.txt\n",
    "Hello"
   ]
  },
  {
   "cell_type": "markdown",
   "id": "75ca295c",
   "metadata": {},
   "source": [
    "# OPERATING SYSTEM"
   ]
  },
  {
   "cell_type": "code",
   "execution_count": 48,
   "id": "d65e31e7",
   "metadata": {},
   "outputs": [],
   "source": [
    "import os"
   ]
  },
  {
   "cell_type": "markdown",
   "id": "80e5afb5",
   "metadata": {},
   "source": [
    "## Getting to know about present working directory of Jupyter Notebook"
   ]
  },
  {
   "cell_type": "code",
   "execution_count": 49,
   "id": "27cb0160",
   "metadata": {},
   "outputs": [
    {
     "data": {
      "text/plain": [
       "'C:\\\\Users\\\\Asus'"
      ]
     },
     "execution_count": 49,
     "metadata": {},
     "output_type": "execute_result"
    }
   ],
   "source": [
    "pwd()"
   ]
  },
  {
   "cell_type": "code",
   "execution_count": 50,
   "id": "17ae6dcf",
   "metadata": {},
   "outputs": [
    {
     "data": {
      "text/plain": [
       "'C:\\\\Users\\\\Asus'"
      ]
     },
     "execution_count": 50,
     "metadata": {},
     "output_type": "execute_result"
    }
   ],
   "source": [
    "os.getcwd()"
   ]
  },
  {
   "cell_type": "markdown",
   "id": "d6d12bf7",
   "metadata": {},
   "source": [
    "## Getting to know the list of all files in the directory"
   ]
  },
  {
   "cell_type": "code",
   "execution_count": 51,
   "id": "e028bff6",
   "metadata": {},
   "outputs": [
    {
     "data": {
      "text/plain": [
       "['-1.14-windows.xml',\n",
       " '.android',\n",
       " '.bash_history',\n",
       " '.conda',\n",
       " '.condarc',\n",
       " '.continuum',\n",
       " '.emulator_console_auth_token',\n",
       " '.gitconfig',\n",
       " '.gradle',\n",
       " '.ipynb_checkpoints',\n",
       " '.ipython',\n",
       " '.jupyter',\n",
       " '.lesshst',\n",
       " '.matplotlib',\n",
       " '.ms-ad',\n",
       " '.packettracer',\n",
       " '.python_history',\n",
       " '.spyder-py3',\n",
       " '.ssh',\n",
       " '.viminfo',\n",
       " '.VirtualBox',\n",
       " '.vscode',\n",
       " '10th_October_2023_Python Basics.ipynb',\n",
       " '11th_October_2023_Conditional Statements Extended and While Loop.ipynb',\n",
       " '12th_October_2023_Loops and Data Structures in Python.ipynb',\n",
       " '16th_October_2023_Tuple Set and Dictionary.ipynb',\n",
       " '17th_October_2023_Functions.ipynb',\n",
       " '3D Objects',\n",
       " '8th_January_2024_Functions 2.ipynb',\n",
       " '9th_January_2024_File System and working with OS.ipynb',\n",
       " 'anaconda3',\n",
       " 'AppData',\n",
       " 'Application Data',\n",
       " 'Cisco Packet Tracer 8.2.1',\n",
       " 'Contacts',\n",
       " 'Cookies',\n",
       " 'Desktop',\n",
       " 'Documents',\n",
       " 'Documents-assets',\n",
       " 'Downloads',\n",
       " 'ELC',\n",
       " 'ELC1',\n",
       " 'Favorites',\n",
       " 'GNS3',\n",
       " 'IntelGraphicsProfiles',\n",
       " 'Jedi',\n",
       " 'Lab1_Basics.ipynb',\n",
       " 'Links',\n",
       " 'Local Settings',\n",
       " 'Music',\n",
       " 'My Documents',\n",
       " 'My project',\n",
       " 'NetHood',\n",
       " 'NTUSER.DAT',\n",
       " 'ntuser.dat.LOG1',\n",
       " 'ntuser.dat.LOG2',\n",
       " 'NTUSER.DAT{2fd3b5ae-de3d-11ed-a33f-0c7a1586f23b}.TM.blf',\n",
       " 'NTUSER.DAT{2fd3b5ae-de3d-11ed-a33f-0c7a1586f23b}.TMContainer00000000000000000001.regtrans-ms',\n",
       " 'NTUSER.DAT{2fd3b5ae-de3d-11ed-a33f-0c7a1586f23b}.TMContainer00000000000000000002.regtrans-ms',\n",
       " 'ntuser.ini',\n",
       " 'OneDrive',\n",
       " 'Oracle',\n",
       " 'Pictures',\n",
       " 'Postman',\n",
       " 'PrintHood',\n",
       " 'Recent',\n",
       " 'Saved Games',\n",
       " 'Searches',\n",
       " 'SendTo',\n",
       " 'Start Menu',\n",
       " 'StudioProjects',\n",
       " 'Templates',\n",
       " 'test.txt',\n",
       " 'test1.txt',\n",
       " 'test2',\n",
       " 'Videos']"
      ]
     },
     "execution_count": 51,
     "metadata": {},
     "output_type": "execute_result"
    }
   ],
   "source": [
    "os.listdir()"
   ]
  },
  {
   "cell_type": "code",
   "execution_count": 52,
   "id": "af3df9fb",
   "metadata": {},
   "outputs": [
    {
     "data": {
      "text/plain": [
       "['All Users', 'Asus', 'Default', 'Default User', 'desktop.ini', 'Public']"
      ]
     },
     "execution_count": 52,
     "metadata": {},
     "output_type": "execute_result"
    }
   ],
   "source": [
    "os.listdir('C:\\\\Users')"
   ]
  },
  {
   "cell_type": "markdown",
   "id": "bf3cd2bd",
   "metadata": {},
   "source": [
    "## Changing the directory"
   ]
  },
  {
   "cell_type": "code",
   "execution_count": 53,
   "id": "069365ea",
   "metadata": {},
   "outputs": [],
   "source": [
    "os.chdir('C:\\\\Users')"
   ]
  },
  {
   "cell_type": "code",
   "execution_count": 54,
   "id": "68769c7a",
   "metadata": {},
   "outputs": [
    {
     "data": {
      "text/plain": [
       "'C:\\\\Users'"
      ]
     },
     "execution_count": 54,
     "metadata": {},
     "output_type": "execute_result"
    }
   ],
   "source": [
    "os.getcwd()"
   ]
  },
  {
   "cell_type": "markdown",
   "id": "dd4e3ad6",
   "metadata": {},
   "source": [
    "## Creating a directory"
   ]
  },
  {
   "cell_type": "code",
   "execution_count": 57,
   "id": "a4c463ef",
   "metadata": {},
   "outputs": [],
   "source": [
    "os.chdir(\"C:\\\\Users\\\\Asus\\\\Desktop\\\\New\")"
   ]
  },
  {
   "cell_type": "code",
   "execution_count": 58,
   "id": "8ed1de03",
   "metadata": {},
   "outputs": [],
   "source": [
    "os.mkdir(\"Python\")"
   ]
  },
  {
   "cell_type": "code",
   "execution_count": 59,
   "id": "bf024198",
   "metadata": {},
   "outputs": [
    {
     "data": {
      "text/plain": [
       "['Python']"
      ]
     },
     "execution_count": 59,
     "metadata": {},
     "output_type": "execute_result"
    }
   ],
   "source": [
    "os.listdir()"
   ]
  },
  {
   "cell_type": "markdown",
   "id": "5d5568eb",
   "metadata": {},
   "source": [
    "## Renaming a file"
   ]
  },
  {
   "cell_type": "code",
   "execution_count": 65,
   "id": "5aebca3f",
   "metadata": {},
   "outputs": [
    {
     "data": {
      "text/plain": [
       "['Python', 'test.txt']"
      ]
     },
     "execution_count": 65,
     "metadata": {},
     "output_type": "execute_result"
    }
   ],
   "source": [
    "os.listdir()"
   ]
  },
  {
   "cell_type": "code",
   "execution_count": 66,
   "id": "8a9eb51c",
   "metadata": {},
   "outputs": [],
   "source": [
    "os.rename(\"test.txt\",\"hello.txt\")"
   ]
  },
  {
   "cell_type": "code",
   "execution_count": 67,
   "id": "d3ae2f9c",
   "metadata": {},
   "outputs": [
    {
     "data": {
      "text/plain": [
       "['hello.txt', 'Python']"
      ]
     },
     "execution_count": 67,
     "metadata": {},
     "output_type": "execute_result"
    }
   ],
   "source": [
    "os.listdir()"
   ]
  },
  {
   "cell_type": "markdown",
   "id": "fe22471f",
   "metadata": {},
   "source": [
    "## Removing directory"
   ]
  },
  {
   "cell_type": "code",
   "execution_count": 68,
   "id": "5808c23f",
   "metadata": {},
   "outputs": [],
   "source": [
    "os.rmdir(\"Python\")"
   ]
  },
  {
   "cell_type": "code",
   "execution_count": 69,
   "id": "c4399715",
   "metadata": {},
   "outputs": [
    {
     "data": {
      "text/plain": [
       "['hello.txt']"
      ]
     },
     "execution_count": 69,
     "metadata": {},
     "output_type": "execute_result"
    }
   ],
   "source": [
    "os.listdir()"
   ]
  },
  {
   "cell_type": "markdown",
   "id": "94290f96",
   "metadata": {},
   "source": [
    "### Check if a file is present in the current directory or not"
   ]
  },
  {
   "cell_type": "code",
   "execution_count": 60,
   "id": "0ecd0758",
   "metadata": {},
   "outputs": [
    {
     "name": "stdout",
     "output_type": "stream",
     "text": [
      "Absent\n"
     ]
    }
   ],
   "source": [
    "if \"hello.txt\" in os.listdir():\n",
    "    print(\"Present\")\n",
    "else:\n",
    "    print(\"Absent\")"
   ]
  },
  {
   "cell_type": "markdown",
   "id": "7fde9d95",
   "metadata": {},
   "source": [
    "### Check if a directory is present or not"
   ]
  },
  {
   "cell_type": "code",
   "execution_count": 61,
   "id": "776500f6",
   "metadata": {},
   "outputs": [
    {
     "name": "stdout",
     "output_type": "stream",
     "text": [
      "Present\n"
     ]
    }
   ],
   "source": [
    "if os.path.isdir(\"Python\"):\n",
    "    print(\"Present\")\n",
    "else:\n",
    "    print(\"Absent\")"
   ]
  },
  {
   "cell_type": "markdown",
   "id": "99251d00",
   "metadata": {},
   "source": [
    "### Task\n",
    "### Q1. Create a new directory named hello\n",
    "### Q2. Create 10 text files and write some data in all text files in the hello directory\n",
    "### Q3. Read all the data from all the 10 text files and print in the console\n",
    "### Q4. Hold all the data in a list\n",
    "### Q5. Write all the data in a new file from the list"
   ]
  },
  {
   "cell_type": "markdown",
   "id": "19bf0944",
   "metadata": {},
   "source": [
    "### Solution of Q1"
   ]
  },
  {
   "cell_type": "code",
   "execution_count": 3,
   "id": "bda42190",
   "metadata": {},
   "outputs": [],
   "source": [
    "import os\n",
    "os.chdir(\"C:\\\\Users\\\\Asus\\\\Desktop\")"
   ]
  },
  {
   "cell_type": "code",
   "execution_count": 8,
   "id": "a8982d23",
   "metadata": {},
   "outputs": [],
   "source": [
    "os.mkdir(\"Hello\")"
   ]
  },
  {
   "cell_type": "code",
   "execution_count": 9,
   "id": "1010d830",
   "metadata": {},
   "outputs": [
    {
     "data": {
      "text/plain": [
       "['6th Semester',\n",
       " 'Bhavya',\n",
       " 'desktop.ini',\n",
       " 'Hello',\n",
       " 'New folder',\n",
       " 'SET - A.docx',\n",
       " 'SET - B.docx']"
      ]
     },
     "execution_count": 9,
     "metadata": {},
     "output_type": "execute_result"
    }
   ],
   "source": [
    "os.listdir()"
   ]
  },
  {
   "cell_type": "code",
   "execution_count": 10,
   "id": "0145ed9a",
   "metadata": {},
   "outputs": [],
   "source": [
    "os.chdir(\"C:\\\\Users\\\\Asus\\\\Desktop\\\\Hello\")"
   ]
  },
  {
   "cell_type": "markdown",
   "id": "2509d53f",
   "metadata": {},
   "source": [
    "### Solution of Q2"
   ]
  },
  {
   "cell_type": "code",
   "execution_count": 19,
   "id": "7e4d9a00",
   "metadata": {},
   "outputs": [
    {
     "data": {
      "text/plain": [
       "['test1.txt',\n",
       " 'test10.txt',\n",
       " 'test2.txt',\n",
       " 'test3.txt',\n",
       " 'test4.txt',\n",
       " 'test5.txt',\n",
       " 'test6.txt',\n",
       " 'test7.txt',\n",
       " 'test8.txt',\n",
       " 'test9.txt']"
      ]
     },
     "execution_count": 19,
     "metadata": {},
     "output_type": "execute_result"
    }
   ],
   "source": [
    "for i in range(1,11):\n",
    "    file_name = 'test'+str(i)+'.txt'\n",
    "    f = open(file_name,\"wb\")\n",
    "os.listdir()"
   ]
  },
  {
   "cell_type": "code",
   "execution_count": 21,
   "id": "9a588ea1",
   "metadata": {},
   "outputs": [],
   "source": [
    "for i in os.listdir():\n",
    "    f = open(i,\"w\")\n",
    "    f.write(\"Hello World\" + str(i))"
   ]
  },
  {
   "cell_type": "markdown",
   "id": "459e7474",
   "metadata": {},
   "source": [
    "### Solution of Q3"
   ]
  },
  {
   "cell_type": "code",
   "execution_count": 22,
   "id": "2ccd4d9a",
   "metadata": {},
   "outputs": [
    {
     "name": "stdout",
     "output_type": "stream",
     "text": [
      "Hello Worldtest1.txt\n",
      "Hello Worldtest10.txt\n",
      "Hello Worldtest2.txt\n",
      "Hello Worldtest3.txt\n",
      "Hello Worldtest4.txt\n",
      "Hello Worldtest5.txt\n",
      "Hello Worldtest6.txt\n",
      "Hello Worldtest7.txt\n",
      "Hello Worldtest8.txt\n",
      "Hello Worldtest9.txt\n"
     ]
    }
   ],
   "source": [
    "for i in os.listdir():\n",
    "    f = open(i,\"r\")\n",
    "    print(f.read())"
   ]
  },
  {
   "cell_type": "markdown",
   "id": "65eaeeec",
   "metadata": {},
   "source": [
    "### Solution of Q4"
   ]
  },
  {
   "cell_type": "code",
   "execution_count": 23,
   "id": "c140db56",
   "metadata": {},
   "outputs": [
    {
     "name": "stdout",
     "output_type": "stream",
     "text": [
      "['Hello Worldtest1.txt', 'Hello Worldtest10.txt', 'Hello Worldtest2.txt', 'Hello Worldtest3.txt', 'Hello Worldtest4.txt', 'Hello Worldtest5.txt', 'Hello Worldtest6.txt', 'Hello Worldtest7.txt', 'Hello Worldtest8.txt', 'Hello Worldtest9.txt']\n"
     ]
    }
   ],
   "source": [
    "my_list = []\n",
    "for i in os.listdir():\n",
    "    f = open(i,\"r\")\n",
    "    my_list.append(f.read())\n",
    "print(my_list)"
   ]
  },
  {
   "cell_type": "markdown",
   "id": "50ccda0b",
   "metadata": {},
   "source": [
    "### Solution of Q5"
   ]
  },
  {
   "cell_type": "code",
   "execution_count": 28,
   "id": "64ee82cf",
   "metadata": {},
   "outputs": [],
   "source": [
    "f = open(\"CombinedText.txt\",\"w\")\n",
    "for i in my_list:\n",
    "    f.write(str(i))"
   ]
  }
 ],
 "metadata": {
  "kernelspec": {
   "display_name": "Python 3 (ipykernel)",
   "language": "python",
   "name": "python3"
  },
  "language_info": {
   "codemirror_mode": {
    "name": "ipython",
    "version": 3
   },
   "file_extension": ".py",
   "mimetype": "text/x-python",
   "name": "python",
   "nbconvert_exporter": "python",
   "pygments_lexer": "ipython3",
   "version": "3.9.7"
  }
 },
 "nbformat": 4,
 "nbformat_minor": 5
}
