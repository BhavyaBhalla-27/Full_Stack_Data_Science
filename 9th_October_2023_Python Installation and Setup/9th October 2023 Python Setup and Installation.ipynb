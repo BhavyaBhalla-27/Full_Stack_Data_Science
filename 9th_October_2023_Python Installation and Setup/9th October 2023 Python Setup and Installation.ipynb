{
 "cells": [
  {
   "cell_type": "markdown",
   "id": "5828268e-ac5e-4908-8e3e-4f0365c0c97f",
   "metadata": {},
   "source": [
    "# 9th October 2023 - Python Installation and Setup"
   ]
  },
  {
   "cell_type": "markdown",
   "id": "41939388-80a9-4d23-b36c-adbc03c509df",
   "metadata": {},
   "source": [
    "### Steps\n",
    "#### 1) Install the anaconda installer from the website : https://www.anaconda.com/\n",
    "#### 2) Just click next until we have installed it.\n",
    "#### 3) Open anaconda prompt and if it opens successfully, this means that anaconda is successfully installed.\n",
    "#### 4) Write python to see the version of python.\n",
    "#### 5) We can open jupyter notebook using the command prompt or anaconda navigator also. Type command jupyter notebook in anaconda prompt."
   ]
  },
  {
   "cell_type": "code",
   "execution_count": 1,
   "id": "8857040e-5a10-4db7-ad25-eaa3753ca1a4",
   "metadata": {},
   "outputs": [
    {
     "name": "stdout",
     "output_type": "stream",
     "text": [
      "The Zen of Python, by Tim Peters\n",
      "\n",
      "Beautiful is better than ugly.\n",
      "Explicit is better than implicit.\n",
      "Simple is better than complex.\n",
      "Complex is better than complicated.\n",
      "Flat is better than nested.\n",
      "Sparse is better than dense.\n",
      "Readability counts.\n",
      "Special cases aren't special enough to break the rules.\n",
      "Although practicality beats purity.\n",
      "Errors should never pass silently.\n",
      "Unless explicitly silenced.\n",
      "In the face of ambiguity, refuse the temptation to guess.\n",
      "There should be one-- and preferably only one --obvious way to do it.\n",
      "Although that way may not be obvious at first unless you're Dutch.\n",
      "Now is better than never.\n",
      "Although never is often better than *right* now.\n",
      "If the implementation is hard to explain, it's a bad idea.\n",
      "If the implementation is easy to explain, it may be a good idea.\n",
      "Namespaces are one honking great idea -- let's do more of those!\n"
     ]
    }
   ],
   "source": [
    "# We will get to know the THEME OF PYTHON\n",
    "import this"
   ]
  },
  {
   "cell_type": "code",
   "execution_count": 2,
   "id": "a6837b5c-23cd-47da-ac89-4618f2335793",
   "metadata": {},
   "outputs": [
    {
     "name": "stdout",
     "output_type": "stream",
     "text": [
      "Bhavya\n"
     ]
    }
   ],
   "source": [
    "# Here we will be printing Bhavya. (Shift + Tab to know what the function do)\n",
    "print(\"Bhavya\") "
   ]
  }
 ],
 "metadata": {
  "kernelspec": {
   "display_name": "Python 3 (ipykernel)",
   "language": "python",
   "name": "python3"
  },
  "language_info": {
   "codemirror_mode": {
    "name": "ipython",
    "version": 3
   },
   "file_extension": ".py",
   "mimetype": "text/x-python",
   "name": "python",
   "nbconvert_exporter": "python",
   "pygments_lexer": "ipython3",
   "version": "3.10.6"
  }
 },
 "nbformat": 4,
 "nbformat_minor": 5
}
